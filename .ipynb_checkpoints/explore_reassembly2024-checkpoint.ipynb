{
 "cells": [
  {
   "cell_type": "code",
   "execution_count": 1,
   "id": "b2f52b95-5b52-49ee-8cad-f49f77a19013",
   "metadata": {},
   "outputs": [],
   "source": [
    "import pandas as pd\n",
    "import numpy as np\n",
    "import matplotlib.pyplot as plt\n",
    "import ipywidgets as widgets\n",
    "from ipywidgets import fixed\n",
    "# data ip and struct \n",
    "import socket, struct\n",
    "import time"
   ]
  },
  {
   "cell_type": "markdown",
   "id": "de755197-f026-403a-a71c-45d93409e11e",
   "metadata": {},
   "source": [
    "# Funciones\n",
    "___"
   ]
  },
  {
   "cell_type": "code",
   "execution_count": 2,
   "id": "e20f07ee-1188-4fb7-aa26-a1ecc3cb9e5e",
   "metadata": {},
   "outputs": [],
   "source": [
    "def ip2long(ip):\n",
    "    \"\"\"\n",
    "    Convert an IP string to long\n",
    "    \"\"\"\n",
    "    packedIP = socket.inet_aton(ip)\n",
    "    return struct.unpack(\"!L\", packedIP)[0]"
   ]
  },
  {
   "cell_type": "markdown",
   "id": "bd420172-f84f-427c-b2b7-6d58c365511f",
   "metadata": {},
   "source": [
    "<div class=\"alert alert-block alert-info\">\n",
    "<b>NUEVO CAPITULO:</b> Leer los datos obtenidos de Anteater/Tranalyzer  <br>\n",
    "Y se realiza una exploracion basica y un TOP de datos \n",
    "</div>"
   ]
  },
  {
   "cell_type": "code",
   "execution_count": 4,
   "id": "ea21beb6-0b35-479a-b4af-932aa3791cb2",
   "metadata": {},
   "outputs": [
    {
     "data": {
      "text/html": [
       "<div>\n",
       "<style scoped>\n",
       "    .dataframe tbody tr th:only-of-type {\n",
       "        vertical-align: middle;\n",
       "    }\n",
       "\n",
       "    .dataframe tbody tr th {\n",
       "        vertical-align: top;\n",
       "    }\n",
       "\n",
       "    .dataframe thead th {\n",
       "        text-align: right;\n",
       "    }\n",
       "</style>\n",
       "<table border=\"1\" class=\"dataframe\">\n",
       "  <thead>\n",
       "    <tr style=\"text-align: right;\">\n",
       "      <th></th>\n",
       "      <th>dir</th>\n",
       "      <th>flowInd</th>\n",
       "      <th>flowStat</th>\n",
       "      <th>timeFirst</th>\n",
       "      <th>timeLast</th>\n",
       "      <th>duration</th>\n",
       "      <th>numHdrDesc</th>\n",
       "      <th>numHdrs</th>\n",
       "      <th>hdrDesc</th>\n",
       "      <th>srcIP</th>\n",
       "      <th>...</th>\n",
       "      <th>nDPIMstrProto</th>\n",
       "      <th>nDPISubProto</th>\n",
       "      <th>nDPIclass</th>\n",
       "      <th>numPktsSnt</th>\n",
       "      <th>numPktsRcvd</th>\n",
       "      <th>numPktsRTAggr</th>\n",
       "      <th>numBytesSnt</th>\n",
       "      <th>numBytesRcvd</th>\n",
       "      <th>numBytesRTAggr</th>\n",
       "      <th>tcpStatesAFlags</th>\n",
       "    </tr>\n",
       "  </thead>\n",
       "  <tbody>\n",
       "    <tr>\n",
       "      <th>0</th>\n",
       "      <td>A</td>\n",
       "      <td>36</td>\n",
       "      <td>0x0400000000004000</td>\n",
       "      <td>1.694367e+09</td>\n",
       "      <td>1.694367e+09</td>\n",
       "      <td>0.000000</td>\n",
       "      <td>1</td>\n",
       "      <td>3</td>\n",
       "      <td>eth:ipv4:tcp</td>\n",
       "      <td>10.99.5.10</td>\n",
       "      <td>...</td>\n",
       "      <td>244</td>\n",
       "      <td>0</td>\n",
       "      <td>DNP3</td>\n",
       "      <td>1</td>\n",
       "      <td>0</td>\n",
       "      <td>1</td>\n",
       "      <td>0</td>\n",
       "      <td>0</td>\n",
       "      <td>0</td>\n",
       "      <td>0x03</td>\n",
       "    </tr>\n",
       "    <tr>\n",
       "      <th>1</th>\n",
       "      <td>A</td>\n",
       "      <td>38</td>\n",
       "      <td>0x0400000000004000</td>\n",
       "      <td>1.694367e+09</td>\n",
       "      <td>1.694367e+09</td>\n",
       "      <td>0.000000</td>\n",
       "      <td>1</td>\n",
       "      <td>3</td>\n",
       "      <td>eth:ipv4:tcp</td>\n",
       "      <td>10.99.5.9</td>\n",
       "      <td>...</td>\n",
       "      <td>244</td>\n",
       "      <td>0</td>\n",
       "      <td>DNP3</td>\n",
       "      <td>1</td>\n",
       "      <td>0</td>\n",
       "      <td>1</td>\n",
       "      <td>0</td>\n",
       "      <td>0</td>\n",
       "      <td>0</td>\n",
       "      <td>0x03</td>\n",
       "    </tr>\n",
       "    <tr>\n",
       "      <th>2</th>\n",
       "      <td>A</td>\n",
       "      <td>82</td>\n",
       "      <td>0x0400000000004000</td>\n",
       "      <td>1.694367e+09</td>\n",
       "      <td>1.694367e+09</td>\n",
       "      <td>0.000000</td>\n",
       "      <td>1</td>\n",
       "      <td>3</td>\n",
       "      <td>eth:ipv4:tcp</td>\n",
       "      <td>9.9.5.10</td>\n",
       "      <td>...</td>\n",
       "      <td>244</td>\n",
       "      <td>0</td>\n",
       "      <td>DNP3</td>\n",
       "      <td>1</td>\n",
       "      <td>0</td>\n",
       "      <td>1</td>\n",
       "      <td>0</td>\n",
       "      <td>0</td>\n",
       "      <td>0</td>\n",
       "      <td>0x03</td>\n",
       "    </tr>\n",
       "    <tr>\n",
       "      <th>3</th>\n",
       "      <td>A</td>\n",
       "      <td>83</td>\n",
       "      <td>0x0400000000004000</td>\n",
       "      <td>1.694367e+09</td>\n",
       "      <td>1.694367e+09</td>\n",
       "      <td>3.000013</td>\n",
       "      <td>1</td>\n",
       "      <td>3</td>\n",
       "      <td>eth:ipv4:tcp</td>\n",
       "      <td>10.99.5.10</td>\n",
       "      <td>...</td>\n",
       "      <td>244</td>\n",
       "      <td>0</td>\n",
       "      <td>DNP3</td>\n",
       "      <td>2</td>\n",
       "      <td>0</td>\n",
       "      <td>2</td>\n",
       "      <td>0</td>\n",
       "      <td>0</td>\n",
       "      <td>0</td>\n",
       "      <td>0x03</td>\n",
       "    </tr>\n",
       "    <tr>\n",
       "      <th>4</th>\n",
       "      <td>A</td>\n",
       "      <td>84</td>\n",
       "      <td>0x0400000000004000</td>\n",
       "      <td>1.694367e+09</td>\n",
       "      <td>1.694367e+09</td>\n",
       "      <td>3.000013</td>\n",
       "      <td>1</td>\n",
       "      <td>3</td>\n",
       "      <td>eth:ipv4:tcp</td>\n",
       "      <td>10.99.5.10</td>\n",
       "      <td>...</td>\n",
       "      <td>244</td>\n",
       "      <td>0</td>\n",
       "      <td>DNP3</td>\n",
       "      <td>2</td>\n",
       "      <td>0</td>\n",
       "      <td>2</td>\n",
       "      <td>0</td>\n",
       "      <td>0</td>\n",
       "      <td>0</td>\n",
       "      <td>0x03</td>\n",
       "    </tr>\n",
       "  </tbody>\n",
       "</table>\n",
       "<p>5 rows × 24 columns</p>\n",
       "</div>"
      ],
      "text/plain": [
       "  dir  flowInd            flowStat     timeFirst      timeLast  duration  \\\n",
       "0   A       36  0x0400000000004000  1.694367e+09  1.694367e+09  0.000000   \n",
       "1   A       38  0x0400000000004000  1.694367e+09  1.694367e+09  0.000000   \n",
       "2   A       82  0x0400000000004000  1.694367e+09  1.694367e+09  0.000000   \n",
       "3   A       83  0x0400000000004000  1.694367e+09  1.694367e+09  3.000013   \n",
       "4   A       84  0x0400000000004000  1.694367e+09  1.694367e+09  3.000013   \n",
       "\n",
       "   numHdrDesc  numHdrs       hdrDesc       srcIP  ...  nDPIMstrProto  \\\n",
       "0           1        3  eth:ipv4:tcp  10.99.5.10  ...            244   \n",
       "1           1        3  eth:ipv4:tcp   10.99.5.9  ...            244   \n",
       "2           1        3  eth:ipv4:tcp    9.9.5.10  ...            244   \n",
       "3           1        3  eth:ipv4:tcp  10.99.5.10  ...            244   \n",
       "4           1        3  eth:ipv4:tcp  10.99.5.10  ...            244   \n",
       "\n",
       "  nDPISubProto  nDPIclass  numPktsSnt  numPktsRcvd  numPktsRTAggr numBytesSnt  \\\n",
       "0            0       DNP3           1            0              1           0   \n",
       "1            0       DNP3           1            0              1           0   \n",
       "2            0       DNP3           1            0              1           0   \n",
       "3            0       DNP3           2            0              2           0   \n",
       "4            0       DNP3           2            0              2           0   \n",
       "\n",
       "   numBytesRcvd  numBytesRTAggr  tcpStatesAFlags  \n",
       "0             0               0             0x03  \n",
       "1             0               0             0x03  \n",
       "2             0               0             0x03  \n",
       "3             0               0             0x03  \n",
       "4             0               0             0x03  \n",
       "\n",
       "[5 rows x 24 columns]"
      ]
     },
     "execution_count": 4,
     "metadata": {},
     "output_type": "execute_result"
    }
   ],
   "source": [
    "dfAll = pd.read_csv('data/pcap_list_flows.csv')  \n",
    "dfAll = dfAll[dfAll['dir']=='A']\n",
    "dfAll.head()"
   ]
  },
  {
   "cell_type": "markdown",
   "id": "1c2f5140-d82e-4daa-a2dc-3662f6d28ad7",
   "metadata": {},
   "source": [
    "# Explore data\n",
    "___"
   ]
  },
  {
   "cell_type": "code",
   "execution_count": 5,
   "id": "b13fc787-ec49-494f-9474-c2fc913fa2ac",
   "metadata": {},
   "outputs": [
    {
     "name": "stdout",
     "output_type": "stream",
     "text": [
      "<class 'pandas.core.frame.DataFrame'>\n",
      "Index: 99413 entries, 0 to 139327\n",
      "Data columns (total 24 columns):\n",
      " #   Column           Non-Null Count  Dtype  \n",
      "---  ------           --------------  -----  \n",
      " 0   dir              99413 non-null  object \n",
      " 1   flowInd          99413 non-null  int64  \n",
      " 2   flowStat         99413 non-null  object \n",
      " 3   timeFirst        99413 non-null  float64\n",
      " 4   timeLast         99413 non-null  float64\n",
      " 5   duration         99413 non-null  float64\n",
      " 6   numHdrDesc       99413 non-null  int64  \n",
      " 7   numHdrs          99413 non-null  int64  \n",
      " 8   hdrDesc          99413 non-null  object \n",
      " 9   srcIP            99413 non-null  object \n",
      " 10  srcPort          99413 non-null  int64  \n",
      " 11  dstIP            99413 non-null  object \n",
      " 12  dstPort          99413 non-null  int64  \n",
      " 13  l4Proto          99413 non-null  int64  \n",
      " 14  nDPIMstrProto    99413 non-null  int64  \n",
      " 15  nDPISubProto     99413 non-null  int64  \n",
      " 16  nDPIclass        99413 non-null  object \n",
      " 17  numPktsSnt       99413 non-null  int64  \n",
      " 18  numPktsRcvd      99413 non-null  int64  \n",
      " 19  numPktsRTAggr    99413 non-null  int64  \n",
      " 20  numBytesSnt      99413 non-null  int64  \n",
      " 21  numBytesRcvd     99413 non-null  int64  \n",
      " 22  numBytesRTAggr   99413 non-null  int64  \n",
      " 23  tcpStatesAFlags  99413 non-null  object \n",
      "dtypes: float64(3), int64(14), object(7)\n",
      "memory usage: 19.0+ MB\n"
     ]
    }
   ],
   "source": [
    "dfAll.info()"
   ]
  },
  {
   "cell_type": "markdown",
   "id": "0aec6122-bc06-4d21-a765-ffa119f35280",
   "metadata": {},
   "source": [
    "## Time first & last seen of flows"
   ]
  },
  {
   "cell_type": "code",
   "execution_count": 6,
   "id": "856020ce-b5ae-4513-a0e7-a96c361ec907",
   "metadata": {},
   "outputs": [
    {
     "data": {
      "text/plain": [
       "Timestamp('2023-09-10 11:36:51.000531912-0600', tz='Etc/GMT+6')"
      ]
     },
     "execution_count": 6,
     "metadata": {},
     "output_type": "execute_result"
    }
   ],
   "source": [
    "min_datetime = dfAll.timeLast.min()\n",
    "min_datetime = pd.to_datetime(min_datetime, unit='s', origin='unix')\n",
    "min_datetime = min_datetime.tz_localize('UTC').tz_convert(\"Etc/GMT+6\") # Etc/GMT+6 offset +06:00 to UTC\n",
    "min_datetime"
   ]
  },
  {
   "cell_type": "code",
   "execution_count": 7,
   "id": "6782c55d-7049-4318-a6b3-9acd0a0bdff9",
   "metadata": {},
   "outputs": [
    {
     "data": {
      "text/plain": [
       "Timestamp('2023-09-11 11:36:51.000807524-0600', tz='Etc/GMT+6')"
      ]
     },
     "execution_count": 7,
     "metadata": {},
     "output_type": "execute_result"
    }
   ],
   "source": [
    "max_datetime = dfAll.timeLast.max()\n",
    "max_datetime = pd.to_datetime(max_datetime, unit='s', origin='unix')\n",
    "max_datetime = max_datetime.tz_localize('UTC').tz_convert(\"Etc/GMT+6\") # Etc/GMT+6 offset +06:00 to UTC\n",
    "max_datetime"
   ]
  }
 ],
 "metadata": {
  "kernelspec": {
   "display_name": "firma-kernel",
   "language": "python",
   "name": "firma-kernel"
  },
  "language_info": {
   "codemirror_mode": {
    "name": "ipython",
    "version": 3
   },
   "file_extension": ".py",
   "mimetype": "text/x-python",
   "name": "python",
   "nbconvert_exporter": "python",
   "pygments_lexer": "ipython3",
   "version": "3.11.4"
  }
 },
 "nbformat": 4,
 "nbformat_minor": 5
}
