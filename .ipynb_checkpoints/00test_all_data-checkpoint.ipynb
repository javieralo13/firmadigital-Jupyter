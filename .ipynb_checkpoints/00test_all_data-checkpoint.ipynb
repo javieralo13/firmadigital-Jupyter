{
 "cells": [
  {
   "cell_type": "code",
   "execution_count": 1,
   "id": "680e0759-860d-439e-959e-0a259d9a32c9",
   "metadata": {
    "tags": []
   },
   "outputs": [],
   "source": [
    "import pandas as pd\n",
    "import matplotlib.pyplot as plt"
   ]
  },
  {
   "cell_type": "markdown",
   "id": "1071fbe4-d127-45ef-9654-0e9acd5ecf02",
   "metadata": {
    "jp-MarkdownHeadingCollapsed": true,
    "tags": []
   },
   "source": [
    "# Leer datos RTU\n",
    "Conclusion: 21 Columnas 325129 filas, todos los datos 52.1+ MB en RAM"
   ]
  },
  {
   "cell_type": "code",
   "execution_count": 2,
   "id": "4fa2f313-57f3-443a-93e1-35cee997df57",
   "metadata": {
    "tags": []
   },
   "outputs": [
    {
     "data": {
      "text/html": [
       "<div>\n",
       "<style scoped>\n",
       "    .dataframe tbody tr th:only-of-type {\n",
       "        vertical-align: middle;\n",
       "    }\n",
       "\n",
       "    .dataframe tbody tr th {\n",
       "        vertical-align: top;\n",
       "    }\n",
       "\n",
       "    .dataframe thead th {\n",
       "        text-align: right;\n",
       "    }\n",
       "</style>\n",
       "<table border=\"1\" class=\"dataframe\">\n",
       "  <thead>\n",
       "    <tr style=\"text-align: right;\">\n",
       "      <th></th>\n",
       "      <th>dir</th>\n",
       "      <th>flowInd</th>\n",
       "      <th>flowStat</th>\n",
       "      <th>timeFirst</th>\n",
       "      <th>timeLast</th>\n",
       "      <th>duration</th>\n",
       "      <th>srcIP</th>\n",
       "      <th>srcPort</th>\n",
       "      <th>dstIP</th>\n",
       "      <th>dstPort</th>\n",
       "      <th>...</th>\n",
       "      <th>dstPortClassN</th>\n",
       "      <th>dstPortClass</th>\n",
       "      <th>nDPIMasterProto</th>\n",
       "      <th>nDPISubProto</th>\n",
       "      <th>nDPIclass</th>\n",
       "      <th>numPktsSnt</th>\n",
       "      <th>numPktsRTAggr</th>\n",
       "      <th>numBytesSnt</th>\n",
       "      <th>numBytesRTAggr</th>\n",
       "      <th>tcpStatesAFlags</th>\n",
       "    </tr>\n",
       "  </thead>\n",
       "  <tbody>\n",
       "    <tr>\n",
       "      <th>0</th>\n",
       "      <td>A</td>\n",
       "      <td>1</td>\n",
       "      <td>0x0400020000004000</td>\n",
       "      <td>1.673968e+09</td>\n",
       "      <td>1.673969e+09</td>\n",
       "      <td>297.552491</td>\n",
       "      <td>9.9.5.9</td>\n",
       "      <td>36276</td>\n",
       "      <td>9.9.5.108</td>\n",
       "      <td>20000</td>\n",
       "      <td>...</td>\n",
       "      <td>20000</td>\n",
       "      <td>dnp</td>\n",
       "      <td>244</td>\n",
       "      <td>0</td>\n",
       "      <td>DNP3</td>\n",
       "      <td>150</td>\n",
       "      <td>300</td>\n",
       "      <td>1350</td>\n",
       "      <td>14700</td>\n",
       "      <td>0x03</td>\n",
       "    </tr>\n",
       "    <tr>\n",
       "      <th>1</th>\n",
       "      <td>B</td>\n",
       "      <td>1</td>\n",
       "      <td>0x0400000000004001</td>\n",
       "      <td>1.673968e+09</td>\n",
       "      <td>1.673969e+09</td>\n",
       "      <td>297.451999</td>\n",
       "      <td>9.9.5.108</td>\n",
       "      <td>20000</td>\n",
       "      <td>9.9.5.9</td>\n",
       "      <td>36276</td>\n",
       "      <td>...</td>\n",
       "      <td>20000</td>\n",
       "      <td>dnp</td>\n",
       "      <td>244</td>\n",
       "      <td>0</td>\n",
       "      <td>DNP3</td>\n",
       "      <td>150</td>\n",
       "      <td>300</td>\n",
       "      <td>13350</td>\n",
       "      <td>14700</td>\n",
       "      <td>0x03</td>\n",
       "    </tr>\n",
       "    <tr>\n",
       "      <th>2</th>\n",
       "      <td>A</td>\n",
       "      <td>2</td>\n",
       "      <td>0x0400000000004000</td>\n",
       "      <td>1.673968e+09</td>\n",
       "      <td>1.673969e+09</td>\n",
       "      <td>297.243289</td>\n",
       "      <td>9.9.5.211</td>\n",
       "      <td>20000</td>\n",
       "      <td>9.9.5.9</td>\n",
       "      <td>38815</td>\n",
       "      <td>...</td>\n",
       "      <td>38815</td>\n",
       "      <td>unknown</td>\n",
       "      <td>244</td>\n",
       "      <td>0</td>\n",
       "      <td>DNP3</td>\n",
       "      <td>164</td>\n",
       "      <td>402</td>\n",
       "      <td>3975</td>\n",
       "      <td>5307</td>\n",
       "      <td>0x03</td>\n",
       "    </tr>\n",
       "    <tr>\n",
       "      <th>3</th>\n",
       "      <td>B</td>\n",
       "      <td>2</td>\n",
       "      <td>0x0400020000004001</td>\n",
       "      <td>1.673968e+09</td>\n",
       "      <td>1.673969e+09</td>\n",
       "      <td>297.240063</td>\n",
       "      <td>9.9.5.9</td>\n",
       "      <td>38815</td>\n",
       "      <td>9.9.5.211</td>\n",
       "      <td>20000</td>\n",
       "      <td>...</td>\n",
       "      <td>38815</td>\n",
       "      <td>unknown</td>\n",
       "      <td>244</td>\n",
       "      <td>0</td>\n",
       "      <td>DNP3</td>\n",
       "      <td>238</td>\n",
       "      <td>402</td>\n",
       "      <td>1332</td>\n",
       "      <td>5307</td>\n",
       "      <td>0x03</td>\n",
       "    </tr>\n",
       "    <tr>\n",
       "      <th>4</th>\n",
       "      <td>A</td>\n",
       "      <td>3</td>\n",
       "      <td>0x0400000000004000</td>\n",
       "      <td>1.673968e+09</td>\n",
       "      <td>1.673969e+09</td>\n",
       "      <td>298.678374</td>\n",
       "      <td>9.9.5.246</td>\n",
       "      <td>20000</td>\n",
       "      <td>9.9.5.9</td>\n",
       "      <td>32165</td>\n",
       "      <td>...</td>\n",
       "      <td>32165</td>\n",
       "      <td>unknown</td>\n",
       "      <td>244</td>\n",
       "      <td>0</td>\n",
       "      <td>DNP3</td>\n",
       "      <td>294</td>\n",
       "      <td>535</td>\n",
       "      <td>9490</td>\n",
       "      <td>10804</td>\n",
       "      <td>0x03</td>\n",
       "    </tr>\n",
       "  </tbody>\n",
       "</table>\n",
       "<p>5 rows × 21 columns</p>\n",
       "</div>"
      ],
      "text/plain": [
       "  dir  flowInd            flowStat     timeFirst      timeLast    duration   \n",
       "0   A        1  0x0400020000004000  1.673968e+09  1.673969e+09  297.552491  \\\n",
       "1   B        1  0x0400000000004001  1.673968e+09  1.673969e+09  297.451999   \n",
       "2   A        2  0x0400000000004000  1.673968e+09  1.673969e+09  297.243289   \n",
       "3   B        2  0x0400020000004001  1.673968e+09  1.673969e+09  297.240063   \n",
       "4   A        3  0x0400000000004000  1.673968e+09  1.673969e+09  298.678374   \n",
       "\n",
       "       srcIP  srcPort      dstIP  dstPort  ...  dstPortClassN  dstPortClass   \n",
       "0    9.9.5.9    36276  9.9.5.108    20000  ...          20000           dnp  \\\n",
       "1  9.9.5.108    20000    9.9.5.9    36276  ...          20000           dnp   \n",
       "2  9.9.5.211    20000    9.9.5.9    38815  ...          38815       unknown   \n",
       "3    9.9.5.9    38815  9.9.5.211    20000  ...          38815       unknown   \n",
       "4  9.9.5.246    20000    9.9.5.9    32165  ...          32165       unknown   \n",
       "\n",
       "  nDPIMasterProto  nDPISubProto  nDPIclass numPktsSnt  numPktsRTAggr   \n",
       "0             244             0       DNP3        150            300  \\\n",
       "1             244             0       DNP3        150            300   \n",
       "2             244             0       DNP3        164            402   \n",
       "3             244             0       DNP3        238            402   \n",
       "4             244             0       DNP3        294            535   \n",
       "\n",
       "   numBytesSnt  numBytesRTAggr  tcpStatesAFlags  \n",
       "0         1350           14700             0x03  \n",
       "1        13350           14700             0x03  \n",
       "2         3975            5307             0x03  \n",
       "3         1332            5307             0x03  \n",
       "4         9490           10804             0x03  \n",
       "\n",
       "[5 rows x 21 columns]"
      ]
     },
     "execution_count": 2,
     "metadata": {},
     "output_type": "execute_result"
    }
   ],
   "source": [
    "dfdata = pd.read_excel('data/allDataRTU_20230118.xlsx')\n",
    "dfdata.rename( {'%dir':'dir'}, axis=1,inplace=True)\n",
    "dfdata.head()"
   ]
  },
  {
   "cell_type": "code",
   "execution_count": 3,
   "id": "adfdda3e-d57b-479d-940c-34833117b9e0",
   "metadata": {
    "tags": []
   },
   "outputs": [],
   "source": [
    "#dfdata.rename( {'%dir':'dir'}, axis=1,inplace=True)"
   ]
  },
  {
   "cell_type": "code",
   "execution_count": 4,
   "id": "dbd22313-0dbf-4fd8-9b21-6f72a726dcf9",
   "metadata": {
    "tags": []
   },
   "outputs": [
    {
     "name": "stdout",
     "output_type": "stream",
     "text": [
      "<class 'pandas.core.frame.DataFrame'>\n",
      "RangeIndex: 325129 entries, 0 to 325128\n",
      "Data columns (total 21 columns):\n",
      " #   Column           Non-Null Count   Dtype  \n",
      "---  ------           --------------   -----  \n",
      " 0   dir              325129 non-null  object \n",
      " 1   flowInd          325129 non-null  int64  \n",
      " 2   flowStat         325129 non-null  object \n",
      " 3   timeFirst        325129 non-null  float64\n",
      " 4   timeLast         325129 non-null  float64\n",
      " 5   duration         325129 non-null  float64\n",
      " 6   srcIP            325129 non-null  object \n",
      " 7   srcPort          325129 non-null  int64  \n",
      " 8   dstIP            325129 non-null  object \n",
      " 9   dstPort          325129 non-null  int64  \n",
      " 10  l4Proto          325129 non-null  int64  \n",
      " 11  dstPortClassN    325129 non-null  int64  \n",
      " 12  dstPortClass     325129 non-null  object \n",
      " 13  nDPIMasterProto  325129 non-null  int64  \n",
      " 14  nDPISubProto     325129 non-null  int64  \n",
      " 15  nDPIclass        325129 non-null  object \n",
      " 16  numPktsSnt       325129 non-null  int64  \n",
      " 17  numPktsRTAggr    325129 non-null  int64  \n",
      " 18  numBytesSnt      325129 non-null  int64  \n",
      " 19  numBytesRTAggr   325129 non-null  int64  \n",
      " 20  tcpStatesAFlags  325129 non-null  object \n",
      "dtypes: float64(3), int64(11), object(7)\n",
      "memory usage: 52.1+ MB\n"
     ]
    }
   ],
   "source": [
    "#information dataframe all data RTU LA PERLA\n",
    "dfdata.info()"
   ]
  },
  {
   "cell_type": "code",
   "execution_count": 5,
   "id": "2058bf70-d820-4af9-b1b2-f425d3dda719",
   "metadata": {
    "tags": []
   },
   "outputs": [
    {
     "data": {
      "text/html": [
       "<div>\n",
       "<style scoped>\n",
       "    .dataframe tbody tr th:only-of-type {\n",
       "        vertical-align: middle;\n",
       "    }\n",
       "\n",
       "    .dataframe tbody tr th {\n",
       "        vertical-align: top;\n",
       "    }\n",
       "\n",
       "    .dataframe thead th {\n",
       "        text-align: right;\n",
       "    }\n",
       "</style>\n",
       "<table border=\"1\" class=\"dataframe\">\n",
       "  <thead>\n",
       "    <tr style=\"text-align: right;\">\n",
       "      <th></th>\n",
       "      <th>number</th>\n",
       "      <th>nameProto</th>\n",
       "    </tr>\n",
       "  </thead>\n",
       "  <tbody>\n",
       "    <tr>\n",
       "      <th>0</th>\n",
       "      <td>0</td>\n",
       "      <td>Unknown</td>\n",
       "    </tr>\n",
       "    <tr>\n",
       "      <th>1</th>\n",
       "      <td>1</td>\n",
       "      <td>FTP_CONTROL</td>\n",
       "    </tr>\n",
       "    <tr>\n",
       "      <th>2</th>\n",
       "      <td>2</td>\n",
       "      <td>POP3</td>\n",
       "    </tr>\n",
       "    <tr>\n",
       "      <th>3</th>\n",
       "      <td>3</td>\n",
       "      <td>SMTP</td>\n",
       "    </tr>\n",
       "    <tr>\n",
       "      <th>4</th>\n",
       "      <td>4</td>\n",
       "      <td>IMAP</td>\n",
       "    </tr>\n",
       "    <tr>\n",
       "      <th>...</th>\n",
       "      <td>...</td>\n",
       "      <td>...</td>\n",
       "    </tr>\n",
       "    <tr>\n",
       "      <th>277</th>\n",
       "      <td>277</td>\n",
       "      <td>iCloudPrivateRelay</td>\n",
       "    </tr>\n",
       "    <tr>\n",
       "      <th>278</th>\n",
       "      <td>278</td>\n",
       "      <td>EthernetIP</td>\n",
       "    </tr>\n",
       "    <tr>\n",
       "      <th>279</th>\n",
       "      <td>279</td>\n",
       "      <td>Badoo</td>\n",
       "    </tr>\n",
       "    <tr>\n",
       "      <th>280</th>\n",
       "      <td>280</td>\n",
       "      <td>AccuWeather</td>\n",
       "    </tr>\n",
       "    <tr>\n",
       "      <th>281</th>\n",
       "      <td>281</td>\n",
       "      <td>GoogleClassroom</td>\n",
       "    </tr>\n",
       "  </tbody>\n",
       "</table>\n",
       "<p>282 rows × 2 columns</p>\n",
       "</div>"
      ],
      "text/plain": [
       "     number           nameProto\n",
       "0         0             Unknown\n",
       "1         1         FTP_CONTROL\n",
       "2         2                POP3\n",
       "3         3                SMTP\n",
       "4         4                IMAP\n",
       "..      ...                 ...\n",
       "277     277  iCloudPrivateRelay\n",
       "278     278          EthernetIP\n",
       "279     279               Badoo\n",
       "280     280         AccuWeather\n",
       "281     281     GoogleClassroom\n",
       "\n",
       "[282 rows x 2 columns]"
      ]
     },
     "execution_count": 5,
     "metadata": {},
     "output_type": "execute_result"
    }
   ],
   "source": [
    "dfndpi_proto = pd.read_csv('data/nDPI_table_protocols.csv', names=['number','nameProto'])\n",
    "dfndpi_proto"
   ]
  },
  {
   "cell_type": "markdown",
   "id": "bfe6bac1-d347-4bf2-9cb5-d0842367cd53",
   "metadata": {
    "jp-MarkdownHeadingCollapsed": true,
    "tags": []
   },
   "source": [
    "# Unicos flujos y su direccion\n",
    "Conclusion: todos los fujos que solo tiene una direccion son **'A'**\n",
    "\n",
    "Se observa en \"Explore data La perla\" que **dir** se puede filtrar A sin perder los datos"
   ]
  },
  {
   "cell_type": "code",
   "execution_count": 6,
   "id": "9cfdafd1-fd27-4897-89fb-8589ffc9cc31",
   "metadata": {
    "tags": []
   },
   "outputs": [
    {
     "data": {
      "text/html": [
       "<div>\n",
       "<style scoped>\n",
       "    .dataframe tbody tr th:only-of-type {\n",
       "        vertical-align: middle;\n",
       "    }\n",
       "\n",
       "    .dataframe tbody tr th {\n",
       "        vertical-align: top;\n",
       "    }\n",
       "\n",
       "    .dataframe thead th {\n",
       "        text-align: right;\n",
       "    }\n",
       "</style>\n",
       "<table border=\"1\" class=\"dataframe\">\n",
       "  <thead>\n",
       "    <tr style=\"text-align: right;\">\n",
       "      <th></th>\n",
       "      <th>flowInd</th>\n",
       "      <th>dir</th>\n",
       "    </tr>\n",
       "  </thead>\n",
       "  <tbody>\n",
       "    <tr>\n",
       "      <th>0</th>\n",
       "      <td>1</td>\n",
       "      <td>A</td>\n",
       "    </tr>\n",
       "    <tr>\n",
       "      <th>1</th>\n",
       "      <td>1</td>\n",
       "      <td>B</td>\n",
       "    </tr>\n",
       "    <tr>\n",
       "      <th>2</th>\n",
       "      <td>2</td>\n",
       "      <td>A</td>\n",
       "    </tr>\n",
       "    <tr>\n",
       "      <th>3</th>\n",
       "      <td>2</td>\n",
       "      <td>B</td>\n",
       "    </tr>\n",
       "    <tr>\n",
       "      <th>4</th>\n",
       "      <td>3</td>\n",
       "      <td>A</td>\n",
       "    </tr>\n",
       "    <tr>\n",
       "      <th>...</th>\n",
       "      <td>...</td>\n",
       "      <td>...</td>\n",
       "    </tr>\n",
       "    <tr>\n",
       "      <th>325124</th>\n",
       "      <td>189319</td>\n",
       "      <td>A</td>\n",
       "    </tr>\n",
       "    <tr>\n",
       "      <th>325125</th>\n",
       "      <td>189319</td>\n",
       "      <td>B</td>\n",
       "    </tr>\n",
       "    <tr>\n",
       "      <th>325126</th>\n",
       "      <td>189320</td>\n",
       "      <td>A</td>\n",
       "    </tr>\n",
       "    <tr>\n",
       "      <th>325127</th>\n",
       "      <td>189321</td>\n",
       "      <td>A</td>\n",
       "    </tr>\n",
       "    <tr>\n",
       "      <th>325128</th>\n",
       "      <td>189321</td>\n",
       "      <td>B</td>\n",
       "    </tr>\n",
       "  </tbody>\n",
       "</table>\n",
       "<p>325129 rows × 2 columns</p>\n",
       "</div>"
      ],
      "text/plain": [
       "        flowInd dir\n",
       "0             1   A\n",
       "1             1   B\n",
       "2             2   A\n",
       "3             2   B\n",
       "4             3   A\n",
       "...         ...  ..\n",
       "325124   189319   A\n",
       "325125   189319   B\n",
       "325126   189320   A\n",
       "325127   189321   A\n",
       "325128   189321   B\n",
       "\n",
       "[325129 rows x 2 columns]"
      ]
     },
     "execution_count": 6,
     "metadata": {},
     "output_type": "execute_result"
    }
   ],
   "source": [
    "#Delete all duplicate Rows from dataFrame\n",
    "flowindex = dfdata[['flowInd','dir']]\n",
    "flowindex"
   ]
  },
  {
   "cell_type": "code",
   "execution_count": 7,
   "id": "1577202b-b846-421c-9162-0dc772ec965d",
   "metadata": {
    "tags": []
   },
   "outputs": [
    {
     "data": {
      "text/html": [
       "<div>\n",
       "<style scoped>\n",
       "    .dataframe tbody tr th:only-of-type {\n",
       "        vertical-align: middle;\n",
       "    }\n",
       "\n",
       "    .dataframe tbody tr th {\n",
       "        vertical-align: top;\n",
       "    }\n",
       "\n",
       "    .dataframe thead th {\n",
       "        text-align: right;\n",
       "    }\n",
       "</style>\n",
       "<table border=\"1\" class=\"dataframe\">\n",
       "  <thead>\n",
       "    <tr style=\"text-align: right;\">\n",
       "      <th></th>\n",
       "      <th>flowInd</th>\n",
       "      <th>dir</th>\n",
       "    </tr>\n",
       "  </thead>\n",
       "  <tbody>\n",
       "    <tr>\n",
       "      <th>0</th>\n",
       "      <td>1</td>\n",
       "      <td>A</td>\n",
       "    </tr>\n",
       "    <tr>\n",
       "      <th>2</th>\n",
       "      <td>2</td>\n",
       "      <td>A</td>\n",
       "    </tr>\n",
       "    <tr>\n",
       "      <th>4</th>\n",
       "      <td>3</td>\n",
       "      <td>A</td>\n",
       "    </tr>\n",
       "    <tr>\n",
       "      <th>6</th>\n",
       "      <td>4</td>\n",
       "      <td>A</td>\n",
       "    </tr>\n",
       "    <tr>\n",
       "      <th>8</th>\n",
       "      <td>5</td>\n",
       "      <td>A</td>\n",
       "    </tr>\n",
       "    <tr>\n",
       "      <th>...</th>\n",
       "      <td>...</td>\n",
       "      <td>...</td>\n",
       "    </tr>\n",
       "    <tr>\n",
       "      <th>325121</th>\n",
       "      <td>189317</td>\n",
       "      <td>A</td>\n",
       "    </tr>\n",
       "    <tr>\n",
       "      <th>325123</th>\n",
       "      <td>189318</td>\n",
       "      <td>A</td>\n",
       "    </tr>\n",
       "    <tr>\n",
       "      <th>325124</th>\n",
       "      <td>189319</td>\n",
       "      <td>A</td>\n",
       "    </tr>\n",
       "    <tr>\n",
       "      <th>325126</th>\n",
       "      <td>189320</td>\n",
       "      <td>A</td>\n",
       "    </tr>\n",
       "    <tr>\n",
       "      <th>325127</th>\n",
       "      <td>189321</td>\n",
       "      <td>A</td>\n",
       "    </tr>\n",
       "  </tbody>\n",
       "</table>\n",
       "<p>189321 rows × 2 columns</p>\n",
       "</div>"
      ],
      "text/plain": [
       "        flowInd dir\n",
       "0             1   A\n",
       "2             2   A\n",
       "4             3   A\n",
       "6             4   A\n",
       "8             5   A\n",
       "...         ...  ..\n",
       "325121   189317   A\n",
       "325123   189318   A\n",
       "325124   189319   A\n",
       "325126   189320   A\n",
       "325127   189321   A\n",
       "\n",
       "[189321 rows x 2 columns]"
      ]
     },
     "execution_count": 7,
     "metadata": {},
     "output_type": "execute_result"
    }
   ],
   "source": [
    "flowindex = flowindex.drop_duplicates(subset='flowInd',keep=\"first\")\n",
    "flowindex"
   ]
  },
  {
   "cell_type": "code",
   "execution_count": 8,
   "id": "7b63d894-29e5-4100-bb2b-8b6c239ae665",
   "metadata": {
    "tags": []
   },
   "outputs": [
    {
     "data": {
      "text/plain": [
       "dir\n",
       "A    189321\n",
       "Name: count, dtype: int64"
      ]
     },
     "execution_count": 8,
     "metadata": {},
     "output_type": "execute_result"
    }
   ],
   "source": [
    "flowindex['dir'].value_counts()\n"
   ]
  },
  {
   "cell_type": "code",
   "execution_count": 9,
   "id": "c9a5ba01-69a1-4bfc-83c3-e91c2ebaf131",
   "metadata": {
    "tags": []
   },
   "outputs": [
    {
     "data": {
      "text/plain": [
       "dir\n",
       "A    58.229503\n",
       "B    41.770497\n",
       "Name: proportion, dtype: float64"
      ]
     },
     "execution_count": 9,
     "metadata": {},
     "output_type": "execute_result"
    }
   ],
   "source": [
    "# Disribucion de datos en porcentaje\n",
    "dfdata['dir'].value_counts(normalize=True)*100"
   ]
  },
  {
   "cell_type": "markdown",
   "id": "7f1e79be-2bd2-4d60-a1ff-219e1bcc9bb7",
   "metadata": {
    "tags": []
   },
   "source": [
    "~~~\n",
    "\n",
    "ssstest\n",
    "~~~\n"
   ]
  },
  {
   "cell_type": "markdown",
   "id": "05db26e3-43db-4e83-b8ca-5543432e4adc",
   "metadata": {
    "tags": []
   },
   "source": [
    "# Exploracion de datos\n",
    "---"
   ]
  },
  {
   "cell_type": "markdown",
   "id": "4f7dc4f2-e304-49e5-bbf2-1c509428fe21",
   "metadata": {
    "jp-MarkdownHeadingCollapsed": true,
    "tags": []
   },
   "source": [
    "## Data init Exploratory\n",
    "\n",
    "***summary*** \n",
    "* MAX Duration flow: 300.0s \n",
    "* BYtes aggregate MIN: 0B MAX: 199,678B\n",
    "* MAX Data frequency: \n",
    "    * dir: A \n",
    "    * src/dstIP : 9.9.5.10 \n",
    "    * dstPortClass/nDPIclass: SNMP\n",
    "    * tcpStatesAFlag: 0x00\n",
    "    "
   ]
  },
  {
   "cell_type": "code",
   "execution_count": 10,
   "id": "ee3e2f44-993f-4954-a594-950e4b4441b9",
   "metadata": {
    "tags": []
   },
   "outputs": [
    {
     "data": {
      "text/html": [
       "<div>\n",
       "<style scoped>\n",
       "    .dataframe tbody tr th:only-of-type {\n",
       "        vertical-align: middle;\n",
       "    }\n",
       "\n",
       "    .dataframe tbody tr th {\n",
       "        vertical-align: top;\n",
       "    }\n",
       "\n",
       "    .dataframe thead th {\n",
       "        text-align: right;\n",
       "    }\n",
       "</style>\n",
       "<table border=\"1\" class=\"dataframe\">\n",
       "  <thead>\n",
       "    <tr style=\"text-align: right;\">\n",
       "      <th></th>\n",
       "      <th>dir</th>\n",
       "      <th>flowInd</th>\n",
       "      <th>flowStat</th>\n",
       "      <th>timeFirst</th>\n",
       "      <th>timeLast</th>\n",
       "      <th>duration</th>\n",
       "      <th>srcIP</th>\n",
       "      <th>srcPort</th>\n",
       "      <th>dstIP</th>\n",
       "      <th>dstPort</th>\n",
       "      <th>...</th>\n",
       "      <th>dstPortClassN</th>\n",
       "      <th>dstPortClass</th>\n",
       "      <th>nDPIMasterProto</th>\n",
       "      <th>nDPISubProto</th>\n",
       "      <th>nDPIclass</th>\n",
       "      <th>numPktsSnt</th>\n",
       "      <th>numPktsRTAggr</th>\n",
       "      <th>numBytesSnt</th>\n",
       "      <th>numBytesRTAggr</th>\n",
       "      <th>tcpStatesAFlags</th>\n",
       "    </tr>\n",
       "  </thead>\n",
       "  <tbody>\n",
       "    <tr>\n",
       "      <th>0</th>\n",
       "      <td>A</td>\n",
       "      <td>1</td>\n",
       "      <td>0x0400020000004000</td>\n",
       "      <td>1.673968e+09</td>\n",
       "      <td>1.673969e+09</td>\n",
       "      <td>297.552491</td>\n",
       "      <td>9.9.5.9</td>\n",
       "      <td>36276</td>\n",
       "      <td>9.9.5.108</td>\n",
       "      <td>20000</td>\n",
       "      <td>...</td>\n",
       "      <td>20000</td>\n",
       "      <td>dnp</td>\n",
       "      <td>244</td>\n",
       "      <td>0</td>\n",
       "      <td>DNP3</td>\n",
       "      <td>150</td>\n",
       "      <td>300</td>\n",
       "      <td>1350</td>\n",
       "      <td>14700</td>\n",
       "      <td>0x03</td>\n",
       "    </tr>\n",
       "    <tr>\n",
       "      <th>1</th>\n",
       "      <td>B</td>\n",
       "      <td>1</td>\n",
       "      <td>0x0400000000004001</td>\n",
       "      <td>1.673968e+09</td>\n",
       "      <td>1.673969e+09</td>\n",
       "      <td>297.451999</td>\n",
       "      <td>9.9.5.108</td>\n",
       "      <td>20000</td>\n",
       "      <td>9.9.5.9</td>\n",
       "      <td>36276</td>\n",
       "      <td>...</td>\n",
       "      <td>20000</td>\n",
       "      <td>dnp</td>\n",
       "      <td>244</td>\n",
       "      <td>0</td>\n",
       "      <td>DNP3</td>\n",
       "      <td>150</td>\n",
       "      <td>300</td>\n",
       "      <td>13350</td>\n",
       "      <td>14700</td>\n",
       "      <td>0x03</td>\n",
       "    </tr>\n",
       "    <tr>\n",
       "      <th>2</th>\n",
       "      <td>A</td>\n",
       "      <td>2</td>\n",
       "      <td>0x0400000000004000</td>\n",
       "      <td>1.673968e+09</td>\n",
       "      <td>1.673969e+09</td>\n",
       "      <td>297.243289</td>\n",
       "      <td>9.9.5.211</td>\n",
       "      <td>20000</td>\n",
       "      <td>9.9.5.9</td>\n",
       "      <td>38815</td>\n",
       "      <td>...</td>\n",
       "      <td>38815</td>\n",
       "      <td>unknown</td>\n",
       "      <td>244</td>\n",
       "      <td>0</td>\n",
       "      <td>DNP3</td>\n",
       "      <td>164</td>\n",
       "      <td>402</td>\n",
       "      <td>3975</td>\n",
       "      <td>5307</td>\n",
       "      <td>0x03</td>\n",
       "    </tr>\n",
       "    <tr>\n",
       "      <th>3</th>\n",
       "      <td>B</td>\n",
       "      <td>2</td>\n",
       "      <td>0x0400020000004001</td>\n",
       "      <td>1.673968e+09</td>\n",
       "      <td>1.673969e+09</td>\n",
       "      <td>297.240063</td>\n",
       "      <td>9.9.5.9</td>\n",
       "      <td>38815</td>\n",
       "      <td>9.9.5.211</td>\n",
       "      <td>20000</td>\n",
       "      <td>...</td>\n",
       "      <td>38815</td>\n",
       "      <td>unknown</td>\n",
       "      <td>244</td>\n",
       "      <td>0</td>\n",
       "      <td>DNP3</td>\n",
       "      <td>238</td>\n",
       "      <td>402</td>\n",
       "      <td>1332</td>\n",
       "      <td>5307</td>\n",
       "      <td>0x03</td>\n",
       "    </tr>\n",
       "    <tr>\n",
       "      <th>4</th>\n",
       "      <td>A</td>\n",
       "      <td>3</td>\n",
       "      <td>0x0400000000004000</td>\n",
       "      <td>1.673968e+09</td>\n",
       "      <td>1.673969e+09</td>\n",
       "      <td>298.678374</td>\n",
       "      <td>9.9.5.246</td>\n",
       "      <td>20000</td>\n",
       "      <td>9.9.5.9</td>\n",
       "      <td>32165</td>\n",
       "      <td>...</td>\n",
       "      <td>32165</td>\n",
       "      <td>unknown</td>\n",
       "      <td>244</td>\n",
       "      <td>0</td>\n",
       "      <td>DNP3</td>\n",
       "      <td>294</td>\n",
       "      <td>535</td>\n",
       "      <td>9490</td>\n",
       "      <td>10804</td>\n",
       "      <td>0x03</td>\n",
       "    </tr>\n",
       "  </tbody>\n",
       "</table>\n",
       "<p>5 rows × 21 columns</p>\n",
       "</div>"
      ],
      "text/plain": [
       "  dir  flowInd            flowStat     timeFirst      timeLast    duration   \n",
       "0   A        1  0x0400020000004000  1.673968e+09  1.673969e+09  297.552491  \\\n",
       "1   B        1  0x0400000000004001  1.673968e+09  1.673969e+09  297.451999   \n",
       "2   A        2  0x0400000000004000  1.673968e+09  1.673969e+09  297.243289   \n",
       "3   B        2  0x0400020000004001  1.673968e+09  1.673969e+09  297.240063   \n",
       "4   A        3  0x0400000000004000  1.673968e+09  1.673969e+09  298.678374   \n",
       "\n",
       "       srcIP  srcPort      dstIP  dstPort  ...  dstPortClassN  dstPortClass   \n",
       "0    9.9.5.9    36276  9.9.5.108    20000  ...          20000           dnp  \\\n",
       "1  9.9.5.108    20000    9.9.5.9    36276  ...          20000           dnp   \n",
       "2  9.9.5.211    20000    9.9.5.9    38815  ...          38815       unknown   \n",
       "3    9.9.5.9    38815  9.9.5.211    20000  ...          38815       unknown   \n",
       "4  9.9.5.246    20000    9.9.5.9    32165  ...          32165       unknown   \n",
       "\n",
       "  nDPIMasterProto  nDPISubProto  nDPIclass numPktsSnt  numPktsRTAggr   \n",
       "0             244             0       DNP3        150            300  \\\n",
       "1             244             0       DNP3        150            300   \n",
       "2             244             0       DNP3        164            402   \n",
       "3             244             0       DNP3        238            402   \n",
       "4             244             0       DNP3        294            535   \n",
       "\n",
       "   numBytesSnt  numBytesRTAggr  tcpStatesAFlags  \n",
       "0         1350           14700             0x03  \n",
       "1        13350           14700             0x03  \n",
       "2         3975            5307             0x03  \n",
       "3         1332            5307             0x03  \n",
       "4         9490           10804             0x03  \n",
       "\n",
       "[5 rows x 21 columns]"
      ]
     },
     "execution_count": 10,
     "metadata": {},
     "output_type": "execute_result"
    }
   ],
   "source": [
    "dfdata.head()"
   ]
  },
  {
   "cell_type": "code",
   "execution_count": 11,
   "id": "da2390e8-6ec9-4705-944a-8d6b9730e862",
   "metadata": {
    "tags": []
   },
   "outputs": [
    {
     "data": {
      "text/html": [
       "<div>\n",
       "<style scoped>\n",
       "    .dataframe tbody tr th:only-of-type {\n",
       "        vertical-align: middle;\n",
       "    }\n",
       "\n",
       "    .dataframe tbody tr th {\n",
       "        vertical-align: top;\n",
       "    }\n",
       "\n",
       "    .dataframe thead th {\n",
       "        text-align: right;\n",
       "    }\n",
       "</style>\n",
       "<table border=\"1\" class=\"dataframe\">\n",
       "  <thead>\n",
       "    <tr style=\"text-align: right;\">\n",
       "      <th></th>\n",
       "      <th>flowInd</th>\n",
       "      <th>timeFirst</th>\n",
       "      <th>timeLast</th>\n",
       "      <th>duration</th>\n",
       "      <th>srcPort</th>\n",
       "      <th>dstPort</th>\n",
       "      <th>l4Proto</th>\n",
       "      <th>dstPortClassN</th>\n",
       "      <th>nDPIMasterProto</th>\n",
       "      <th>nDPISubProto</th>\n",
       "      <th>numPktsSnt</th>\n",
       "      <th>numPktsRTAggr</th>\n",
       "      <th>numBytesSnt</th>\n",
       "      <th>numBytesRTAggr</th>\n",
       "    </tr>\n",
       "  </thead>\n",
       "  <tbody>\n",
       "    <tr>\n",
       "      <th>count</th>\n",
       "      <td>325129.000000</td>\n",
       "      <td>3.251290e+05</td>\n",
       "      <td>3.251290e+05</td>\n",
       "      <td>325129.000000</td>\n",
       "      <td>325129.000000</td>\n",
       "      <td>325129.000000</td>\n",
       "      <td>325129.000000</td>\n",
       "      <td>325129.000000</td>\n",
       "      <td>325129.000000</td>\n",
       "      <td>325129.0</td>\n",
       "      <td>325129.000000</td>\n",
       "      <td>325129.000000</td>\n",
       "      <td>325129.000000</td>\n",
       "      <td>325129.000000</td>\n",
       "    </tr>\n",
       "    <tr>\n",
       "      <th>mean</th>\n",
       "      <td>94902.240668</td>\n",
       "      <td>1.674025e+09</td>\n",
       "      <td>1.674025e+09</td>\n",
       "      <td>138.873570</td>\n",
       "      <td>25559.051417</td>\n",
       "      <td>18238.211605</td>\n",
       "      <td>9.429239</td>\n",
       "      <td>6585.186723</td>\n",
       "      <td>101.542735</td>\n",
       "      <td>0.0</td>\n",
       "      <td>92.281012</td>\n",
       "      <td>176.620274</td>\n",
       "      <td>3005.118965</td>\n",
       "      <td>5628.504551</td>\n",
       "    </tr>\n",
       "    <tr>\n",
       "      <th>std</th>\n",
       "      <td>54525.225857</td>\n",
       "      <td>3.303388e+04</td>\n",
       "      <td>3.303476e+04</td>\n",
       "      <td>134.127180</td>\n",
       "      <td>25520.742661</td>\n",
       "      <td>22906.399195</td>\n",
       "      <td>6.837984</td>\n",
       "      <td>10276.068893</td>\n",
       "      <td>98.123039</td>\n",
       "      <td>0.0</td>\n",
       "      <td>439.948428</td>\n",
       "      <td>803.176235</td>\n",
       "      <td>11648.647704</td>\n",
       "      <td>16124.064394</td>\n",
       "    </tr>\n",
       "    <tr>\n",
       "      <th>min</th>\n",
       "      <td>1.000000</td>\n",
       "      <td>1.673968e+09</td>\n",
       "      <td>1.673968e+09</td>\n",
       "      <td>0.000000</td>\n",
       "      <td>0.000000</td>\n",
       "      <td>0.000000</td>\n",
       "      <td>1.000000</td>\n",
       "      <td>0.000000</td>\n",
       "      <td>0.000000</td>\n",
       "      <td>0.0</td>\n",
       "      <td>1.000000</td>\n",
       "      <td>1.000000</td>\n",
       "      <td>0.000000</td>\n",
       "      <td>0.000000</td>\n",
       "    </tr>\n",
       "    <tr>\n",
       "      <th>25%</th>\n",
       "      <td>47773.000000</td>\n",
       "      <td>1.673996e+09</td>\n",
       "      <td>1.673997e+09</td>\n",
       "      <td>0.015076</td>\n",
       "      <td>0.000000</td>\n",
       "      <td>0.000000</td>\n",
       "      <td>1.000000</td>\n",
       "      <td>0.000000</td>\n",
       "      <td>14.000000</td>\n",
       "      <td>0.0</td>\n",
       "      <td>2.000000</td>\n",
       "      <td>2.000000</td>\n",
       "      <td>69.000000</td>\n",
       "      <td>88.000000</td>\n",
       "    </tr>\n",
       "    <tr>\n",
       "      <th>50%</th>\n",
       "      <td>94941.000000</td>\n",
       "      <td>1.674025e+09</td>\n",
       "      <td>1.674025e+09</td>\n",
       "      <td>239.847905</td>\n",
       "      <td>20000.000000</td>\n",
       "      <td>161.000000</td>\n",
       "      <td>6.000000</td>\n",
       "      <td>161.000000</td>\n",
       "      <td>81.000000</td>\n",
       "      <td>0.0</td>\n",
       "      <td>3.000000</td>\n",
       "      <td>6.000000</td>\n",
       "      <td>88.000000</td>\n",
       "      <td>138.000000</td>\n",
       "    </tr>\n",
       "    <tr>\n",
       "      <th>75%</th>\n",
       "      <td>142147.000000</td>\n",
       "      <td>1.674054e+09</td>\n",
       "      <td>1.674054e+09</td>\n",
       "      <td>273.304999</td>\n",
       "      <td>53519.000000</td>\n",
       "      <td>32939.000000</td>\n",
       "      <td>17.000000</td>\n",
       "      <td>20000.000000</td>\n",
       "      <td>244.000000</td>\n",
       "      <td>0.0</td>\n",
       "      <td>75.000000</td>\n",
       "      <td>225.000000</td>\n",
       "      <td>1350.000000</td>\n",
       "      <td>5325.000000</td>\n",
       "    </tr>\n",
       "    <tr>\n",
       "      <th>max</th>\n",
       "      <td>189321.000000</td>\n",
       "      <td>1.674082e+09</td>\n",
       "      <td>1.674082e+09</td>\n",
       "      <td>299.998483</td>\n",
       "      <td>65534.000000</td>\n",
       "      <td>65531.000000</td>\n",
       "      <td>17.000000</td>\n",
       "      <td>62855.000000</td>\n",
       "      <td>264.000000</td>\n",
       "      <td>0.0</td>\n",
       "      <td>13596.000000</td>\n",
       "      <td>20698.000000</td>\n",
       "      <td>163689.000000</td>\n",
       "      <td>199678.000000</td>\n",
       "    </tr>\n",
       "  </tbody>\n",
       "</table>\n",
       "</div>"
      ],
      "text/plain": [
       "             flowInd     timeFirst      timeLast       duration   \n",
       "count  325129.000000  3.251290e+05  3.251290e+05  325129.000000  \\\n",
       "mean    94902.240668  1.674025e+09  1.674025e+09     138.873570   \n",
       "std     54525.225857  3.303388e+04  3.303476e+04     134.127180   \n",
       "min         1.000000  1.673968e+09  1.673968e+09       0.000000   \n",
       "25%     47773.000000  1.673996e+09  1.673997e+09       0.015076   \n",
       "50%     94941.000000  1.674025e+09  1.674025e+09     239.847905   \n",
       "75%    142147.000000  1.674054e+09  1.674054e+09     273.304999   \n",
       "max    189321.000000  1.674082e+09  1.674082e+09     299.998483   \n",
       "\n",
       "             srcPort        dstPort        l4Proto  dstPortClassN   \n",
       "count  325129.000000  325129.000000  325129.000000  325129.000000  \\\n",
       "mean    25559.051417   18238.211605       9.429239    6585.186723   \n",
       "std     25520.742661   22906.399195       6.837984   10276.068893   \n",
       "min         0.000000       0.000000       1.000000       0.000000   \n",
       "25%         0.000000       0.000000       1.000000       0.000000   \n",
       "50%     20000.000000     161.000000       6.000000     161.000000   \n",
       "75%     53519.000000   32939.000000      17.000000   20000.000000   \n",
       "max     65534.000000   65531.000000      17.000000   62855.000000   \n",
       "\n",
       "       nDPIMasterProto  nDPISubProto     numPktsSnt  numPktsRTAggr   \n",
       "count    325129.000000      325129.0  325129.000000  325129.000000  \\\n",
       "mean        101.542735           0.0      92.281012     176.620274   \n",
       "std          98.123039           0.0     439.948428     803.176235   \n",
       "min           0.000000           0.0       1.000000       1.000000   \n",
       "25%          14.000000           0.0       2.000000       2.000000   \n",
       "50%          81.000000           0.0       3.000000       6.000000   \n",
       "75%         244.000000           0.0      75.000000     225.000000   \n",
       "max         264.000000           0.0   13596.000000   20698.000000   \n",
       "\n",
       "         numBytesSnt  numBytesRTAggr  \n",
       "count  325129.000000   325129.000000  \n",
       "mean     3005.118965     5628.504551  \n",
       "std     11648.647704    16124.064394  \n",
       "min         0.000000        0.000000  \n",
       "25%        69.000000       88.000000  \n",
       "50%        88.000000      138.000000  \n",
       "75%      1350.000000     5325.000000  \n",
       "max    163689.000000   199678.000000  "
      ]
     },
     "execution_count": 11,
     "metadata": {},
     "output_type": "execute_result"
    }
   ],
   "source": [
    "dfdata.describe()"
   ]
  },
  {
   "cell_type": "code",
   "execution_count": 12,
   "id": "c7be6756-cc0e-4a4a-9b87-c48296087722",
   "metadata": {
    "tags": []
   },
   "outputs": [
    {
     "data": {
      "text/html": [
       "<div>\n",
       "<style scoped>\n",
       "    .dataframe tbody tr th:only-of-type {\n",
       "        vertical-align: middle;\n",
       "    }\n",
       "\n",
       "    .dataframe tbody tr th {\n",
       "        vertical-align: top;\n",
       "    }\n",
       "\n",
       "    .dataframe thead th {\n",
       "        text-align: right;\n",
       "    }\n",
       "</style>\n",
       "<table border=\"1\" class=\"dataframe\">\n",
       "  <thead>\n",
       "    <tr style=\"text-align: right;\">\n",
       "      <th></th>\n",
       "      <th>dir</th>\n",
       "      <th>flowStat</th>\n",
       "      <th>srcIP</th>\n",
       "      <th>dstIP</th>\n",
       "      <th>dstPortClass</th>\n",
       "      <th>nDPIclass</th>\n",
       "      <th>tcpStatesAFlags</th>\n",
       "    </tr>\n",
       "  </thead>\n",
       "  <tbody>\n",
       "    <tr>\n",
       "      <th>count</th>\n",
       "      <td>325129</td>\n",
       "      <td>325129</td>\n",
       "      <td>325129</td>\n",
       "      <td>325129</td>\n",
       "      <td>325129</td>\n",
       "      <td>325129</td>\n",
       "      <td>325129</td>\n",
       "    </tr>\n",
       "    <tr>\n",
       "      <th>unique</th>\n",
       "      <td>2</td>\n",
       "      <td>8</td>\n",
       "      <td>158</td>\n",
       "      <td>171</td>\n",
       "      <td>10</td>\n",
       "      <td>11</td>\n",
       "      <td>20</td>\n",
       "    </tr>\n",
       "    <tr>\n",
       "      <th>top</th>\n",
       "      <td>A</td>\n",
       "      <td>0x0400000000004001</td>\n",
       "      <td>9.9.5.10</td>\n",
       "      <td>9.9.5.10</td>\n",
       "      <td>snmp</td>\n",
       "      <td>SNMP</td>\n",
       "      <td>0x00</td>\n",
       "    </tr>\n",
       "    <tr>\n",
       "      <th>freq</th>\n",
       "      <td>189321</td>\n",
       "      <td>132258</td>\n",
       "      <td>121148</td>\n",
       "      <td>95831</td>\n",
       "      <td>130009</td>\n",
       "      <td>130009</td>\n",
       "      <td>225179</td>\n",
       "    </tr>\n",
       "  </tbody>\n",
       "</table>\n",
       "</div>"
      ],
      "text/plain": [
       "           dir            flowStat     srcIP     dstIP dstPortClass nDPIclass   \n",
       "count   325129              325129    325129    325129       325129    325129  \\\n",
       "unique       2                   8       158       171           10        11   \n",
       "top          A  0x0400000000004001  9.9.5.10  9.9.5.10         snmp      SNMP   \n",
       "freq    189321              132258    121148     95831       130009    130009   \n",
       "\n",
       "       tcpStatesAFlags  \n",
       "count           325129  \n",
       "unique              20  \n",
       "top               0x00  \n",
       "freq            225179  "
      ]
     },
     "execution_count": 12,
     "metadata": {},
     "output_type": "execute_result"
    }
   ],
   "source": [
    "dfdata.describe(include=[\"object\", \"bool\"])"
   ]
  },
  {
   "cell_type": "code",
   "execution_count": 13,
   "id": "7779328a-312d-44dc-8c4e-48dd4eacda42",
   "metadata": {
    "tags": []
   },
   "outputs": [
    {
     "data": {
      "text/plain": [
       "(325129, 21)"
      ]
     },
     "execution_count": 13,
     "metadata": {},
     "output_type": "execute_result"
    }
   ],
   "source": [
    "dfdata.shape"
   ]
  },
  {
   "cell_type": "markdown",
   "id": "66bb7165-2c78-40dc-8cf4-d076a3b8ba7f",
   "metadata": {
    "jp-MarkdownHeadingCollapsed": true,
    "tags": []
   },
   "source": [
    "## Data distribution by protocol/application\n",
    "\n",
    "***summary*** \n",
    "* Percent distribution by protocol  (flows)\n",
    "    * 39.99% SNMP\n",
    "    * 30.43% DNP3\n",
    "    * 25.64% ICMP\n",
    "    * 27.76% NTP\n"
   ]
  },
  {
   "cell_type": "markdown",
   "id": "00b8c0b8-f2f5-4176-8581-72cd71932f71",
   "metadata": {},
   "source": [
    "For categorical (type `object`) and boolean (type `bool`) features we can use the `value_counts` method. Let's have a look at the distribution of column name:\n",
    "\n",
    "nDPI protocol is: \n"
   ]
  },
  {
   "cell_type": "code",
   "execution_count": 14,
   "id": "ce934b9e-e2d8-4ee9-a33b-f7751f79b4d4",
   "metadata": {
    "tags": []
   },
   "outputs": [
    {
     "data": {
      "text/html": [
       "<div>\n",
       "<style scoped>\n",
       "    .dataframe tbody tr th:only-of-type {\n",
       "        vertical-align: middle;\n",
       "    }\n",
       "\n",
       "    .dataframe tbody tr th {\n",
       "        vertical-align: top;\n",
       "    }\n",
       "\n",
       "    .dataframe thead th {\n",
       "        text-align: right;\n",
       "    }\n",
       "</style>\n",
       "<table border=\"1\" class=\"dataframe\">\n",
       "  <thead>\n",
       "    <tr style=\"text-align: right;\">\n",
       "      <th></th>\n",
       "      <th>count</th>\n",
       "      <th>nameProto</th>\n",
       "    </tr>\n",
       "  </thead>\n",
       "  <tbody>\n",
       "    <tr>\n",
       "      <th>0</th>\n",
       "      <td>130009</td>\n",
       "      <td>SNMP</td>\n",
       "    </tr>\n",
       "    <tr>\n",
       "      <th>1</th>\n",
       "      <td>98938</td>\n",
       "      <td>DNP3</td>\n",
       "    </tr>\n",
       "    <tr>\n",
       "      <th>2</th>\n",
       "      <td>83377</td>\n",
       "      <td>ICMP</td>\n",
       "    </tr>\n",
       "    <tr>\n",
       "      <th>3</th>\n",
       "      <td>9026</td>\n",
       "      <td>NTP</td>\n",
       "    </tr>\n",
       "    <tr>\n",
       "      <th>4</th>\n",
       "      <td>1520</td>\n",
       "      <td>IGMP</td>\n",
       "    </tr>\n",
       "    <tr>\n",
       "      <th>5</th>\n",
       "      <td>762</td>\n",
       "      <td>CPHA</td>\n",
       "    </tr>\n",
       "    <tr>\n",
       "      <th>6</th>\n",
       "      <td>762</td>\n",
       "      <td>Modbus</td>\n",
       "    </tr>\n",
       "    <tr>\n",
       "      <th>7</th>\n",
       "      <td>646</td>\n",
       "      <td>Unknown</td>\n",
       "    </tr>\n",
       "    <tr>\n",
       "      <th>8</th>\n",
       "      <td>76</td>\n",
       "      <td>Cassandra</td>\n",
       "    </tr>\n",
       "    <tr>\n",
       "      <th>9</th>\n",
       "      <td>10</td>\n",
       "      <td>DNS</td>\n",
       "    </tr>\n",
       "    <tr>\n",
       "      <th>10</th>\n",
       "      <td>3</td>\n",
       "      <td>Syslog</td>\n",
       "    </tr>\n",
       "  </tbody>\n",
       "</table>\n",
       "</div>"
      ],
      "text/plain": [
       "     count  nameProto\n",
       "0   130009       SNMP\n",
       "1    98938       DNP3\n",
       "2    83377       ICMP\n",
       "3     9026        NTP\n",
       "4     1520       IGMP\n",
       "5      762       CPHA\n",
       "6      762     Modbus\n",
       "7      646    Unknown\n",
       "8       76  Cassandra\n",
       "9       10        DNS\n",
       "10       3     Syslog"
      ]
     },
     "execution_count": 14,
     "metadata": {},
     "output_type": "execute_result"
    }
   ],
   "source": [
    "# distribucion de datos por TIPO, basado en \"deep packet inspection\"\n",
    "tmp = dfdata['nDPIMasterProto'].value_counts()\n",
    "(pd.merge(tmp,dfndpi_proto,left_on='nDPIMasterProto',right_on='number'))[['count','nameProto']]"
   ]
  },
  {
   "cell_type": "code",
   "execution_count": 15,
   "id": "d0534084-6ea4-41b3-a4c6-cda585bb63d3",
   "metadata": {
    "tags": []
   },
   "outputs": [
    {
     "data": {
      "text/html": [
       "<div>\n",
       "<style scoped>\n",
       "    .dataframe tbody tr th:only-of-type {\n",
       "        vertical-align: middle;\n",
       "    }\n",
       "\n",
       "    .dataframe tbody tr th {\n",
       "        vertical-align: top;\n",
       "    }\n",
       "\n",
       "    .dataframe thead th {\n",
       "        text-align: right;\n",
       "    }\n",
       "</style>\n",
       "<table border=\"1\" class=\"dataframe\">\n",
       "  <thead>\n",
       "    <tr style=\"text-align: right;\">\n",
       "      <th></th>\n",
       "      <th>proportion</th>\n",
       "      <th>nameProto</th>\n",
       "    </tr>\n",
       "  </thead>\n",
       "  <tbody>\n",
       "    <tr>\n",
       "      <th>0</th>\n",
       "      <td>0.399869</td>\n",
       "      <td>SNMP</td>\n",
       "    </tr>\n",
       "    <tr>\n",
       "      <th>1</th>\n",
       "      <td>0.304304</td>\n",
       "      <td>DNP3</td>\n",
       "    </tr>\n",
       "    <tr>\n",
       "      <th>2</th>\n",
       "      <td>0.256443</td>\n",
       "      <td>ICMP</td>\n",
       "    </tr>\n",
       "    <tr>\n",
       "      <th>3</th>\n",
       "      <td>0.027761</td>\n",
       "      <td>NTP</td>\n",
       "    </tr>\n",
       "    <tr>\n",
       "      <th>4</th>\n",
       "      <td>0.004675</td>\n",
       "      <td>IGMP</td>\n",
       "    </tr>\n",
       "    <tr>\n",
       "      <th>5</th>\n",
       "      <td>0.002344</td>\n",
       "      <td>CPHA</td>\n",
       "    </tr>\n",
       "    <tr>\n",
       "      <th>6</th>\n",
       "      <td>0.002344</td>\n",
       "      <td>Modbus</td>\n",
       "    </tr>\n",
       "    <tr>\n",
       "      <th>7</th>\n",
       "      <td>0.001987</td>\n",
       "      <td>Unknown</td>\n",
       "    </tr>\n",
       "    <tr>\n",
       "      <th>8</th>\n",
       "      <td>0.000234</td>\n",
       "      <td>Cassandra</td>\n",
       "    </tr>\n",
       "    <tr>\n",
       "      <th>9</th>\n",
       "      <td>0.000031</td>\n",
       "      <td>DNS</td>\n",
       "    </tr>\n",
       "    <tr>\n",
       "      <th>10</th>\n",
       "      <td>0.000009</td>\n",
       "      <td>Syslog</td>\n",
       "    </tr>\n",
       "  </tbody>\n",
       "</table>\n",
       "</div>"
      ],
      "text/plain": [
       "    proportion  nameProto\n",
       "0     0.399869       SNMP\n",
       "1     0.304304       DNP3\n",
       "2     0.256443       ICMP\n",
       "3     0.027761        NTP\n",
       "4     0.004675       IGMP\n",
       "5     0.002344       CPHA\n",
       "6     0.002344     Modbus\n",
       "7     0.001987    Unknown\n",
       "8     0.000234  Cassandra\n",
       "9     0.000031        DNS\n",
       "10    0.000009     Syslog"
      ]
     },
     "execution_count": 15,
     "metadata": {},
     "output_type": "execute_result"
    }
   ],
   "source": [
    "# percent distribution\n",
    "tmp = dfdata['nDPIMasterProto'].value_counts(normalize=True)\n",
    "(pd.merge(tmp,dfndpi_proto,left_on='nDPIMasterProto',right_on='number'))[['proportion','nameProto']]"
   ]
  },
  {
   "cell_type": "markdown",
   "id": "d5a44df3-fa5d-4c77-8486-a112e1fab548",
   "metadata": {},
   "source": [
    "### Data flow Unknown aplication\n",
    "\n",
    "***summary*** \n"
   ]
  },
  {
   "cell_type": "code",
   "execution_count": 56,
   "id": "be277102-ade1-418f-89b5-321510a801bc",
   "metadata": {
    "tags": []
   },
   "outputs": [
    {
     "data": {
      "text/html": [
       "<div>\n",
       "<style scoped>\n",
       "    .dataframe tbody tr th:only-of-type {\n",
       "        vertical-align: middle;\n",
       "    }\n",
       "\n",
       "    .dataframe tbody tr th {\n",
       "        vertical-align: top;\n",
       "    }\n",
       "\n",
       "    .dataframe thead th {\n",
       "        text-align: right;\n",
       "    }\n",
       "</style>\n",
       "<table border=\"1\" class=\"dataframe\">\n",
       "  <thead>\n",
       "    <tr style=\"text-align: right;\">\n",
       "      <th></th>\n",
       "      <th>dir</th>\n",
       "      <th>flowInd</th>\n",
       "      <th>flowStat</th>\n",
       "      <th>timeFirst</th>\n",
       "      <th>timeLast</th>\n",
       "      <th>duration</th>\n",
       "      <th>srcIP</th>\n",
       "      <th>srcPort</th>\n",
       "      <th>dstIP</th>\n",
       "      <th>dstPort</th>\n",
       "      <th>...</th>\n",
       "      <th>dstPortClassN</th>\n",
       "      <th>dstPortClass</th>\n",
       "      <th>nDPIMasterProto</th>\n",
       "      <th>nDPISubProto</th>\n",
       "      <th>nDPIclass</th>\n",
       "      <th>numPktsSnt</th>\n",
       "      <th>numPktsRTAggr</th>\n",
       "      <th>numBytesSnt</th>\n",
       "      <th>numBytesRTAggr</th>\n",
       "      <th>tcpStatesAFlags</th>\n",
       "    </tr>\n",
       "  </thead>\n",
       "  <tbody>\n",
       "    <tr>\n",
       "      <th>292</th>\n",
       "      <td>A</td>\n",
       "      <td>160</td>\n",
       "      <td>0x0400000000004000</td>\n",
       "      <td>1.673968e+09</td>\n",
       "      <td>1.673968e+09</td>\n",
       "      <td>0.110184</td>\n",
       "      <td>10.120.45.23</td>\n",
       "      <td>56204</td>\n",
       "      <td>9.9.5.45</td>\n",
       "      <td>7801</td>\n",
       "      <td>...</td>\n",
       "      <td>7801</td>\n",
       "      <td>ssp-client</td>\n",
       "      <td>0</td>\n",
       "      <td>0</td>\n",
       "      <td>Unknown</td>\n",
       "      <td>4</td>\n",
       "      <td>7</td>\n",
       "      <td>0</td>\n",
       "      <td>0</td>\n",
       "      <td>0x00</td>\n",
       "    </tr>\n",
       "    <tr>\n",
       "      <th>298</th>\n",
       "      <td>A</td>\n",
       "      <td>163</td>\n",
       "      <td>0x0400020000004000</td>\n",
       "      <td>1.673968e+09</td>\n",
       "      <td>1.673969e+09</td>\n",
       "      <td>298.133923</td>\n",
       "      <td>10.120.45.23</td>\n",
       "      <td>56205</td>\n",
       "      <td>9.9.5.45</td>\n",
       "      <td>7801</td>\n",
       "      <td>...</td>\n",
       "      <td>7801</td>\n",
       "      <td>ssp-client</td>\n",
       "      <td>0</td>\n",
       "      <td>0</td>\n",
       "      <td>Unknown</td>\n",
       "      <td>284</td>\n",
       "      <td>580</td>\n",
       "      <td>287</td>\n",
       "      <td>633</td>\n",
       "      <td>0x02</td>\n",
       "    </tr>\n",
       "    <tr>\n",
       "      <th>1118</th>\n",
       "      <td>A</td>\n",
       "      <td>659</td>\n",
       "      <td>0x0400000000004000</td>\n",
       "      <td>1.673969e+09</td>\n",
       "      <td>1.673969e+09</td>\n",
       "      <td>211.246773</td>\n",
       "      <td>10.120.45.23</td>\n",
       "      <td>56205</td>\n",
       "      <td>9.9.5.45</td>\n",
       "      <td>7801</td>\n",
       "      <td>...</td>\n",
       "      <td>7801</td>\n",
       "      <td>ssp-client</td>\n",
       "      <td>0</td>\n",
       "      <td>0</td>\n",
       "      <td>Unknown</td>\n",
       "      <td>203</td>\n",
       "      <td>416</td>\n",
       "      <td>164</td>\n",
       "      <td>424</td>\n",
       "      <td>0x01</td>\n",
       "    </tr>\n",
       "    <tr>\n",
       "      <th>1719</th>\n",
       "      <td>A</td>\n",
       "      <td>1028</td>\n",
       "      <td>0x0400000000004000</td>\n",
       "      <td>1.673969e+09</td>\n",
       "      <td>1.673969e+09</td>\n",
       "      <td>0.109735</td>\n",
       "      <td>10.120.45.23</td>\n",
       "      <td>56227</td>\n",
       "      <td>9.9.5.45</td>\n",
       "      <td>7801</td>\n",
       "      <td>...</td>\n",
       "      <td>7801</td>\n",
       "      <td>ssp-client</td>\n",
       "      <td>0</td>\n",
       "      <td>0</td>\n",
       "      <td>Unknown</td>\n",
       "      <td>4</td>\n",
       "      <td>7</td>\n",
       "      <td>0</td>\n",
       "      <td>0</td>\n",
       "      <td>0x00</td>\n",
       "    </tr>\n",
       "    <tr>\n",
       "      <th>1730</th>\n",
       "      <td>A</td>\n",
       "      <td>1034</td>\n",
       "      <td>0x0400000000004000</td>\n",
       "      <td>1.673969e+09</td>\n",
       "      <td>1.673969e+09</td>\n",
       "      <td>299.194638</td>\n",
       "      <td>10.120.45.23</td>\n",
       "      <td>56228</td>\n",
       "      <td>9.9.5.45</td>\n",
       "      <td>7801</td>\n",
       "      <td>...</td>\n",
       "      <td>7801</td>\n",
       "      <td>ssp-client</td>\n",
       "      <td>0</td>\n",
       "      <td>0</td>\n",
       "      <td>Unknown</td>\n",
       "      <td>286</td>\n",
       "      <td>582</td>\n",
       "      <td>287</td>\n",
       "      <td>633</td>\n",
       "      <td>0x02</td>\n",
       "    </tr>\n",
       "    <tr>\n",
       "      <th>2647</th>\n",
       "      <td>A</td>\n",
       "      <td>1583</td>\n",
       "      <td>0x0400000000004000</td>\n",
       "      <td>1.673969e+09</td>\n",
       "      <td>1.673969e+09</td>\n",
       "      <td>209.982323</td>\n",
       "      <td>10.120.45.23</td>\n",
       "      <td>56228</td>\n",
       "      <td>9.9.5.45</td>\n",
       "      <td>7801</td>\n",
       "      <td>...</td>\n",
       "      <td>7801</td>\n",
       "      <td>ssp-client</td>\n",
       "      <td>0</td>\n",
       "      <td>0</td>\n",
       "      <td>Unknown</td>\n",
       "      <td>202</td>\n",
       "      <td>414</td>\n",
       "      <td>164</td>\n",
       "      <td>424</td>\n",
       "      <td>0x01</td>\n",
       "    </tr>\n",
       "    <tr>\n",
       "      <th>3396</th>\n",
       "      <td>A</td>\n",
       "      <td>2042</td>\n",
       "      <td>0x0400000000004000</td>\n",
       "      <td>1.673969e+09</td>\n",
       "      <td>1.673969e+09</td>\n",
       "      <td>0.114563</td>\n",
       "      <td>10.120.45.23</td>\n",
       "      <td>56242</td>\n",
       "      <td>9.9.5.45</td>\n",
       "      <td>7801</td>\n",
       "      <td>...</td>\n",
       "      <td>7801</td>\n",
       "      <td>ssp-client</td>\n",
       "      <td>0</td>\n",
       "      <td>0</td>\n",
       "      <td>Unknown</td>\n",
       "      <td>4</td>\n",
       "      <td>7</td>\n",
       "      <td>0</td>\n",
       "      <td>0</td>\n",
       "      <td>0x00</td>\n",
       "    </tr>\n",
       "    <tr>\n",
       "      <th>3429</th>\n",
       "      <td>A</td>\n",
       "      <td>2059</td>\n",
       "      <td>0x0400000000004000</td>\n",
       "      <td>1.673969e+09</td>\n",
       "      <td>1.673970e+09</td>\n",
       "      <td>299.178832</td>\n",
       "      <td>10.120.45.23</td>\n",
       "      <td>56243</td>\n",
       "      <td>9.9.5.45</td>\n",
       "      <td>7801</td>\n",
       "      <td>...</td>\n",
       "      <td>7801</td>\n",
       "      <td>ssp-client</td>\n",
       "      <td>0</td>\n",
       "      <td>0</td>\n",
       "      <td>Unknown</td>\n",
       "      <td>286</td>\n",
       "      <td>583</td>\n",
       "      <td>287</td>\n",
       "      <td>633</td>\n",
       "      <td>0x02</td>\n",
       "    </tr>\n",
       "    <tr>\n",
       "      <th>4243</th>\n",
       "      <td>A</td>\n",
       "      <td>2557</td>\n",
       "      <td>0x0400000000004000</td>\n",
       "      <td>1.673970e+09</td>\n",
       "      <td>1.673970e+09</td>\n",
       "      <td>210.030148</td>\n",
       "      <td>10.120.45.23</td>\n",
       "      <td>56243</td>\n",
       "      <td>9.9.5.45</td>\n",
       "      <td>7801</td>\n",
       "      <td>...</td>\n",
       "      <td>7801</td>\n",
       "      <td>ssp-client</td>\n",
       "      <td>0</td>\n",
       "      <td>0</td>\n",
       "      <td>Unknown</td>\n",
       "      <td>204</td>\n",
       "      <td>418</td>\n",
       "      <td>164</td>\n",
       "      <td>425</td>\n",
       "      <td>0x01</td>\n",
       "    </tr>\n",
       "    <tr>\n",
       "      <th>5049</th>\n",
       "      <td>A</td>\n",
       "      <td>3038</td>\n",
       "      <td>0x0400000000004000</td>\n",
       "      <td>1.673970e+09</td>\n",
       "      <td>1.673970e+09</td>\n",
       "      <td>0.108110</td>\n",
       "      <td>10.120.45.23</td>\n",
       "      <td>56260</td>\n",
       "      <td>9.9.5.45</td>\n",
       "      <td>7801</td>\n",
       "      <td>...</td>\n",
       "      <td>7801</td>\n",
       "      <td>ssp-client</td>\n",
       "      <td>0</td>\n",
       "      <td>0</td>\n",
       "      <td>Unknown</td>\n",
       "      <td>4</td>\n",
       "      <td>7</td>\n",
       "      <td>0</td>\n",
       "      <td>0</td>\n",
       "      <td>0x00</td>\n",
       "    </tr>\n",
       "  </tbody>\n",
       "</table>\n",
       "<p>10 rows × 21 columns</p>\n",
       "</div>"
      ],
      "text/plain": [
       "     dir  flowInd            flowStat     timeFirst      timeLast    duration   \n",
       "292    A      160  0x0400000000004000  1.673968e+09  1.673968e+09    0.110184  \\\n",
       "298    A      163  0x0400020000004000  1.673968e+09  1.673969e+09  298.133923   \n",
       "1118   A      659  0x0400000000004000  1.673969e+09  1.673969e+09  211.246773   \n",
       "1719   A     1028  0x0400000000004000  1.673969e+09  1.673969e+09    0.109735   \n",
       "1730   A     1034  0x0400000000004000  1.673969e+09  1.673969e+09  299.194638   \n",
       "2647   A     1583  0x0400000000004000  1.673969e+09  1.673969e+09  209.982323   \n",
       "3396   A     2042  0x0400000000004000  1.673969e+09  1.673969e+09    0.114563   \n",
       "3429   A     2059  0x0400000000004000  1.673969e+09  1.673970e+09  299.178832   \n",
       "4243   A     2557  0x0400000000004000  1.673970e+09  1.673970e+09  210.030148   \n",
       "5049   A     3038  0x0400000000004000  1.673970e+09  1.673970e+09    0.108110   \n",
       "\n",
       "             srcIP  srcPort     dstIP  dstPort  ...  dstPortClassN   \n",
       "292   10.120.45.23    56204  9.9.5.45     7801  ...           7801  \\\n",
       "298   10.120.45.23    56205  9.9.5.45     7801  ...           7801   \n",
       "1118  10.120.45.23    56205  9.9.5.45     7801  ...           7801   \n",
       "1719  10.120.45.23    56227  9.9.5.45     7801  ...           7801   \n",
       "1730  10.120.45.23    56228  9.9.5.45     7801  ...           7801   \n",
       "2647  10.120.45.23    56228  9.9.5.45     7801  ...           7801   \n",
       "3396  10.120.45.23    56242  9.9.5.45     7801  ...           7801   \n",
       "3429  10.120.45.23    56243  9.9.5.45     7801  ...           7801   \n",
       "4243  10.120.45.23    56243  9.9.5.45     7801  ...           7801   \n",
       "5049  10.120.45.23    56260  9.9.5.45     7801  ...           7801   \n",
       "\n",
       "      dstPortClass nDPIMasterProto  nDPISubProto  nDPIclass numPktsSnt   \n",
       "292     ssp-client               0             0    Unknown          4  \\\n",
       "298     ssp-client               0             0    Unknown        284   \n",
       "1118    ssp-client               0             0    Unknown        203   \n",
       "1719    ssp-client               0             0    Unknown          4   \n",
       "1730    ssp-client               0             0    Unknown        286   \n",
       "2647    ssp-client               0             0    Unknown        202   \n",
       "3396    ssp-client               0             0    Unknown          4   \n",
       "3429    ssp-client               0             0    Unknown        286   \n",
       "4243    ssp-client               0             0    Unknown        204   \n",
       "5049    ssp-client               0             0    Unknown          4   \n",
       "\n",
       "      numPktsRTAggr  numBytesSnt  numBytesRTAggr  tcpStatesAFlags  \n",
       "292               7            0               0             0x00  \n",
       "298             580          287             633             0x02  \n",
       "1118            416          164             424             0x01  \n",
       "1719              7            0               0             0x00  \n",
       "1730            582          287             633             0x02  \n",
       "2647            414          164             424             0x01  \n",
       "3396              7            0               0             0x00  \n",
       "3429            583          287             633             0x02  \n",
       "4243            418          164             425             0x01  \n",
       "5049              7            0               0             0x00  \n",
       "\n",
       "[10 rows x 21 columns]"
      ]
     },
     "execution_count": 56,
     "metadata": {},
     "output_type": "execute_result"
    }
   ],
   "source": [
    "tmp = dfdata[dfdata['dir']=='A']\n",
    "tmp=tmp[tmp.eval(\" nDPIMasterProto == 0 \")]\n",
    "tmp.head(10)\n"
   ]
  },
  {
   "cell_type": "markdown",
   "id": "21263702-bbb5-411a-8c3d-05debf04381f",
   "metadata": {
    "jp-MarkdownHeadingCollapsed": true,
    "tags": []
   },
   "source": [
    "## TOP values columns\n",
    "\n",
    "\n",
    "Largest sum BytesRTaggr : DNP3 1,302,733,923\n",
    "\n",
    "TOP DNP3 aggregate(sum) BytesRTaggr  : \n",
    "* OXE - Hidro Oxec - RTU\t10.91.1.34\n",
    "* AGU - Aguacapa - RTU\t9.9.5.11\n",
    "* PNT - Ingenio Pantaleon - RTU\t9.9.5.248\n",
    "* REN2 - Renace 2, 3 y 4 - RTU\t9.9.5.81\n",
    "* MNL - El Manantial - RTU\t9.9.5.83"
   ]
  },
  {
   "cell_type": "markdown",
   "id": "266429ba-d82f-4984-a4ae-4fbad53615d6",
   "metadata": {},
   "source": [
    "group data and aggregate function"
   ]
  },
  {
   "cell_type": "code",
   "execution_count": 16,
   "id": "8d595a83-bf1e-4204-92a7-72f5dafba71f",
   "metadata": {
    "tags": []
   },
   "outputs": [],
   "source": [
    "grouped_df = dfdata.groupby(['nDPIclass'])"
   ]
  },
  {
   "cell_type": "code",
   "execution_count": 17,
   "id": "9d853090-a264-49d9-8a9d-567a48e1aa5b",
   "metadata": {
    "tags": []
   },
   "outputs": [
    {
     "data": {
      "text/html": [
       "<div>\n",
       "<style scoped>\n",
       "    .dataframe tbody tr th:only-of-type {\n",
       "        vertical-align: middle;\n",
       "    }\n",
       "\n",
       "    .dataframe tbody tr th {\n",
       "        vertical-align: top;\n",
       "    }\n",
       "\n",
       "    .dataframe thead th {\n",
       "        text-align: right;\n",
       "    }\n",
       "</style>\n",
       "<table border=\"1\" class=\"dataframe\">\n",
       "  <thead>\n",
       "    <tr style=\"text-align: right;\">\n",
       "      <th></th>\n",
       "      <th>numBytesRTAggr</th>\n",
       "    </tr>\n",
       "    <tr>\n",
       "      <th>nDPIclass</th>\n",
       "      <th></th>\n",
       "    </tr>\n",
       "  </thead>\n",
       "  <tbody>\n",
       "    <tr>\n",
       "      <th>DNP3</th>\n",
       "      <td>1302733923</td>\n",
       "    </tr>\n",
       "    <tr>\n",
       "      <th>SNMP</th>\n",
       "      <td>372825561</td>\n",
       "    </tr>\n",
       "    <tr>\n",
       "      <th>CPHA</th>\n",
       "      <td>117865424</td>\n",
       "    </tr>\n",
       "    <tr>\n",
       "      <th>ICMP</th>\n",
       "      <td>17051957</td>\n",
       "    </tr>\n",
       "    <tr>\n",
       "      <th>Modbus</th>\n",
       "      <td>16066994</td>\n",
       "    </tr>\n",
       "    <tr>\n",
       "      <th>Cassandra</th>\n",
       "      <td>2555396</td>\n",
       "    </tr>\n",
       "    <tr>\n",
       "      <th>NTP</th>\n",
       "      <td>498048</td>\n",
       "    </tr>\n",
       "    <tr>\n",
       "      <th>Unknown</th>\n",
       "      <td>390906</td>\n",
       "    </tr>\n",
       "    <tr>\n",
       "      <th>Syslog</th>\n",
       "      <td>967</td>\n",
       "    </tr>\n",
       "    <tr>\n",
       "      <th>DNS</th>\n",
       "      <td>880</td>\n",
       "    </tr>\n",
       "    <tr>\n",
       "      <th>IGMP</th>\n",
       "      <td>0</td>\n",
       "    </tr>\n",
       "  </tbody>\n",
       "</table>\n",
       "</div>"
      ],
      "text/plain": [
       "           numBytesRTAggr\n",
       "nDPIclass                \n",
       "DNP3           1302733923\n",
       "SNMP            372825561\n",
       "CPHA            117865424\n",
       "ICMP             17051957\n",
       "Modbus           16066994\n",
       "Cassandra         2555396\n",
       "NTP                498048\n",
       "Unknown            390906\n",
       "Syslog                967\n",
       "DNS                   880\n",
       "IGMP                    0"
      ]
     },
     "execution_count": 17,
     "metadata": {},
     "output_type": "execute_result"
    }
   ],
   "source": [
    "#top bytes aggregate function\n",
    "# aggrete bytes only payload L3\n",
    "aggregated_df = grouped_df.agg({'numBytesRTAggr': 'sum'})\n",
    "aggregated_df.sort_values(by=['numBytesRTAggr'],ascending=False)"
   ]
  },
  {
   "cell_type": "markdown",
   "id": "398b5534-4263-422d-8ad8-9ef247581530",
   "metadata": {},
   "source": [
    "TOP pares de IP en interacciones "
   ]
  },
  {
   "cell_type": "code",
   "execution_count": 18,
   "id": "771098bf-728c-4381-b294-f22632f4cd6a",
   "metadata": {
    "tags": []
   },
   "outputs": [],
   "source": [
    "grouped_df = dfdata.groupby(['dstIP','srcIP','nDPIclass'])"
   ]
  },
  {
   "cell_type": "code",
   "execution_count": 19,
   "id": "80ada554-0a12-4331-b146-7bd5008d28d4",
   "metadata": {
    "tags": []
   },
   "outputs": [],
   "source": [
    "#grouped_df.groups"
   ]
  },
  {
   "cell_type": "code",
   "execution_count": 20,
   "id": "0b85f0f5-a635-4884-b45b-759be8c74b22",
   "metadata": {
    "tags": []
   },
   "outputs": [
    {
     "data": {
      "text/html": [
       "<div>\n",
       "<style scoped>\n",
       "    .dataframe tbody tr th:only-of-type {\n",
       "        vertical-align: middle;\n",
       "    }\n",
       "\n",
       "    .dataframe tbody tr th {\n",
       "        vertical-align: top;\n",
       "    }\n",
       "\n",
       "    .dataframe thead th {\n",
       "        text-align: right;\n",
       "    }\n",
       "</style>\n",
       "<table border=\"1\" class=\"dataframe\">\n",
       "  <thead>\n",
       "    <tr style=\"text-align: right;\">\n",
       "      <th></th>\n",
       "      <th></th>\n",
       "      <th></th>\n",
       "      <th>numBytesRTAggr</th>\n",
       "      <th>nDPIclass</th>\n",
       "    </tr>\n",
       "    <tr>\n",
       "      <th>dstIP</th>\n",
       "      <th>srcIP</th>\n",
       "      <th>nDPIclass</th>\n",
       "      <th></th>\n",
       "      <th></th>\n",
       "    </tr>\n",
       "  </thead>\n",
       "  <tbody>\n",
       "    <tr>\n",
       "      <th>9.9.5.22</th>\n",
       "      <th>9.9.5.10</th>\n",
       "      <th>SNMP</th>\n",
       "      <td>161184586</td>\n",
       "      <td>4706</td>\n",
       "    </tr>\n",
       "    <tr>\n",
       "      <th>9.9.5.10</th>\n",
       "      <th>9.9.5.22</th>\n",
       "      <th>SNMP</th>\n",
       "      <td>161181082</td>\n",
       "      <td>4698</td>\n",
       "    </tr>\n",
       "    <tr>\n",
       "      <th>172.28.1.0</th>\n",
       "      <th>0.0.0.0</th>\n",
       "      <th>CPHA</th>\n",
       "      <td>58932712</td>\n",
       "      <td>381</td>\n",
       "    </tr>\n",
       "    <tr>\n",
       "      <th>9.9.5.0</th>\n",
       "      <th>0.0.0.0</th>\n",
       "      <th>CPHA</th>\n",
       "      <td>58932712</td>\n",
       "      <td>381</td>\n",
       "    </tr>\n",
       "    <tr>\n",
       "      <th>9.9.5.10</th>\n",
       "      <th>9.9.5.11</th>\n",
       "      <th>DNP3</th>\n",
       "      <td>38363602</td>\n",
       "      <td>379</td>\n",
       "    </tr>\n",
       "    <tr>\n",
       "      <th>9.9.5.11</th>\n",
       "      <th>9.9.5.10</th>\n",
       "      <th>DNP3</th>\n",
       "      <td>38363602</td>\n",
       "      <td>379</td>\n",
       "    </tr>\n",
       "    <tr>\n",
       "      <th>9.9.5.10</th>\n",
       "      <th>9.9.5.248</th>\n",
       "      <th>DNP3</th>\n",
       "      <td>36025038</td>\n",
       "      <td>379</td>\n",
       "    </tr>\n",
       "    <tr>\n",
       "      <th>9.9.5.248</th>\n",
       "      <th>9.9.5.10</th>\n",
       "      <th>DNP3</th>\n",
       "      <td>36025038</td>\n",
       "      <td>379</td>\n",
       "    </tr>\n",
       "    <tr>\n",
       "      <th>9.9.5.83</th>\n",
       "      <th>9.9.5.9</th>\n",
       "      <th>DNP3</th>\n",
       "      <td>30017899</td>\n",
       "      <td>379</td>\n",
       "    </tr>\n",
       "    <tr>\n",
       "      <th>9.9.5.9</th>\n",
       "      <th>9.9.5.83</th>\n",
       "      <th>DNP3</th>\n",
       "      <td>30017899</td>\n",
       "      <td>379</td>\n",
       "    </tr>\n",
       "    <tr>\n",
       "      <th>9.9.5.81</th>\n",
       "      <th>9.9.5.9</th>\n",
       "      <th>DNP3</th>\n",
       "      <td>17966346</td>\n",
       "      <td>379</td>\n",
       "    </tr>\n",
       "    <tr>\n",
       "      <th>9.9.5.9</th>\n",
       "      <th>9.9.5.81</th>\n",
       "      <th>DNP3</th>\n",
       "      <td>17966346</td>\n",
       "      <td>379</td>\n",
       "    </tr>\n",
       "    <tr>\n",
       "      <th>10.91.1.34</th>\n",
       "      <th>10.99.5.10</th>\n",
       "      <th>DNP3</th>\n",
       "      <td>14432497</td>\n",
       "      <td>379</td>\n",
       "    </tr>\n",
       "    <tr>\n",
       "      <th>10.99.5.10</th>\n",
       "      <th>10.91.1.34</th>\n",
       "      <th>DNP3</th>\n",
       "      <td>14432497</td>\n",
       "      <td>379</td>\n",
       "    </tr>\n",
       "    <tr>\n",
       "      <th>9.9.5.224</th>\n",
       "      <th>9.9.5.9</th>\n",
       "      <th>DNP3</th>\n",
       "      <td>12550776</td>\n",
       "      <td>379</td>\n",
       "    </tr>\n",
       "    <tr>\n",
       "      <th>9.9.5.9</th>\n",
       "      <th>9.9.5.224</th>\n",
       "      <th>DNP3</th>\n",
       "      <td>12550776</td>\n",
       "      <td>379</td>\n",
       "    </tr>\n",
       "    <tr>\n",
       "      <th>9.9.5.105</th>\n",
       "      <th>9.9.5.10</th>\n",
       "      <th>DNP3</th>\n",
       "      <td>11856656</td>\n",
       "      <td>285</td>\n",
       "    </tr>\n",
       "    <tr>\n",
       "      <th rowspan=\"2\" valign=\"top\">9.9.5.10</th>\n",
       "      <th>9.9.5.105</th>\n",
       "      <th>DNP3</th>\n",
       "      <td>11856512</td>\n",
       "      <td>283</td>\n",
       "    </tr>\n",
       "    <tr>\n",
       "      <th>9.9.5.236</th>\n",
       "      <th>DNP3</th>\n",
       "      <td>11831417</td>\n",
       "      <td>329</td>\n",
       "    </tr>\n",
       "    <tr>\n",
       "      <th>9.9.5.236</th>\n",
       "      <th>9.9.5.10</th>\n",
       "      <th>DNP3</th>\n",
       "      <td>11831417</td>\n",
       "      <td>339</td>\n",
       "    </tr>\n",
       "  </tbody>\n",
       "</table>\n",
       "</div>"
      ],
      "text/plain": [
       "                                 numBytesRTAggr  nDPIclass\n",
       "dstIP      srcIP      nDPIclass                           \n",
       "9.9.5.22   9.9.5.10   SNMP            161184586       4706\n",
       "9.9.5.10   9.9.5.22   SNMP            161181082       4698\n",
       "172.28.1.0 0.0.0.0    CPHA             58932712        381\n",
       "9.9.5.0    0.0.0.0    CPHA             58932712        381\n",
       "9.9.5.10   9.9.5.11   DNP3             38363602        379\n",
       "9.9.5.11   9.9.5.10   DNP3             38363602        379\n",
       "9.9.5.10   9.9.5.248  DNP3             36025038        379\n",
       "9.9.5.248  9.9.5.10   DNP3             36025038        379\n",
       "9.9.5.83   9.9.5.9    DNP3             30017899        379\n",
       "9.9.5.9    9.9.5.83   DNP3             30017899        379\n",
       "9.9.5.81   9.9.5.9    DNP3             17966346        379\n",
       "9.9.5.9    9.9.5.81   DNP3             17966346        379\n",
       "10.91.1.34 10.99.5.10 DNP3             14432497        379\n",
       "10.99.5.10 10.91.1.34 DNP3             14432497        379\n",
       "9.9.5.224  9.9.5.9    DNP3             12550776        379\n",
       "9.9.5.9    9.9.5.224  DNP3             12550776        379\n",
       "9.9.5.105  9.9.5.10   DNP3             11856656        285\n",
       "9.9.5.10   9.9.5.105  DNP3             11856512        283\n",
       "           9.9.5.236  DNP3             11831417        329\n",
       "9.9.5.236  9.9.5.10   DNP3             11831417        339"
      ]
     },
     "execution_count": 20,
     "metadata": {},
     "output_type": "execute_result"
    }
   ],
   "source": [
    "aggregated_df = grouped_df.agg({'numBytesRTAggr': 'sum','nDPIclass': 'count'})\n",
    "aggregated_df.nlargest(20,'numBytesRTAggr')"
   ]
  },
  {
   "cell_type": "markdown",
   "id": "b489721d-5d3b-4997-be7c-9ffee9ca0dfd",
   "metadata": {
    "jp-MarkdownHeadingCollapsed": true,
    "tags": []
   },
   "source": [
    "## Explore data \"La perla\"\n",
    "\n",
    "El filtro con operador OR de destino o fuente con la IP de la RTU no pierde resultados\n",
    "\n",
    "La Perla es un ejemplo de cambio de maestra "
   ]
  },
  {
   "cell_type": "code",
   "execution_count": 21,
   "id": "dfe32a1c-3539-4b77-8303-c187abd30d21",
   "metadata": {
    "tags": []
   },
   "outputs": [
    {
     "data": {
      "text/html": [
       "<div>\n",
       "<style scoped>\n",
       "    .dataframe tbody tr th:only-of-type {\n",
       "        vertical-align: middle;\n",
       "    }\n",
       "\n",
       "    .dataframe tbody tr th {\n",
       "        vertical-align: top;\n",
       "    }\n",
       "\n",
       "    .dataframe thead th {\n",
       "        text-align: right;\n",
       "    }\n",
       "</style>\n",
       "<table border=\"1\" class=\"dataframe\">\n",
       "  <thead>\n",
       "    <tr style=\"text-align: right;\">\n",
       "      <th></th>\n",
       "      <th>dir</th>\n",
       "      <th>timeLast</th>\n",
       "      <th>srcIP</th>\n",
       "      <th>dstIP</th>\n",
       "      <th>dstPortClass</th>\n",
       "      <th>nDPIclass</th>\n",
       "      <th>numBytesRTAggr</th>\n",
       "      <th>tcpStatesAFlags</th>\n",
       "      <th>nDPIMasterProto</th>\n",
       "    </tr>\n",
       "  </thead>\n",
       "  <tbody>\n",
       "    <tr>\n",
       "      <th>0</th>\n",
       "      <td>A</td>\n",
       "      <td>1.673969e+09</td>\n",
       "      <td>9.9.5.9</td>\n",
       "      <td>9.9.5.108</td>\n",
       "      <td>dnp</td>\n",
       "      <td>DNP3</td>\n",
       "      <td>14700</td>\n",
       "      <td>0x03</td>\n",
       "      <td>244</td>\n",
       "    </tr>\n",
       "    <tr>\n",
       "      <th>2</th>\n",
       "      <td>A</td>\n",
       "      <td>1.673969e+09</td>\n",
       "      <td>9.9.5.211</td>\n",
       "      <td>9.9.5.9</td>\n",
       "      <td>unknown</td>\n",
       "      <td>DNP3</td>\n",
       "      <td>5307</td>\n",
       "      <td>0x03</td>\n",
       "      <td>244</td>\n",
       "    </tr>\n",
       "    <tr>\n",
       "      <th>4</th>\n",
       "      <td>A</td>\n",
       "      <td>1.673969e+09</td>\n",
       "      <td>9.9.5.246</td>\n",
       "      <td>9.9.5.9</td>\n",
       "      <td>unknown</td>\n",
       "      <td>DNP3</td>\n",
       "      <td>10804</td>\n",
       "      <td>0x03</td>\n",
       "      <td>244</td>\n",
       "    </tr>\n",
       "    <tr>\n",
       "      <th>6</th>\n",
       "      <td>A</td>\n",
       "      <td>1.673969e+09</td>\n",
       "      <td>9.9.5.10</td>\n",
       "      <td>9.9.5.212</td>\n",
       "      <td>dnp</td>\n",
       "      <td>DNP3</td>\n",
       "      <td>8150</td>\n",
       "      <td>0x03</td>\n",
       "      <td>244</td>\n",
       "    </tr>\n",
       "    <tr>\n",
       "      <th>8</th>\n",
       "      <td>A</td>\n",
       "      <td>1.673969e+09</td>\n",
       "      <td>10.92.0.58</td>\n",
       "      <td>10.99.5.10</td>\n",
       "      <td>unknown</td>\n",
       "      <td>DNP3</td>\n",
       "      <td>12282</td>\n",
       "      <td>0x03</td>\n",
       "      <td>244</td>\n",
       "    </tr>\n",
       "  </tbody>\n",
       "</table>\n",
       "</div>"
      ],
      "text/plain": [
       "  dir      timeLast       srcIP       dstIP dstPortClass nDPIclass   \n",
       "0   A  1.673969e+09     9.9.5.9   9.9.5.108          dnp      DNP3  \\\n",
       "2   A  1.673969e+09   9.9.5.211     9.9.5.9      unknown      DNP3   \n",
       "4   A  1.673969e+09   9.9.5.246     9.9.5.9      unknown      DNP3   \n",
       "6   A  1.673969e+09    9.9.5.10   9.9.5.212          dnp      DNP3   \n",
       "8   A  1.673969e+09  10.92.0.58  10.99.5.10      unknown      DNP3   \n",
       "\n",
       "   numBytesRTAggr tcpStatesAFlags  nDPIMasterProto  \n",
       "0           14700            0x03              244  \n",
       "2            5307            0x03              244  \n",
       "4           10804            0x03              244  \n",
       "6            8150            0x03              244  \n",
       "8           12282            0x03              244  "
      ]
     },
     "execution_count": 21,
     "metadata": {},
     "output_type": "execute_result"
    }
   ],
   "source": [
    "tmp = dfdata[dfdata['dir']=='A']\n",
    "tmp = tmp[['dir','timeLast','srcIP','dstIP','dstPortClass','nDPIclass','numBytesRTAggr','tcpStatesAFlags','nDPIMasterProto']]\n",
    "tmp.head()"
   ]
  },
  {
   "cell_type": "code",
   "execution_count": 22,
   "id": "35b12cbd-8bc5-4dd2-9d3e-af2640307dd8",
   "metadata": {
    "tags": []
   },
   "outputs": [
    {
     "data": {
      "text/html": [
       "<div>\n",
       "<style scoped>\n",
       "    .dataframe tbody tr th:only-of-type {\n",
       "        vertical-align: middle;\n",
       "    }\n",
       "\n",
       "    .dataframe tbody tr th {\n",
       "        vertical-align: top;\n",
       "    }\n",
       "\n",
       "    .dataframe thead th {\n",
       "        text-align: right;\n",
       "    }\n",
       "</style>\n",
       "<table border=\"1\" class=\"dataframe\">\n",
       "  <thead>\n",
       "    <tr style=\"text-align: right;\">\n",
       "      <th></th>\n",
       "      <th>dir</th>\n",
       "      <th>timeLast</th>\n",
       "      <th>srcIP</th>\n",
       "      <th>dstIP</th>\n",
       "      <th>dstPortClass</th>\n",
       "      <th>nDPIclass</th>\n",
       "      <th>numBytesRTAggr</th>\n",
       "      <th>tcpStatesAFlags</th>\n",
       "      <th>nDPIMasterProto</th>\n",
       "    </tr>\n",
       "  </thead>\n",
       "  <tbody>\n",
       "    <tr>\n",
       "      <th>7259</th>\n",
       "      <td>A</td>\n",
       "      <td>1.673971e+09</td>\n",
       "      <td>9.9.5.10</td>\n",
       "      <td>9.9.5.30</td>\n",
       "      <td>dnp</td>\n",
       "      <td>DNP3</td>\n",
       "      <td>5300</td>\n",
       "      <td>0x43</td>\n",
       "      <td>244</td>\n",
       "    </tr>\n",
       "    <tr>\n",
       "      <th>7284</th>\n",
       "      <td>A</td>\n",
       "      <td>1.673971e+09</td>\n",
       "      <td>9.9.5.30</td>\n",
       "      <td>9.9.5.10</td>\n",
       "      <td>unknown</td>\n",
       "      <td>DNP3</td>\n",
       "      <td>480</td>\n",
       "      <td>0x03</td>\n",
       "      <td>244</td>\n",
       "    </tr>\n",
       "    <tr>\n",
       "      <th>7287</th>\n",
       "      <td>A</td>\n",
       "      <td>1.673971e+09</td>\n",
       "      <td>9.9.5.10</td>\n",
       "      <td>9.9.5.30</td>\n",
       "      <td>dnp</td>\n",
       "      <td>DNP3</td>\n",
       "      <td>0</td>\n",
       "      <td>0x03</td>\n",
       "      <td>244</td>\n",
       "    </tr>\n",
       "    <tr>\n",
       "      <th>7290</th>\n",
       "      <td>A</td>\n",
       "      <td>1.673971e+09</td>\n",
       "      <td>9.9.5.10</td>\n",
       "      <td>9.9.5.30</td>\n",
       "      <td>dnp</td>\n",
       "      <td>DNP3</td>\n",
       "      <td>0</td>\n",
       "      <td>0x03</td>\n",
       "      <td>244</td>\n",
       "    </tr>\n",
       "    <tr>\n",
       "      <th>7292</th>\n",
       "      <td>A</td>\n",
       "      <td>1.673971e+09</td>\n",
       "      <td>9.9.5.10</td>\n",
       "      <td>9.9.5.30</td>\n",
       "      <td>dnp</td>\n",
       "      <td>DNP3</td>\n",
       "      <td>0</td>\n",
       "      <td>0x03</td>\n",
       "      <td>244</td>\n",
       "    </tr>\n",
       "  </tbody>\n",
       "</table>\n",
       "</div>"
      ],
      "text/plain": [
       "     dir      timeLast     srcIP     dstIP dstPortClass nDPIclass   \n",
       "7259   A  1.673971e+09  9.9.5.10  9.9.5.30          dnp      DNP3  \\\n",
       "7284   A  1.673971e+09  9.9.5.30  9.9.5.10      unknown      DNP3   \n",
       "7287   A  1.673971e+09  9.9.5.10  9.9.5.30          dnp      DNP3   \n",
       "7290   A  1.673971e+09  9.9.5.10  9.9.5.30          dnp      DNP3   \n",
       "7292   A  1.673971e+09  9.9.5.10  9.9.5.30          dnp      DNP3   \n",
       "\n",
       "      numBytesRTAggr tcpStatesAFlags  nDPIMasterProto  \n",
       "7259            5300            0x43              244  \n",
       "7284             480            0x03              244  \n",
       "7287               0            0x03              244  \n",
       "7290               0            0x03              244  \n",
       "7292               0            0x03              244  "
      ]
     },
     "execution_count": 22,
     "metadata": {},
     "output_type": "execute_result"
    }
   ],
   "source": [
    "tmp=tmp[tmp.eval(\"(srcIP == '9.9.5.30' | (dstIP == '9.9.5.30')) & nDPIMasterProto == 244 \")]\n",
    "tmp.head()"
   ]
  },
  {
   "cell_type": "code",
   "execution_count": 23,
   "id": "7a0a6386-9e46-48eb-9ea7-af2c52cfb4ba",
   "metadata": {
    "tags": []
   },
   "outputs": [
    {
     "data": {
      "text/plain": [
       "<Axes: xlabel='timeLast'>"
      ]
     },
     "execution_count": 23,
     "metadata": {},
     "output_type": "execute_result"
    },
    {
     "data": {
      "image/png": "[encoded data removed]",
      "text/plain": [
       "<Figure size 640x480 with 1 Axes>"
      ]
     },
     "metadata": {},
     "output_type": "display_data"
    }
   ],
   "source": [
    "# la perla con ip destino u origen 9.9.5.30 La Perla\n",
    "tmp.plot(x=\"timeLast\", y=[\"numBytesRTAggr\"])"
   ]
  },
  {
   "cell_type": "code",
   "execution_count": 24,
   "id": "485707a1-89ac-4633-80d7-70134e75a5b2",
   "metadata": {
    "tags": []
   },
   "outputs": [
    {
     "data": {
      "text/html": [
       "<div>\n",
       "<style scoped>\n",
       "    .dataframe tbody tr th:only-of-type {\n",
       "        vertical-align: middle;\n",
       "    }\n",
       "\n",
       "    .dataframe tbody tr th {\n",
       "        vertical-align: top;\n",
       "    }\n",
       "\n",
       "    .dataframe thead th {\n",
       "        text-align: right;\n",
       "    }\n",
       "</style>\n",
       "<table border=\"1\" class=\"dataframe\">\n",
       "  <thead>\n",
       "    <tr style=\"text-align: right;\">\n",
       "      <th></th>\n",
       "      <th>dir</th>\n",
       "      <th>timeLast</th>\n",
       "      <th>srcIP</th>\n",
       "      <th>dstIP</th>\n",
       "      <th>dstPortClass</th>\n",
       "      <th>nDPIclass</th>\n",
       "      <th>numBytesRTAggr</th>\n",
       "      <th>tcpStatesAFlags</th>\n",
       "      <th>nDPIMasterProto</th>\n",
       "    </tr>\n",
       "  </thead>\n",
       "  <tbody>\n",
       "    <tr>\n",
       "      <th>7260</th>\n",
       "      <td>B</td>\n",
       "      <td>1.673971e+09</td>\n",
       "      <td>9.9.5.30</td>\n",
       "      <td>9.9.5.10</td>\n",
       "      <td>dnp</td>\n",
       "      <td>DNP3</td>\n",
       "      <td>5300</td>\n",
       "      <td>0x03</td>\n",
       "      <td>244</td>\n",
       "    </tr>\n",
       "    <tr>\n",
       "      <th>7284</th>\n",
       "      <td>A</td>\n",
       "      <td>1.673971e+09</td>\n",
       "      <td>9.9.5.30</td>\n",
       "      <td>9.9.5.10</td>\n",
       "      <td>unknown</td>\n",
       "      <td>DNP3</td>\n",
       "      <td>480</td>\n",
       "      <td>0x03</td>\n",
       "      <td>244</td>\n",
       "    </tr>\n",
       "    <tr>\n",
       "      <th>7288</th>\n",
       "      <td>B</td>\n",
       "      <td>1.673971e+09</td>\n",
       "      <td>9.9.5.30</td>\n",
       "      <td>9.9.5.10</td>\n",
       "      <td>dnp</td>\n",
       "      <td>DNP3</td>\n",
       "      <td>0</td>\n",
       "      <td>0x43</td>\n",
       "      <td>244</td>\n",
       "    </tr>\n",
       "    <tr>\n",
       "      <th>7291</th>\n",
       "      <td>B</td>\n",
       "      <td>1.673971e+09</td>\n",
       "      <td>9.9.5.30</td>\n",
       "      <td>9.9.5.10</td>\n",
       "      <td>dnp</td>\n",
       "      <td>DNP3</td>\n",
       "      <td>0</td>\n",
       "      <td>0x43</td>\n",
       "      <td>244</td>\n",
       "    </tr>\n",
       "    <tr>\n",
       "      <th>7293</th>\n",
       "      <td>B</td>\n",
       "      <td>1.673971e+09</td>\n",
       "      <td>9.9.5.30</td>\n",
       "      <td>9.9.5.10</td>\n",
       "      <td>dnp</td>\n",
       "      <td>DNP3</td>\n",
       "      <td>0</td>\n",
       "      <td>0x43</td>\n",
       "      <td>244</td>\n",
       "    </tr>\n",
       "  </tbody>\n",
       "</table>\n",
       "</div>"
      ],
      "text/plain": [
       "     dir      timeLast     srcIP     dstIP dstPortClass nDPIclass   \n",
       "7260   B  1.673971e+09  9.9.5.30  9.9.5.10          dnp      DNP3  \\\n",
       "7284   A  1.673971e+09  9.9.5.30  9.9.5.10      unknown      DNP3   \n",
       "7288   B  1.673971e+09  9.9.5.30  9.9.5.10          dnp      DNP3   \n",
       "7291   B  1.673971e+09  9.9.5.30  9.9.5.10          dnp      DNP3   \n",
       "7293   B  1.673971e+09  9.9.5.30  9.9.5.10          dnp      DNP3   \n",
       "\n",
       "      numBytesRTAggr tcpStatesAFlags  nDPIMasterProto  \n",
       "7260            5300            0x03              244  \n",
       "7284             480            0x03              244  \n",
       "7288               0            0x43              244  \n",
       "7291               0            0x43              244  \n",
       "7293               0            0x43              244  "
      ]
     },
     "execution_count": 24,
     "metadata": {},
     "output_type": "execute_result"
    }
   ],
   "source": [
    "# comprobar si la distribucion de flujos es la misma si solo se filtra por una IP incluyendo ambos sentidos A,B \n",
    "tmp1 = dfdata[['dir','timeLast','srcIP','dstIP','dstPortClass','nDPIclass','numBytesRTAggr','tcpStatesAFlags','nDPIMasterProto']]\n",
    "tmp1=tmp1[tmp1.eval(\"(srcIP == '9.9.5.30') & nDPIMasterProto == 244 \")]\n",
    "tmp1.head()"
   ]
  },
  {
   "cell_type": "code",
   "execution_count": 25,
   "id": "e00878e5-0272-4253-b0b5-f225879736c5",
   "metadata": {
    "tags": []
   },
   "outputs": [
    {
     "data": {
      "text/plain": [
       "<Axes: xlabel='timeLast'>"
      ]
     },
     "execution_count": 25,
     "metadata": {},
     "output_type": "execute_result"
    },
    {
     "data": {
      "image/png": "[encoded data removed]",
      "text/plain": [
       "<Figure size 640x480 with 1 Axes>"
      ]
     },
     "metadata": {},
     "output_type": "display_data"
    }
   ],
   "source": [
    "tmp1.plot(x=\"timeLast\", y=[\"numBytesRTAggr\"])"
   ]
  },
  {
   "cell_type": "code",
   "execution_count": 26,
   "id": "3569296c-1bd1-4c71-a617-a6429d407040",
   "metadata": {
    "tags": []
   },
   "outputs": [
    {
     "data": {
      "text/plain": [
       "srcIP     dstIP   \n",
       "9.9.5.9   9.9.5.30    330\n",
       "9.9.5.10  9.9.5.30    240\n",
       "9.9.5.30  9.9.5.10      2\n",
       "          9.9.5.9       2\n",
       "Name: count, dtype: int64"
      ]
     },
     "execution_count": 26,
     "metadata": {},
     "output_type": "execute_result"
    }
   ],
   "source": [
    "#comprobacion de ip origen destino\n",
    "tmp[['srcIP','dstIP']].value_counts()"
   ]
  },
  {
   "cell_type": "code",
   "execution_count": 27,
   "id": "cfb577fc-a909-41bc-9317-a4889b9b8d27",
   "metadata": {
    "tags": []
   },
   "outputs": [
    {
     "data": {
      "text/plain": [
       "srcIP     dstIP   \n",
       "9.9.5.30  9.9.5.9     327\n",
       "          9.9.5.10    238\n",
       "Name: count, dtype: int64"
      ]
     },
     "execution_count": 27,
     "metadata": {},
     "output_type": "execute_result"
    }
   ],
   "source": [
    "tmp1[['srcIP','dstIP']].value_counts()"
   ]
  },
  {
   "cell_type": "markdown",
   "id": "e216cf04-d3f5-499a-8936-9bf676a8ecf4",
   "metadata": {
    "jp-MarkdownHeadingCollapsed": true,
    "tags": []
   },
   "source": [
    "## Explore data \"Aguacapa\""
   ]
  },
  {
   "cell_type": "code",
   "execution_count": 28,
   "id": "a7db17fa-e5d0-4346-bafb-09ff77ba96b1",
   "metadata": {
    "tags": []
   },
   "outputs": [
    {
     "data": {
      "text/plain": [
       "srcIP     dstIP   \n",
       "9.9.5.10  9.9.5.11    379\n",
       "Name: count, dtype: int64"
      ]
     },
     "execution_count": 28,
     "metadata": {},
     "output_type": "execute_result"
    }
   ],
   "source": [
    "tmp = dfdata[dfdata['dir']=='A']\n",
    "tmp = tmp[['dir','timeLast','srcIP','dstIP','dstPortClass','nDPIclass','numBytesRTAggr','tcpStatesAFlags','nDPIMasterProto']]\n",
    "tmp=tmp[tmp.eval(\"(srcIP == '9.9.5.11' | (dstIP == '9.9.5.11')) & nDPIMasterProto == 244 \")]\n",
    "tmp[['srcIP','dstIP']].value_counts()"
   ]
  },
  {
   "cell_type": "code",
   "execution_count": 29,
   "id": "4da07523-96c1-484f-aac3-a162e445bf95",
   "metadata": {
    "tags": []
   },
   "outputs": [
    {
     "data": {
      "text/plain": [
       "<Axes: xlabel='timeLast'>"
      ]
     },
     "execution_count": 29,
     "metadata": {},
     "output_type": "execute_result"
    },
    {
     "data": {
      "image/png": "[encoded data removed]",
      "text/plain": [
       "<Figure size 640x480 with 1 Axes>"
      ]
     },
     "metadata": {},
     "output_type": "display_data"
    }
   ],
   "source": [
    "tmp.plot(x=\"timeLast\", y=[\"numBytesRTAggr\"])"
   ]
  },
  {
   "cell_type": "markdown",
   "id": "18c5e23b-0cd4-4954-b2e0-c4388c26f5fa",
   "metadata": {
    "jp-MarkdownHeadingCollapsed": true,
    "tags": []
   },
   "source": [
    "## Explore data \"Pantaleon\""
   ]
  },
  {
   "cell_type": "code",
   "execution_count": 30,
   "id": "09a9ea72-8d4b-4819-8fd3-ea7de1b295b4",
   "metadata": {
    "tags": []
   },
   "outputs": [
    {
     "data": {
      "text/plain": [
       "srcIP     dstIP    \n",
       "9.9.5.10  9.9.5.248    379\n",
       "Name: count, dtype: int64"
      ]
     },
     "execution_count": 30,
     "metadata": {},
     "output_type": "execute_result"
    }
   ],
   "source": [
    "tmp = dfdata[dfdata['dir']=='A']\n",
    "tmp = tmp[['dir','timeLast','srcIP','dstIP','dstPortClass','nDPIclass','numBytesRTAggr','tcpStatesAFlags','nDPIMasterProto']]\n",
    "tmp=tmp[tmp.eval(\"(srcIP == '9.9.5.248' | (dstIP == '9.9.5.248')) & nDPIMasterProto == 244 \")]\n",
    "tmp[['srcIP','dstIP']].value_counts()"
   ]
  },
  {
   "cell_type": "code",
   "execution_count": 31,
   "id": "ffb148a3-664d-484e-bcda-9c8790b7a2e6",
   "metadata": {
    "tags": []
   },
   "outputs": [
    {
     "data": {
      "text/plain": [
       "<Axes: xlabel='timeLast'>"
      ]
     },
     "execution_count": 31,
     "metadata": {},
     "output_type": "execute_result"
    },
    {
     "data": {
      "image/png": "[encoded data removed]",
      "text/plain": [
       "<Figure size 640x480 with 1 Axes>"
      ]
     },
     "metadata": {},
     "output_type": "display_data"
    }
   ],
   "source": [
    "tmp.plot(x=\"timeLast\", y=[\"numBytesRTAggr\"])"
   ]
  },
  {
   "cell_type": "markdown",
   "id": "92ca1311-2c72-42db-9a15-af608bfc6c56",
   "metadata": {
    "jp-MarkdownHeadingCollapsed": true,
    "tags": []
   },
   "source": [
    "## Explore data \"Satelitales\" ingenio magdalena"
   ]
  },
  {
   "cell_type": "code",
   "execution_count": 32,
   "id": "3554b3c1-92ee-41ab-9099-b934e39061b8",
   "metadata": {
    "tags": []
   },
   "outputs": [
    {
     "data": {
      "text/plain": [
       "srcIP     dstIP    \n",
       "9.9.5.10  9.9.5.236    339\n",
       "9.9.5.9   9.9.5.236     53\n",
       "Name: count, dtype: int64"
      ]
     },
     "execution_count": 32,
     "metadata": {},
     "output_type": "execute_result"
    }
   ],
   "source": [
    "tmp = dfdata[dfdata['dir']=='A']\n",
    "tmp = tmp[['dir','timeLast','srcIP','dstIP','dstPortClass','nDPIclass','numBytesRTAggr','tcpStatesAFlags','nDPIMasterProto']]\n",
    "tmp=tmp[tmp.eval(\"(srcIP == '9.9.5.236' | (dstIP == '9.9.5.236')) & nDPIMasterProto == 244 \")]\n",
    "tmp[['srcIP','dstIP']].value_counts()"
   ]
  },
  {
   "cell_type": "code",
   "execution_count": 33,
   "id": "3d46fe39-afd7-4475-a80f-a546e7e572f9",
   "metadata": {
    "tags": []
   },
   "outputs": [
    {
     "data": {
      "text/plain": [
       "<Axes: xlabel='timeLast'>"
      ]
     },
     "execution_count": 33,
     "metadata": {},
     "output_type": "execute_result"
    },
    {
     "data": {
      "image/png": "[encoded data removed]",
      "text/plain": [
       "<Figure size 640x480 with 1 Axes>"
      ]
     },
     "metadata": {},
     "output_type": "display_data"
    }
   ],
   "source": [
    "tmp.plot(x=\"timeLast\", y=[\"numBytesRTAggr\"])"
   ]
  },
  {
   "cell_type": "markdown",
   "id": "d0c10982-356c-4b36-b5dd-aea9a7bc328d",
   "metadata": {},
   "source": [
    "### Magdalena dividiendo si la maestra envia o recive\n",
    "**Buscando patron vertical**\n",
    "\n",
    "NOTA: Magdalena cambia de maestra"
   ]
  },
  {
   "cell_type": "code",
   "execution_count": 34,
   "id": "50d6de97-6d29-41e2-8d4f-0597b5d7dd77",
   "metadata": {
    "tags": []
   },
   "outputs": [
    {
     "data": {
      "text/plain": [
       "srcIP     dstIP    \n",
       "9.9.5.10  9.9.5.236    339\n",
       "9.9.5.9   9.9.5.236     53\n",
       "Name: count, dtype: int64"
      ]
     },
     "execution_count": 34,
     "metadata": {},
     "output_type": "execute_result"
    }
   ],
   "source": [
    "tmp = dfdata[dfdata['dir']=='A']\n",
    "tmp = tmp[['dir','timeLast','srcIP','dstIP','srcPort','dstPort','dstPortClass','nDPIclass','numBytesSnt','numBytesRTAggr','tcpStatesAFlags','nDPIMasterProto']]\n",
    "tmp=tmp[tmp.eval(\"(srcIP == '9.9.5.236' | (dstIP == '9.9.5.236')) & nDPIMasterProto == 244 \")]\n",
    "## se agregar la columna numBytesRcv\n",
    "tmp['numBytesRcvd'] = tmp['numBytesRTAggr']-tmp['numBytesSnt']\n",
    "tmp[['srcIP','dstIP']].value_counts()"
   ]
  },
  {
   "cell_type": "code",
   "execution_count": 35,
   "id": "63d479df-a7a5-427d-9527-22aefce6cf02",
   "metadata": {
    "tags": []
   },
   "outputs": [
    {
     "data": {
      "text/plain": [
       "<Axes: xlabel='timeLast'>"
      ]
     },
     "execution_count": 35,
     "metadata": {},
     "output_type": "execute_result"
    },
    {
     "data": {
      "image/png": "[encoded data removed]",
      "text/plain": [
       "<Figure size 640x480 with 1 Axes>"
      ]
     },
     "metadata": {},
     "output_type": "display_data"
    }
   ],
   "source": [
    "tmp.plot(x=\"timeLast\", y=[\"numBytesSnt\",\"numBytesRcvd\"])"
   ]
  },
  {
   "cell_type": "markdown",
   "id": "5ff766a0-48d7-4b34-a475-6c13a2d43976",
   "metadata": {
    "jp-MarkdownHeadingCollapsed": true,
    "tags": []
   },
   "source": [
    "## Explore data hidro Oxec\n",
    "Hidro Oxec 10.91.1.34"
   ]
  },
  {
   "cell_type": "code",
   "execution_count": 36,
   "id": "1c6cc5ba-b73f-44fe-94ad-d123dfecbf43",
   "metadata": {
    "tags": []
   },
   "outputs": [
    {
     "data": {
      "text/plain": [
       "srcIP       dstIP     \n",
       "10.99.5.10  10.91.1.34    379\n",
       "Name: count, dtype: int64"
      ]
     },
     "execution_count": 36,
     "metadata": {},
     "output_type": "execute_result"
    }
   ],
   "source": [
    "tmp = dfdata[dfdata['dir']=='A']\n",
    "tmp = tmp[['dir','timeLast','srcIP','dstIP','dstPortClass','nDPIclass','numBytesRTAggr','tcpStatesAFlags','nDPIMasterProto']]\n",
    "tmp=tmp[tmp.eval(\"(srcIP == '10.91.1.34' | (dstIP == '10.91.1.34')) & nDPIMasterProto == 244 \")]\n",
    "tmp[['srcIP','dstIP']].value_counts()"
   ]
  },
  {
   "cell_type": "code",
   "execution_count": 37,
   "id": "9fedca8c-4c56-4a30-aab1-fa84f391673f",
   "metadata": {
    "tags": []
   },
   "outputs": [
    {
     "data": {
      "text/plain": [
       "<Axes: xlabel='timeLast'>"
      ]
     },
     "execution_count": 37,
     "metadata": {},
     "output_type": "execute_result"
    },
    {
     "data": {
      "image/png": "[encoded data removed]",
      "text/plain": [
       "<Figure size 640x480 with 1 Axes>"
      ]
     },
     "metadata": {},
     "output_type": "display_data"
    }
   ],
   "source": [
    "tmp.plot(x=\"timeLast\", y=[\"numBytesRTAggr\"])"
   ]
  },
  {
   "cell_type": "markdown",
   "id": "e00e6649-f589-4acb-9d86-0c28b24b9e1a",
   "metadata": {
    "tags": []
   },
   "source": [
    "### Analisis de patron vertical  | RTU Oxec\n",
    "Concatenación y analisis de flujos\n",
    "\n",
    "**CONCLUSION:** Al dividir quien enviar y recibe ya se tiene mas definid un patron vertical/concatenacion\n",
    "\n",
    "Para tener visibilidad de quien envia y recie se agregan las columas numBytesSnt, numBytesRcvd"
   ]
  },
  {
   "cell_type": "code",
   "execution_count": 38,
   "id": "1724c313-ec75-484a-a931-a1f2b856b53c",
   "metadata": {
    "tags": []
   },
   "outputs": [
    {
     "data": {
      "text/plain": [
       "srcIP       dstIP     \n",
       "10.99.5.10  10.91.1.34    379\n",
       "Name: count, dtype: int64"
      ]
     },
     "execution_count": 38,
     "metadata": {},
     "output_type": "execute_result"
    }
   ],
   "source": [
    "tmp = dfdata[dfdata['dir']=='A']\n",
    "tmp = tmp[['dir','timeLast','srcIP','dstIP','srcPort','dstPort','dstPortClass','nDPIclass','numBytesSnt','numBytesRTAggr','tcpStatesAFlags','nDPIMasterProto']]\n",
    "tmp=tmp[tmp.eval(\"(srcIP == '10.91.1.34' | (dstIP == '10.91.1.34')) & nDPIMasterProto == 244 \")]\n",
    "tmp[['srcIP','dstIP']].value_counts()"
   ]
  },
  {
   "cell_type": "code",
   "execution_count": 39,
   "id": "9ff26f88-f9e9-4187-bc62-b08c60dab324",
   "metadata": {
    "tags": []
   },
   "outputs": [
    {
     "data": {
      "text/html": [
       "<div>\n",
       "<style scoped>\n",
       "    .dataframe tbody tr th:only-of-type {\n",
       "        vertical-align: middle;\n",
       "    }\n",
       "\n",
       "    .dataframe tbody tr th {\n",
       "        vertical-align: top;\n",
       "    }\n",
       "\n",
       "    .dataframe thead th {\n",
       "        text-align: right;\n",
       "    }\n",
       "</style>\n",
       "<table border=\"1\" class=\"dataframe\">\n",
       "  <thead>\n",
       "    <tr style=\"text-align: right;\">\n",
       "      <th></th>\n",
       "      <th>dir</th>\n",
       "      <th>timeLast</th>\n",
       "      <th>srcIP</th>\n",
       "      <th>dstIP</th>\n",
       "      <th>srcPort</th>\n",
       "      <th>dstPort</th>\n",
       "      <th>dstPortClass</th>\n",
       "      <th>nDPIclass</th>\n",
       "      <th>numBytesSnt</th>\n",
       "      <th>numBytesRTAggr</th>\n",
       "      <th>tcpStatesAFlags</th>\n",
       "      <th>nDPIMasterProto</th>\n",
       "    </tr>\n",
       "  </thead>\n",
       "  <tbody>\n",
       "    <tr>\n",
       "      <th>209</th>\n",
       "      <td>A</td>\n",
       "      <td>1.673969e+09</td>\n",
       "      <td>10.99.5.10</td>\n",
       "      <td>10.91.1.34</td>\n",
       "      <td>51274</td>\n",
       "      <td>20000</td>\n",
       "      <td>dnp</td>\n",
       "      <td>DNP3</td>\n",
       "      <td>3395</td>\n",
       "      <td>38216</td>\n",
       "      <td>0x03</td>\n",
       "      <td>244</td>\n",
       "    </tr>\n",
       "    <tr>\n",
       "      <th>1064</th>\n",
       "      <td>A</td>\n",
       "      <td>1.673969e+09</td>\n",
       "      <td>10.99.5.10</td>\n",
       "      <td>10.91.1.34</td>\n",
       "      <td>51274</td>\n",
       "      <td>20000</td>\n",
       "      <td>dnp</td>\n",
       "      <td>DNP3</td>\n",
       "      <td>4355</td>\n",
       "      <td>39824</td>\n",
       "      <td>0x03</td>\n",
       "      <td>244</td>\n",
       "    </tr>\n",
       "    <tr>\n",
       "      <th>1988</th>\n",
       "      <td>A</td>\n",
       "      <td>1.673969e+09</td>\n",
       "      <td>10.99.5.10</td>\n",
       "      <td>10.91.1.34</td>\n",
       "      <td>51274</td>\n",
       "      <td>20000</td>\n",
       "      <td>dnp</td>\n",
       "      <td>DNP3</td>\n",
       "      <td>3035</td>\n",
       "      <td>37613</td>\n",
       "      <td>0x03</td>\n",
       "      <td>244</td>\n",
       "    </tr>\n",
       "    <tr>\n",
       "      <th>2878</th>\n",
       "      <td>A</td>\n",
       "      <td>1.673969e+09</td>\n",
       "      <td>10.99.5.10</td>\n",
       "      <td>10.91.1.34</td>\n",
       "      <td>51274</td>\n",
       "      <td>20000</td>\n",
       "      <td>dnp</td>\n",
       "      <td>DNP3</td>\n",
       "      <td>3235</td>\n",
       "      <td>37948</td>\n",
       "      <td>0x03</td>\n",
       "      <td>244</td>\n",
       "    </tr>\n",
       "    <tr>\n",
       "      <th>3794</th>\n",
       "      <td>A</td>\n",
       "      <td>1.673970e+09</td>\n",
       "      <td>10.99.5.10</td>\n",
       "      <td>10.91.1.34</td>\n",
       "      <td>51274</td>\n",
       "      <td>20000</td>\n",
       "      <td>dnp</td>\n",
       "      <td>DNP3</td>\n",
       "      <td>3515</td>\n",
       "      <td>38417</td>\n",
       "      <td>0x03</td>\n",
       "      <td>244</td>\n",
       "    </tr>\n",
       "  </tbody>\n",
       "</table>\n",
       "</div>"
      ],
      "text/plain": [
       "     dir      timeLast       srcIP       dstIP  srcPort  dstPort dstPortClass   \n",
       "209    A  1.673969e+09  10.99.5.10  10.91.1.34    51274    20000          dnp  \\\n",
       "1064   A  1.673969e+09  10.99.5.10  10.91.1.34    51274    20000          dnp   \n",
       "1988   A  1.673969e+09  10.99.5.10  10.91.1.34    51274    20000          dnp   \n",
       "2878   A  1.673969e+09  10.99.5.10  10.91.1.34    51274    20000          dnp   \n",
       "3794   A  1.673970e+09  10.99.5.10  10.91.1.34    51274    20000          dnp   \n",
       "\n",
       "     nDPIclass  numBytesSnt  numBytesRTAggr tcpStatesAFlags  nDPIMasterProto  \n",
       "209       DNP3         3395           38216            0x03              244  \n",
       "1064      DNP3         4355           39824            0x03              244  \n",
       "1988      DNP3         3035           37613            0x03              244  \n",
       "2878      DNP3         3235           37948            0x03              244  \n",
       "3794      DNP3         3515           38417            0x03              244  "
      ]
     },
     "execution_count": 39,
     "metadata": {},
     "output_type": "execute_result"
    }
   ],
   "source": [
    "tmp.head()"
   ]
  },
  {
   "cell_type": "markdown",
   "id": "ade065ec-4090-44e6-a241-6c6e889e0d3c",
   "metadata": {},
   "source": [
    "Acomodar los datos para que tengamos numBytesRcv\n"
   ]
  },
  {
   "cell_type": "code",
   "execution_count": 40,
   "id": "72c581e4-db6a-4c10-a2f3-4613a253a018",
   "metadata": {
    "tags": []
   },
   "outputs": [],
   "source": [
    "tmp['numBytesRcvd'] = tmp['numBytesRTAggr']-tmp['numBytesSnt']"
   ]
  },
  {
   "cell_type": "code",
   "execution_count": 41,
   "id": "ac5d366d-e32c-4214-995c-d4852cc53bb9",
   "metadata": {
    "tags": []
   },
   "outputs": [
    {
     "data": {
      "text/plain": [
       "<Axes: xlabel='timeLast'>"
      ]
     },
     "execution_count": 41,
     "metadata": {},
     "output_type": "execute_result"
    },
    {
     "data": {
      "image/png": "[encoded data removed]",
      "text/plain": [
       "<Figure size 640x480 with 1 Axes>"
      ]
     },
     "metadata": {},
     "output_type": "display_data"
    }
   ],
   "source": [
    "tmp.plot(x=\"timeLast\", y=[\"numBytesSnt\",\"numBytesRcvd\"])"
   ]
  },
  {
   "cell_type": "markdown",
   "id": "2bcccbdf-3e5e-44c2-a6fc-6efee2628d1e",
   "metadata": {
    "tags": []
   },
   "source": [
    "# Hashing table\n",
    "\n",
    "resumen:\n",
    "Los valores de flowInd son lineales y no se repiten, tipo uint64_t en C"
   ]
  },
  {
   "cell_type": "markdown",
   "id": "2471fee3-69a9-4ea3-b563-24af05fc86cd",
   "metadata": {
    "tags": []
   },
   "source": [
    "## Explore index for hashing table\n",
    "Conclusion: Se puede usar la funsion hash simple index=Xmod(N), ya que el index de flujos es lineal no repetitivo\n"
   ]
  },
  {
   "cell_type": "code",
   "execution_count": 11,
   "id": "d2c9a8c2-db81-4f84-af07-a10dc4b789cf",
   "metadata": {
    "tags": []
   },
   "outputs": [
    {
     "data": {
      "text/plain": [
       "<Axes: xlabel='timeLast'>"
      ]
     },
     "execution_count": 11,
     "metadata": {},
     "output_type": "execute_result"
    },
    {
     "data": {
      "image/png": "[encoded data removed]",
      "text/plain": [
       "<Figure size 640x480 with 1 Axes>"
      ]
     },
     "metadata": {},
     "output_type": "display_data"
    }
   ],
   "source": [
    "tmp = dfdata[dfdata['dir']=='A']\n",
    "tmp.plot(x=\"timeLast\", y=[\"flowInd\"])"
   ]
  },
  {
   "cell_type": "code",
   "execution_count": 17,
   "id": "3ac85a4a-092e-4088-8eac-0554965f21ca",
   "metadata": {
    "tags": []
   },
   "outputs": [],
   "source": [
    "# se agrupan por flow Ind y se cuentan por nDPImasterProto  ya que siempre tiene un numero asignado\n",
    "tmp = tmp[['dir','flowInd','timeLast','srcIP','dstIP','dstPortClass','nDPIclass','numBytesRTAggr','tcpStatesAFlags','nDPIMasterProto']]\n",
    "tmp['Counts'] = tmp.groupby(['flowInd'])['nDPIMasterProto'].transform('count')"
   ]
  },
  {
   "cell_type": "code",
   "execution_count": 15,
   "id": "731f87c2-7359-4d9e-8390-98298ae4f897",
   "metadata": {
    "tags": []
   },
   "outputs": [
    {
     "data": {
      "text/plain": [
       "<Axes: xlabel='timeLast'>"
      ]
     },
     "execution_count": 15,
     "metadata": {},
     "output_type": "execute_result"
    },
    {
     "data": {
      "image/png": "[encoded data removed]",
      "text/plain": [
       "<Figure size 640x480 with 1 Axes>"
      ]
     },
     "metadata": {},
     "output_type": "display_data"
    }
   ],
   "source": [
    "tmp.plot(x=\"timeLast\", y=[\"Counts\"])"
   ]
  },
  {
   "cell_type": "markdown",
   "id": "b6192e59-0e3a-4227-9aa4-f9ea8f395ecc",
   "metadata": {
    "jp-MarkdownHeadingCollapsed": true,
    "tags": []
   },
   "source": [
    "# EWMA\n",
    "prueba con Ingenio Pantaleon: 9.9.5.248"
   ]
  },
  {
   "cell_type": "markdown",
   "id": "07727556-ab64-4919-b43a-fcd2d0d9d379",
   "metadata": {
    "tags": []
   },
   "source": [
    "## Mean data"
   ]
  },
  {
   "cell_type": "code",
   "execution_count": 42,
   "id": "ed3d42d4-c583-4e3f-93d5-96932327e24a",
   "metadata": {
    "tags": []
   },
   "outputs": [
    {
     "name": "stdout",
     "output_type": "stream",
     "text": [
      "<class 'pandas.core.frame.DataFrame'>\n",
      "RangeIndex: 325129 entries, 0 to 325128\n",
      "Data columns (total 21 columns):\n",
      " #   Column           Non-Null Count   Dtype  \n",
      "---  ------           --------------   -----  \n",
      " 0   dir              325129 non-null  object \n",
      " 1   flowInd          325129 non-null  int64  \n",
      " 2   flowStat         325129 non-null  object \n",
      " 3   timeFirst        325129 non-null  float64\n",
      " 4   timeLast         325129 non-null  float64\n",
      " 5   duration         325129 non-null  float64\n",
      " 6   srcIP            325129 non-null  object \n",
      " 7   srcPort          325129 non-null  int64  \n",
      " 8   dstIP            325129 non-null  object \n",
      " 9   dstPort          325129 non-null  int64  \n",
      " 10  l4Proto          325129 non-null  int64  \n",
      " 11  dstPortClassN    325129 non-null  int64  \n",
      " 12  dstPortClass     325129 non-null  object \n",
      " 13  nDPIMasterProto  325129 non-null  int64  \n",
      " 14  nDPISubProto     325129 non-null  int64  \n",
      " 15  nDPIclass        325129 non-null  object \n",
      " 16  numPktsSnt       325129 non-null  int64  \n",
      " 17  numPktsRTAggr    325129 non-null  int64  \n",
      " 18  numBytesSnt      325129 non-null  int64  \n",
      " 19  numBytesRTAggr   325129 non-null  int64  \n",
      " 20  tcpStatesAFlags  325129 non-null  object \n",
      "dtypes: float64(3), int64(11), object(7)\n",
      "memory usage: 52.1+ MB\n"
     ]
    }
   ],
   "source": [
    "dfdata.info()"
   ]
  },
  {
   "cell_type": "code",
   "execution_count": 43,
   "id": "9c9cf139-5716-48f3-9d26-4da357cfbcf5",
   "metadata": {
    "tags": []
   },
   "outputs": [
    {
     "data": {
      "text/html": [
       "<div>\n",
       "<style scoped>\n",
       "    .dataframe tbody tr th:only-of-type {\n",
       "        vertical-align: middle;\n",
       "    }\n",
       "\n",
       "    .dataframe tbody tr th {\n",
       "        vertical-align: top;\n",
       "    }\n",
       "\n",
       "    .dataframe thead th {\n",
       "        text-align: right;\n",
       "    }\n",
       "</style>\n",
       "<table border=\"1\" class=\"dataframe\">\n",
       "  <thead>\n",
       "    <tr style=\"text-align: right;\">\n",
       "      <th></th>\n",
       "      <th>dir</th>\n",
       "      <th>flowInd</th>\n",
       "      <th>flowStat</th>\n",
       "      <th>timeFirst</th>\n",
       "      <th>timeLast</th>\n",
       "      <th>duration</th>\n",
       "      <th>srcIP</th>\n",
       "      <th>srcPort</th>\n",
       "      <th>dstIP</th>\n",
       "      <th>dstPort</th>\n",
       "      <th>...</th>\n",
       "      <th>dstPortClassN</th>\n",
       "      <th>dstPortClass</th>\n",
       "      <th>nDPIMasterProto</th>\n",
       "      <th>nDPISubProto</th>\n",
       "      <th>nDPIclass</th>\n",
       "      <th>numPktsSnt</th>\n",
       "      <th>numPktsRTAggr</th>\n",
       "      <th>numBytesSnt</th>\n",
       "      <th>numBytesRTAggr</th>\n",
       "      <th>tcpStatesAFlags</th>\n",
       "    </tr>\n",
       "  </thead>\n",
       "  <tbody>\n",
       "    <tr>\n",
       "      <th>209</th>\n",
       "      <td>A</td>\n",
       "      <td>108</td>\n",
       "      <td>0x0400020000004000</td>\n",
       "      <td>1.673968e+09</td>\n",
       "      <td>1.673969e+09</td>\n",
       "      <td>297.583916</td>\n",
       "      <td>10.99.5.10</td>\n",
       "      <td>51274</td>\n",
       "      <td>10.91.1.34</td>\n",
       "      <td>20000</td>\n",
       "      <td>...</td>\n",
       "      <td>20000</td>\n",
       "      <td>dnp</td>\n",
       "      <td>244</td>\n",
       "      <td>0</td>\n",
       "      <td>DNP3</td>\n",
       "      <td>271</td>\n",
       "      <td>640</td>\n",
       "      <td>3395</td>\n",
       "      <td>38216</td>\n",
       "      <td>0x03</td>\n",
       "    </tr>\n",
       "    <tr>\n",
       "      <th>1064</th>\n",
       "      <td>A</td>\n",
       "      <td>622</td>\n",
       "      <td>0x0400020000004000</td>\n",
       "      <td>1.673969e+09</td>\n",
       "      <td>1.673969e+09</td>\n",
       "      <td>297.236252</td>\n",
       "      <td>10.99.5.10</td>\n",
       "      <td>51274</td>\n",
       "      <td>10.91.1.34</td>\n",
       "      <td>20000</td>\n",
       "      <td>...</td>\n",
       "      <td>20000</td>\n",
       "      <td>dnp</td>\n",
       "      <td>244</td>\n",
       "      <td>0</td>\n",
       "      <td>DNP3</td>\n",
       "      <td>319</td>\n",
       "      <td>760</td>\n",
       "      <td>4355</td>\n",
       "      <td>39824</td>\n",
       "      <td>0x03</td>\n",
       "    </tr>\n",
       "    <tr>\n",
       "      <th>1988</th>\n",
       "      <td>A</td>\n",
       "      <td>1176</td>\n",
       "      <td>0x0400020000004000</td>\n",
       "      <td>1.673969e+09</td>\n",
       "      <td>1.673969e+09</td>\n",
       "      <td>297.240057</td>\n",
       "      <td>10.99.5.10</td>\n",
       "      <td>51274</td>\n",
       "      <td>10.91.1.34</td>\n",
       "      <td>20000</td>\n",
       "      <td>...</td>\n",
       "      <td>20000</td>\n",
       "      <td>dnp</td>\n",
       "      <td>244</td>\n",
       "      <td>0</td>\n",
       "      <td>DNP3</td>\n",
       "      <td>253</td>\n",
       "      <td>595</td>\n",
       "      <td>3035</td>\n",
       "      <td>37613</td>\n",
       "      <td>0x03</td>\n",
       "    </tr>\n",
       "    <tr>\n",
       "      <th>2878</th>\n",
       "      <td>A</td>\n",
       "      <td>1710</td>\n",
       "      <td>0x0400020000004000</td>\n",
       "      <td>1.673969e+09</td>\n",
       "      <td>1.673969e+09</td>\n",
       "      <td>297.225677</td>\n",
       "      <td>10.99.5.10</td>\n",
       "      <td>51274</td>\n",
       "      <td>10.91.1.34</td>\n",
       "      <td>20000</td>\n",
       "      <td>...</td>\n",
       "      <td>20000</td>\n",
       "      <td>dnp</td>\n",
       "      <td>244</td>\n",
       "      <td>0</td>\n",
       "      <td>DNP3</td>\n",
       "      <td>263</td>\n",
       "      <td>620</td>\n",
       "      <td>3235</td>\n",
       "      <td>37948</td>\n",
       "      <td>0x03</td>\n",
       "    </tr>\n",
       "    <tr>\n",
       "      <th>3794</th>\n",
       "      <td>A</td>\n",
       "      <td>2256</td>\n",
       "      <td>0x0400020000004000</td>\n",
       "      <td>1.673969e+09</td>\n",
       "      <td>1.673970e+09</td>\n",
       "      <td>298.516748</td>\n",
       "      <td>10.99.5.10</td>\n",
       "      <td>51274</td>\n",
       "      <td>10.91.1.34</td>\n",
       "      <td>20000</td>\n",
       "      <td>...</td>\n",
       "      <td>20000</td>\n",
       "      <td>dnp</td>\n",
       "      <td>244</td>\n",
       "      <td>0</td>\n",
       "      <td>DNP3</td>\n",
       "      <td>277</td>\n",
       "      <td>654</td>\n",
       "      <td>3515</td>\n",
       "      <td>38417</td>\n",
       "      <td>0x03</td>\n",
       "    </tr>\n",
       "  </tbody>\n",
       "</table>\n",
       "<p>5 rows × 21 columns</p>\n",
       "</div>"
      ],
      "text/plain": [
       "     dir  flowInd            flowStat     timeFirst      timeLast    duration   \n",
       "209    A      108  0x0400020000004000  1.673968e+09  1.673969e+09  297.583916  \\\n",
       "1064   A      622  0x0400020000004000  1.673969e+09  1.673969e+09  297.236252   \n",
       "1988   A     1176  0x0400020000004000  1.673969e+09  1.673969e+09  297.240057   \n",
       "2878   A     1710  0x0400020000004000  1.673969e+09  1.673969e+09  297.225677   \n",
       "3794   A     2256  0x0400020000004000  1.673969e+09  1.673970e+09  298.516748   \n",
       "\n",
       "           srcIP  srcPort       dstIP  dstPort  ...  dstPortClassN   \n",
       "209   10.99.5.10    51274  10.91.1.34    20000  ...          20000  \\\n",
       "1064  10.99.5.10    51274  10.91.1.34    20000  ...          20000   \n",
       "1988  10.99.5.10    51274  10.91.1.34    20000  ...          20000   \n",
       "2878  10.99.5.10    51274  10.91.1.34    20000  ...          20000   \n",
       "3794  10.99.5.10    51274  10.91.1.34    20000  ...          20000   \n",
       "\n",
       "      dstPortClass nDPIMasterProto  nDPISubProto  nDPIclass numPktsSnt   \n",
       "209            dnp             244             0       DNP3        271  \\\n",
       "1064           dnp             244             0       DNP3        319   \n",
       "1988           dnp             244             0       DNP3        253   \n",
       "2878           dnp             244             0       DNP3        263   \n",
       "3794           dnp             244             0       DNP3        277   \n",
       "\n",
       "      numPktsRTAggr  numBytesSnt  numBytesRTAggr  tcpStatesAFlags  \n",
       "209             640         3395           38216             0x03  \n",
       "1064            760         4355           39824             0x03  \n",
       "1988            595         3035           37613             0x03  \n",
       "2878            620         3235           37948             0x03  \n",
       "3794            654         3515           38417             0x03  \n",
       "\n",
       "[5 rows x 21 columns]"
      ]
     },
     "execution_count": 43,
     "metadata": {},
     "output_type": "execute_result"
    }
   ],
   "source": [
    "df=dfdata[dfdata.eval(\"(srcIP == '10.91.1.34' | (dstIP == '10.91.1.34')) & (nDPIMasterProto == 244) & dir == 'A'  \")]\n",
    "#df['timeLast'] = pd.to_datetime(df['timeLast'],unit='s')\n",
    "\n",
    "df.head()"
   ]
  },
  {
   "cell_type": "code",
   "execution_count": 44,
   "id": "f1d01fab-125d-48c1-93f0-665e520cc3ef",
   "metadata": {
    "tags": []
   },
   "outputs": [
    {
     "name": "stderr",
     "output_type": "stream",
     "text": [
      "/tmp/ipykernel_639/3594536887.py:1: SettingWithCopyWarning: \n",
      "A value is trying to be set on a copy of a slice from a DataFrame.\n",
      "Try using .loc[row_indexer,col_indexer] = value instead\n",
      "\n",
      "See the caveats in the documentation: https://pandas.pydata.org/pandas-docs/stable/user_guide/indexing.html#returning-a-view-versus-a-copy\n",
      "  df['mean'] = df['numBytesRTAggr'].rolling(10).mean()\n"
     ]
    },
    {
     "data": {
      "text/html": [
       "<div>\n",
       "<style scoped>\n",
       "    .dataframe tbody tr th:only-of-type {\n",
       "        vertical-align: middle;\n",
       "    }\n",
       "\n",
       "    .dataframe tbody tr th {\n",
       "        vertical-align: top;\n",
       "    }\n",
       "\n",
       "    .dataframe thead th {\n",
       "        text-align: right;\n",
       "    }\n",
       "</style>\n",
       "<table border=\"1\" class=\"dataframe\">\n",
       "  <thead>\n",
       "    <tr style=\"text-align: right;\">\n",
       "      <th></th>\n",
       "      <th>dir</th>\n",
       "      <th>flowInd</th>\n",
       "      <th>flowStat</th>\n",
       "      <th>timeFirst</th>\n",
       "      <th>timeLast</th>\n",
       "      <th>duration</th>\n",
       "      <th>srcIP</th>\n",
       "      <th>srcPort</th>\n",
       "      <th>dstIP</th>\n",
       "      <th>dstPort</th>\n",
       "      <th>...</th>\n",
       "      <th>dstPortClass</th>\n",
       "      <th>nDPIMasterProto</th>\n",
       "      <th>nDPISubProto</th>\n",
       "      <th>nDPIclass</th>\n",
       "      <th>numPktsSnt</th>\n",
       "      <th>numPktsRTAggr</th>\n",
       "      <th>numBytesSnt</th>\n",
       "      <th>numBytesRTAggr</th>\n",
       "      <th>tcpStatesAFlags</th>\n",
       "      <th>mean</th>\n",
       "    </tr>\n",
       "  </thead>\n",
       "  <tbody>\n",
       "    <tr>\n",
       "      <th>209</th>\n",
       "      <td>A</td>\n",
       "      <td>108</td>\n",
       "      <td>0x0400020000004000</td>\n",
       "      <td>1.673968e+09</td>\n",
       "      <td>1.673969e+09</td>\n",
       "      <td>297.583916</td>\n",
       "      <td>10.99.5.10</td>\n",
       "      <td>51274</td>\n",
       "      <td>10.91.1.34</td>\n",
       "      <td>20000</td>\n",
       "      <td>...</td>\n",
       "      <td>dnp</td>\n",
       "      <td>244</td>\n",
       "      <td>0</td>\n",
       "      <td>DNP3</td>\n",
       "      <td>271</td>\n",
       "      <td>640</td>\n",
       "      <td>3395</td>\n",
       "      <td>38216</td>\n",
       "      <td>0x03</td>\n",
       "      <td>NaN</td>\n",
       "    </tr>\n",
       "    <tr>\n",
       "      <th>1064</th>\n",
       "      <td>A</td>\n",
       "      <td>622</td>\n",
       "      <td>0x0400020000004000</td>\n",
       "      <td>1.673969e+09</td>\n",
       "      <td>1.673969e+09</td>\n",
       "      <td>297.236252</td>\n",
       "      <td>10.99.5.10</td>\n",
       "      <td>51274</td>\n",
       "      <td>10.91.1.34</td>\n",
       "      <td>20000</td>\n",
       "      <td>...</td>\n",
       "      <td>dnp</td>\n",
       "      <td>244</td>\n",
       "      <td>0</td>\n",
       "      <td>DNP3</td>\n",
       "      <td>319</td>\n",
       "      <td>760</td>\n",
       "      <td>4355</td>\n",
       "      <td>39824</td>\n",
       "      <td>0x03</td>\n",
       "      <td>NaN</td>\n",
       "    </tr>\n",
       "    <tr>\n",
       "      <th>1988</th>\n",
       "      <td>A</td>\n",
       "      <td>1176</td>\n",
       "      <td>0x0400020000004000</td>\n",
       "      <td>1.673969e+09</td>\n",
       "      <td>1.673969e+09</td>\n",
       "      <td>297.240057</td>\n",
       "      <td>10.99.5.10</td>\n",
       "      <td>51274</td>\n",
       "      <td>10.91.1.34</td>\n",
       "      <td>20000</td>\n",
       "      <td>...</td>\n",
       "      <td>dnp</td>\n",
       "      <td>244</td>\n",
       "      <td>0</td>\n",
       "      <td>DNP3</td>\n",
       "      <td>253</td>\n",
       "      <td>595</td>\n",
       "      <td>3035</td>\n",
       "      <td>37613</td>\n",
       "      <td>0x03</td>\n",
       "      <td>NaN</td>\n",
       "    </tr>\n",
       "    <tr>\n",
       "      <th>2878</th>\n",
       "      <td>A</td>\n",
       "      <td>1710</td>\n",
       "      <td>0x0400020000004000</td>\n",
       "      <td>1.673969e+09</td>\n",
       "      <td>1.673969e+09</td>\n",
       "      <td>297.225677</td>\n",
       "      <td>10.99.5.10</td>\n",
       "      <td>51274</td>\n",
       "      <td>10.91.1.34</td>\n",
       "      <td>20000</td>\n",
       "      <td>...</td>\n",
       "      <td>dnp</td>\n",
       "      <td>244</td>\n",
       "      <td>0</td>\n",
       "      <td>DNP3</td>\n",
       "      <td>263</td>\n",
       "      <td>620</td>\n",
       "      <td>3235</td>\n",
       "      <td>37948</td>\n",
       "      <td>0x03</td>\n",
       "      <td>NaN</td>\n",
       "    </tr>\n",
       "    <tr>\n",
       "      <th>3794</th>\n",
       "      <td>A</td>\n",
       "      <td>2256</td>\n",
       "      <td>0x0400020000004000</td>\n",
       "      <td>1.673969e+09</td>\n",
       "      <td>1.673970e+09</td>\n",
       "      <td>298.516748</td>\n",
       "      <td>10.99.5.10</td>\n",
       "      <td>51274</td>\n",
       "      <td>10.91.1.34</td>\n",
       "      <td>20000</td>\n",
       "      <td>...</td>\n",
       "      <td>dnp</td>\n",
       "      <td>244</td>\n",
       "      <td>0</td>\n",
       "      <td>DNP3</td>\n",
       "      <td>277</td>\n",
       "      <td>654</td>\n",
       "      <td>3515</td>\n",
       "      <td>38417</td>\n",
       "      <td>0x03</td>\n",
       "      <td>NaN</td>\n",
       "    </tr>\n",
       "    <tr>\n",
       "      <th>...</th>\n",
       "      <td>...</td>\n",
       "      <td>...</td>\n",
       "      <td>...</td>\n",
       "      <td>...</td>\n",
       "      <td>...</td>\n",
       "      <td>...</td>\n",
       "      <td>...</td>\n",
       "      <td>...</td>\n",
       "      <td>...</td>\n",
       "      <td>...</td>\n",
       "      <td>...</td>\n",
       "      <td>...</td>\n",
       "      <td>...</td>\n",
       "      <td>...</td>\n",
       "      <td>...</td>\n",
       "      <td>...</td>\n",
       "      <td>...</td>\n",
       "      <td>...</td>\n",
       "      <td>...</td>\n",
       "      <td>...</td>\n",
       "      <td>...</td>\n",
       "    </tr>\n",
       "    <tr>\n",
       "      <th>321014</th>\n",
       "      <td>A</td>\n",
       "      <td>186906</td>\n",
       "      <td>0x0400020000004000</td>\n",
       "      <td>1.674081e+09</td>\n",
       "      <td>1.674081e+09</td>\n",
       "      <td>297.240599</td>\n",
       "      <td>10.99.5.10</td>\n",
       "      <td>51274</td>\n",
       "      <td>10.91.1.34</td>\n",
       "      <td>20000</td>\n",
       "      <td>...</td>\n",
       "      <td>dnp</td>\n",
       "      <td>244</td>\n",
       "      <td>0</td>\n",
       "      <td>DNP3</td>\n",
       "      <td>309</td>\n",
       "      <td>735</td>\n",
       "      <td>4155</td>\n",
       "      <td>39489</td>\n",
       "      <td>0x03</td>\n",
       "      <td>38323.2</td>\n",
       "    </tr>\n",
       "    <tr>\n",
       "      <th>321993</th>\n",
       "      <td>A</td>\n",
       "      <td>187501</td>\n",
       "      <td>0x0400020000004000</td>\n",
       "      <td>1.674081e+09</td>\n",
       "      <td>1.674081e+09</td>\n",
       "      <td>299.257622</td>\n",
       "      <td>10.99.5.10</td>\n",
       "      <td>51274</td>\n",
       "      <td>10.91.1.34</td>\n",
       "      <td>20000</td>\n",
       "      <td>...</td>\n",
       "      <td>dnp</td>\n",
       "      <td>244</td>\n",
       "      <td>0</td>\n",
       "      <td>DNP3</td>\n",
       "      <td>272</td>\n",
       "      <td>642</td>\n",
       "      <td>3388</td>\n",
       "      <td>38638</td>\n",
       "      <td>0x03</td>\n",
       "      <td>38398.9</td>\n",
       "    </tr>\n",
       "    <tr>\n",
       "      <th>322883</th>\n",
       "      <td>A</td>\n",
       "      <td>188008</td>\n",
       "      <td>0x0400020000004000</td>\n",
       "      <td>1.674081e+09</td>\n",
       "      <td>1.674082e+09</td>\n",
       "      <td>297.375338</td>\n",
       "      <td>10.99.5.10</td>\n",
       "      <td>51274</td>\n",
       "      <td>10.91.1.34</td>\n",
       "      <td>20000</td>\n",
       "      <td>...</td>\n",
       "      <td>dnp</td>\n",
       "      <td>244</td>\n",
       "      <td>0</td>\n",
       "      <td>DNP3</td>\n",
       "      <td>275</td>\n",
       "      <td>650</td>\n",
       "      <td>3475</td>\n",
       "      <td>38350</td>\n",
       "      <td>0x03</td>\n",
       "      <td>38492.7</td>\n",
       "    </tr>\n",
       "    <tr>\n",
       "      <th>323765</th>\n",
       "      <td>A</td>\n",
       "      <td>188516</td>\n",
       "      <td>0x0400020000004000</td>\n",
       "      <td>1.674082e+09</td>\n",
       "      <td>1.674082e+09</td>\n",
       "      <td>297.240306</td>\n",
       "      <td>10.99.5.10</td>\n",
       "      <td>51274</td>\n",
       "      <td>10.91.1.34</td>\n",
       "      <td>20000</td>\n",
       "      <td>...</td>\n",
       "      <td>dnp</td>\n",
       "      <td>244</td>\n",
       "      <td>0</td>\n",
       "      <td>DNP3</td>\n",
       "      <td>249</td>\n",
       "      <td>585</td>\n",
       "      <td>2955</td>\n",
       "      <td>37479</td>\n",
       "      <td>0x03</td>\n",
       "      <td>38398.9</td>\n",
       "    </tr>\n",
       "    <tr>\n",
       "      <th>324529</th>\n",
       "      <td>A</td>\n",
       "      <td>188959</td>\n",
       "      <td>0x0400000000004000</td>\n",
       "      <td>1.674082e+09</td>\n",
       "      <td>1.674082e+09</td>\n",
       "      <td>253.030133</td>\n",
       "      <td>10.99.5.10</td>\n",
       "      <td>51274</td>\n",
       "      <td>10.91.1.34</td>\n",
       "      <td>20000</td>\n",
       "      <td>...</td>\n",
       "      <td>dnp</td>\n",
       "      <td>244</td>\n",
       "      <td>0</td>\n",
       "      <td>DNP3</td>\n",
       "      <td>242</td>\n",
       "      <td>573</td>\n",
       "      <td>3112</td>\n",
       "      <td>32971</td>\n",
       "      <td>0x03</td>\n",
       "      <td>37861.0</td>\n",
       "    </tr>\n",
       "  </tbody>\n",
       "</table>\n",
       "<p>379 rows × 22 columns</p>\n",
       "</div>"
      ],
      "text/plain": [
       "       dir  flowInd            flowStat     timeFirst      timeLast   \n",
       "209      A      108  0x0400020000004000  1.673968e+09  1.673969e+09  \\\n",
       "1064     A      622  0x0400020000004000  1.673969e+09  1.673969e+09   \n",
       "1988     A     1176  0x0400020000004000  1.673969e+09  1.673969e+09   \n",
       "2878     A     1710  0x0400020000004000  1.673969e+09  1.673969e+09   \n",
       "3794     A     2256  0x0400020000004000  1.673969e+09  1.673970e+09   \n",
       "...     ..      ...                 ...           ...           ...   \n",
       "321014   A   186906  0x0400020000004000  1.674081e+09  1.674081e+09   \n",
       "321993   A   187501  0x0400020000004000  1.674081e+09  1.674081e+09   \n",
       "322883   A   188008  0x0400020000004000  1.674081e+09  1.674082e+09   \n",
       "323765   A   188516  0x0400020000004000  1.674082e+09  1.674082e+09   \n",
       "324529   A   188959  0x0400000000004000  1.674082e+09  1.674082e+09   \n",
       "\n",
       "          duration       srcIP  srcPort       dstIP  dstPort  ...   \n",
       "209     297.583916  10.99.5.10    51274  10.91.1.34    20000  ...  \\\n",
       "1064    297.236252  10.99.5.10    51274  10.91.1.34    20000  ...   \n",
       "1988    297.240057  10.99.5.10    51274  10.91.1.34    20000  ...   \n",
       "2878    297.225677  10.99.5.10    51274  10.91.1.34    20000  ...   \n",
       "3794    298.516748  10.99.5.10    51274  10.91.1.34    20000  ...   \n",
       "...            ...         ...      ...         ...      ...  ...   \n",
       "321014  297.240599  10.99.5.10    51274  10.91.1.34    20000  ...   \n",
       "321993  299.257622  10.99.5.10    51274  10.91.1.34    20000  ...   \n",
       "322883  297.375338  10.99.5.10    51274  10.91.1.34    20000  ...   \n",
       "323765  297.240306  10.99.5.10    51274  10.91.1.34    20000  ...   \n",
       "324529  253.030133  10.99.5.10    51274  10.91.1.34    20000  ...   \n",
       "\n",
       "        dstPortClass  nDPIMasterProto nDPISubProto  nDPIclass  numPktsSnt   \n",
       "209              dnp              244            0       DNP3         271  \\\n",
       "1064             dnp              244            0       DNP3         319   \n",
       "1988             dnp              244            0       DNP3         253   \n",
       "2878             dnp              244            0       DNP3         263   \n",
       "3794             dnp              244            0       DNP3         277   \n",
       "...              ...              ...          ...        ...         ...   \n",
       "321014           dnp              244            0       DNP3         309   \n",
       "321993           dnp              244            0       DNP3         272   \n",
       "322883           dnp              244            0       DNP3         275   \n",
       "323765           dnp              244            0       DNP3         249   \n",
       "324529           dnp              244            0       DNP3         242   \n",
       "\n",
       "       numPktsRTAggr  numBytesSnt  numBytesRTAggr  tcpStatesAFlags     mean  \n",
       "209              640         3395           38216             0x03      NaN  \n",
       "1064             760         4355           39824             0x03      NaN  \n",
       "1988             595         3035           37613             0x03      NaN  \n",
       "2878             620         3235           37948             0x03      NaN  \n",
       "3794             654         3515           38417             0x03      NaN  \n",
       "...              ...          ...             ...              ...      ...  \n",
       "321014           735         4155           39489             0x03  38323.2  \n",
       "321993           642         3388           38638             0x03  38398.9  \n",
       "322883           650         3475           38350             0x03  38492.7  \n",
       "323765           585         2955           37479             0x03  38398.9  \n",
       "324529           573         3112           32971             0x03  37861.0  \n",
       "\n",
       "[379 rows x 22 columns]"
      ]
     },
     "execution_count": 44,
     "metadata": {},
     "output_type": "execute_result"
    }
   ],
   "source": [
    "df['mean'] = df['numBytesRTAggr'].rolling(10).mean()\n",
    "df"
   ]
  },
  {
   "cell_type": "code",
   "execution_count": 45,
   "id": "f09a8f53-3add-4f8d-92f8-beafb32e70bc",
   "metadata": {
    "tags": []
   },
   "outputs": [
    {
     "data": {
      "text/plain": [
       "<Axes: xlabel='timeLast'>"
      ]
     },
     "execution_count": 45,
     "metadata": {},
     "output_type": "execute_result"
    },
    {
     "data": {
      "image/png": "[encoded data removed]",
      "text/plain": [
       "<Figure size 640x480 with 1 Axes>"
      ]
     },
     "metadata": {},
     "output_type": "display_data"
    }
   ],
   "source": [
    "df.plot(x=\"timeLast\", y=[\"numBytesRTAggr\",\"mean\"])\n",
    "\n"
   ]
  },
  {
   "cell_type": "code",
   "execution_count": 46,
   "id": "f2f8c480-8473-46e3-bb57-6993ba4e372b",
   "metadata": {},
   "outputs": [
    {
     "name": "stderr",
     "output_type": "stream",
     "text": [
      "/tmp/ipykernel_639/2239242055.py:1: SettingWithCopyWarning: \n",
      "A value is trying to be set on a copy of a slice from a DataFrame.\n",
      "Try using .loc[row_indexer,col_indexer] = value instead\n",
      "\n",
      "See the caveats in the documentation: https://pandas.pydata.org/pandas-docs/stable/user_guide/indexing.html#returning-a-view-versus-a-copy\n",
      "  df['EWMA6'] = df['numBytesRTAggr'].iloc[0:].ewm(span=12, adjust=False).mean()\n",
      "/tmp/ipykernel_639/2239242055.py:2: SettingWithCopyWarning: \n",
      "A value is trying to be set on a copy of a slice from a DataFrame.\n",
      "Try using .loc[row_indexer,col_indexer] = value instead\n",
      "\n",
      "See the caveats in the documentation: https://pandas.pydata.org/pandas-docs/stable/user_guide/indexing.html#returning-a-view-versus-a-copy\n",
      "  df['EWMA6_sadjust'] = df['numBytesRTAggr'].iloc[0:].ewm(span=6,adjust=False).mean()\n"
     ]
    }
   ],
   "source": [
    "df['EWMA6'] = df['numBytesRTAggr'].iloc[0:].ewm(span=12, adjust=False).mean()\n",
    "df['EWMA6_sadjust'] = df['numBytesRTAggr'].iloc[0:].ewm(span=6,adjust=False).mean()"
   ]
  },
  {
   "cell_type": "code",
   "execution_count": 47,
   "id": "b5194e9f-e567-423d-b68d-11ac340e0753",
   "metadata": {
    "tags": []
   },
   "outputs": [
    {
     "data": {
      "text/plain": [
       "<Axes: xlabel='timeLast'>"
      ]
     },
     "execution_count": 47,
     "metadata": {},
     "output_type": "execute_result"
    },
    {
     "data": {
      "image/png": "[encoded data removed]",
      "text/plain": [
       "<Figure size 640x480 with 1 Axes>"
      ]
     },
     "metadata": {},
     "output_type": "display_data"
    }
   ],
   "source": [
    "df.plot(x=\"timeLast\", y=[\"numBytesRTAggr\",\"EWMA6\",\"mean\"])\n"
   ]
  }
 ],
 "metadata": {
  "kernelspec": {
   "display_name": ".vev_jupyter",
   "language": "python",
   "name": ".vev_jupyter"
  },
  "language_info": {
   "codemirror_mode": {
    "name": "ipython",
    "version": 3
   },
   "file_extension": ".py",
   "mimetype": "text/x-python",
   "name": "python",
   "nbconvert_exporter": "python",
   "pygments_lexer": "ipython3",
   "version": "3.9.2"
  },
  "toc-autonumbering": true
 },
 "nbformat": 4,
 "nbformat_minor": 5
}
