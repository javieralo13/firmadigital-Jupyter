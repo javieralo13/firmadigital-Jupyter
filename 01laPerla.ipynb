{
 "cells": [
  {
   "cell_type": "markdown",
   "id": "6167919e-22f9-44f8-a988-51ab9b914f5a",
   "metadata": {
    "tags": []
   },
   "source": [
    "# Exploratory Data Analysis\n",
    "\n"
   ]
  },
  {
   "cell_type": "code",
   "execution_count": 10,
   "id": "d23d8bf8-0556-4959-b196-16e0fd4efc6f",
   "metadata": {
    "tags": []
   },
   "outputs": [],
   "source": [
    "import pandas as pd\n",
    "import matplotlib.pyplot as plt"
   ]
  },
  {
   "cell_type": "markdown",
   "id": "c6a55a6c-d9b2-423d-be1e-efec7b25c6bc",
   "metadata": {
    "tags": []
   },
   "source": [
    "## Primera manipulacion de datos\n",
    "\n",
    "Resumen: Los datos "
   ]
  },
  {
   "cell_type": "code",
   "execution_count": 28,
   "id": "c7c19133-9615-4049-9f27-12ad175d95b0",
   "metadata": {
    "tags": []
   },
   "outputs": [
    {
     "data": {
      "text/html": [
       "<div>\n",
       "<style scoped>\n",
       "    .dataframe tbody tr th:only-of-type {\n",
       "        vertical-align: middle;\n",
       "    }\n",
       "\n",
       "    .dataframe tbody tr th {\n",
       "        vertical-align: top;\n",
       "    }\n",
       "\n",
       "    .dataframe thead th {\n",
       "        text-align: right;\n",
       "    }\n",
       "</style>\n",
       "<table border=\"1\" class=\"dataframe\">\n",
       "  <thead>\n",
       "    <tr style=\"text-align: right;\">\n",
       "      <th></th>\n",
       "      <th>%dir</th>\n",
       "      <th>flowInd</th>\n",
       "      <th>flowStat</th>\n",
       "      <th>timeFirst</th>\n",
       "      <th>timeLast</th>\n",
       "      <th>duration</th>\n",
       "      <th>srcIP</th>\n",
       "      <th>srcPort</th>\n",
       "      <th>dstIP</th>\n",
       "      <th>dstPort</th>\n",
       "      <th>...</th>\n",
       "      <th>dstPortClassN</th>\n",
       "      <th>dstPortClass</th>\n",
       "      <th>nDPIMasterProto</th>\n",
       "      <th>nDPISubProto</th>\n",
       "      <th>nDPIclass</th>\n",
       "      <th>numPktsSnt</th>\n",
       "      <th>numPktsRTAggr</th>\n",
       "      <th>numBytesSnt</th>\n",
       "      <th>numBytesRTAggr</th>\n",
       "      <th>tcpStatesAFlags</th>\n",
       "    </tr>\n",
       "  </thead>\n",
       "  <tbody>\n",
       "    <tr>\n",
       "      <th>0</th>\n",
       "      <td>B</td>\n",
       "      <td>4348</td>\n",
       "      <td>0x0400000000004001</td>\n",
       "      <td>1.673971e+09</td>\n",
       "      <td>1.673971e+09</td>\n",
       "      <td>0.456567</td>\n",
       "      <td>9.9.5.30</td>\n",
       "      <td>20000</td>\n",
       "      <td>9.9.5.10</td>\n",
       "      <td>50515</td>\n",
       "      <td>...</td>\n",
       "      <td>20000</td>\n",
       "      <td>dnp</td>\n",
       "      <td>244</td>\n",
       "      <td>0</td>\n",
       "      <td>DNP3</td>\n",
       "      <td>19</td>\n",
       "      <td>47</td>\n",
       "      <td>1110</td>\n",
       "      <td>5300</td>\n",
       "      <td>0x03</td>\n",
       "    </tr>\n",
       "    <tr>\n",
       "      <th>1</th>\n",
       "      <td>A</td>\n",
       "      <td>4348</td>\n",
       "      <td>0x0400000000004000</td>\n",
       "      <td>1.673971e+09</td>\n",
       "      <td>1.673971e+09</td>\n",
       "      <td>19.672863</td>\n",
       "      <td>9.9.5.10</td>\n",
       "      <td>50515</td>\n",
       "      <td>9.9.5.30</td>\n",
       "      <td>20000</td>\n",
       "      <td>...</td>\n",
       "      <td>20000</td>\n",
       "      <td>dnp</td>\n",
       "      <td>244</td>\n",
       "      <td>0</td>\n",
       "      <td>DNP3</td>\n",
       "      <td>28</td>\n",
       "      <td>47</td>\n",
       "      <td>4190</td>\n",
       "      <td>5300</td>\n",
       "      <td>0x43</td>\n",
       "    </tr>\n",
       "    <tr>\n",
       "      <th>2</th>\n",
       "      <td>A</td>\n",
       "      <td>4367</td>\n",
       "      <td>0x0400000000004000</td>\n",
       "      <td>1.673971e+09</td>\n",
       "      <td>1.673971e+09</td>\n",
       "      <td>0.000000</td>\n",
       "      <td>9.9.5.10</td>\n",
       "      <td>24556</td>\n",
       "      <td>9.9.5.30</td>\n",
       "      <td>20000</td>\n",
       "      <td>...</td>\n",
       "      <td>20000</td>\n",
       "      <td>dnp</td>\n",
       "      <td>244</td>\n",
       "      <td>0</td>\n",
       "      <td>DNP3</td>\n",
       "      <td>1</td>\n",
       "      <td>2</td>\n",
       "      <td>0</td>\n",
       "      <td>0</td>\n",
       "      <td>0x03</td>\n",
       "    </tr>\n",
       "    <tr>\n",
       "      <th>3</th>\n",
       "      <td>B</td>\n",
       "      <td>4367</td>\n",
       "      <td>0x0400000000004001</td>\n",
       "      <td>1.673971e+09</td>\n",
       "      <td>1.673971e+09</td>\n",
       "      <td>0.000000</td>\n",
       "      <td>9.9.5.30</td>\n",
       "      <td>20000</td>\n",
       "      <td>9.9.5.10</td>\n",
       "      <td>24556</td>\n",
       "      <td>...</td>\n",
       "      <td>20000</td>\n",
       "      <td>dnp</td>\n",
       "      <td>244</td>\n",
       "      <td>0</td>\n",
       "      <td>DNP3</td>\n",
       "      <td>1</td>\n",
       "      <td>2</td>\n",
       "      <td>0</td>\n",
       "      <td>0</td>\n",
       "      <td>0x43</td>\n",
       "    </tr>\n",
       "    <tr>\n",
       "      <th>4</th>\n",
       "      <td>A</td>\n",
       "      <td>4369</td>\n",
       "      <td>0x0400000000004000</td>\n",
       "      <td>1.673971e+09</td>\n",
       "      <td>1.673971e+09</td>\n",
       "      <td>0.000000</td>\n",
       "      <td>9.9.5.10</td>\n",
       "      <td>24558</td>\n",
       "      <td>9.9.5.30</td>\n",
       "      <td>20000</td>\n",
       "      <td>...</td>\n",
       "      <td>20000</td>\n",
       "      <td>dnp</td>\n",
       "      <td>244</td>\n",
       "      <td>0</td>\n",
       "      <td>DNP3</td>\n",
       "      <td>1</td>\n",
       "      <td>2</td>\n",
       "      <td>0</td>\n",
       "      <td>0</td>\n",
       "      <td>0x03</td>\n",
       "    </tr>\n",
       "  </tbody>\n",
       "</table>\n",
       "<p>5 rows × 21 columns</p>\n",
       "</div>"
      ],
      "text/plain": [
       "  %dir  flowInd            flowStat     timeFirst      timeLast   duration   \n",
       "0    B     4348  0x0400000000004001  1.673971e+09  1.673971e+09   0.456567  \\\n",
       "1    A     4348  0x0400000000004000  1.673971e+09  1.673971e+09  19.672863   \n",
       "2    A     4367  0x0400000000004000  1.673971e+09  1.673971e+09   0.000000   \n",
       "3    B     4367  0x0400000000004001  1.673971e+09  1.673971e+09   0.000000   \n",
       "4    A     4369  0x0400000000004000  1.673971e+09  1.673971e+09   0.000000   \n",
       "\n",
       "      srcIP  srcPort     dstIP  dstPort  ...  dstPortClassN  dstPortClass   \n",
       "0  9.9.5.30    20000  9.9.5.10    50515  ...          20000           dnp  \\\n",
       "1  9.9.5.10    50515  9.9.5.30    20000  ...          20000           dnp   \n",
       "2  9.9.5.10    24556  9.9.5.30    20000  ...          20000           dnp   \n",
       "3  9.9.5.30    20000  9.9.5.10    24556  ...          20000           dnp   \n",
       "4  9.9.5.10    24558  9.9.5.30    20000  ...          20000           dnp   \n",
       "\n",
       "  nDPIMasterProto  nDPISubProto  nDPIclass numPktsSnt  numPktsRTAggr   \n",
       "0             244             0       DNP3         19             47  \\\n",
       "1             244             0       DNP3         28             47   \n",
       "2             244             0       DNP3          1              2   \n",
       "3             244             0       DNP3          1              2   \n",
       "4             244             0       DNP3          1              2   \n",
       "\n",
       "   numBytesSnt  numBytesRTAggr  tcpStatesAFlags  \n",
       "0         1110            5300             0x03  \n",
       "1         4190            5300             0x43  \n",
       "2            0               0             0x03  \n",
       "3            0               0             0x43  \n",
       "4            0               0             0x03  \n",
       "\n",
       "[5 rows x 21 columns]"
      ]
     },
     "execution_count": 28,
     "metadata": {},
     "output_type": "execute_result"
    }
   ],
   "source": [
    "dfperla = pd.read_excel('data/laPertaDataRTU.xlsx')\n",
    "dfperla.head()"
   ]
  },
  {
   "cell_type": "code",
   "execution_count": 29,
   "id": "f21d632b-688a-4b3d-a5a8-9a15cc1f8154",
   "metadata": {
    "tags": []
   },
   "outputs": [
    {
     "name": "stdout",
     "output_type": "stream",
     "text": [
      "<class 'pandas.core.frame.DataFrame'>\n",
      "RangeIndex: 6167 entries, 0 to 6166\n",
      "Data columns (total 21 columns):\n",
      " #   Column           Non-Null Count  Dtype  \n",
      "---  ------           --------------  -----  \n",
      " 0   %dir             6167 non-null   object \n",
      " 1   flowInd          6167 non-null   int64  \n",
      " 2   flowStat         6167 non-null   object \n",
      " 3   timeFirst        6167 non-null   float64\n",
      " 4   timeLast         6167 non-null   float64\n",
      " 5   duration         6167 non-null   float64\n",
      " 6   srcIP            6167 non-null   object \n",
      " 7   srcPort          6167 non-null   int64  \n",
      " 8   dstIP            6167 non-null   object \n",
      " 9   dstPort          6167 non-null   int64  \n",
      " 10  l4Proto          6167 non-null   int64  \n",
      " 11  dstPortClassN    6167 non-null   int64  \n",
      " 12  dstPortClass     6167 non-null   object \n",
      " 13  nDPIMasterProto  6167 non-null   int64  \n",
      " 14  nDPISubProto     6167 non-null   int64  \n",
      " 15  nDPIclass        6167 non-null   object \n",
      " 16  numPktsSnt       6167 non-null   int64  \n",
      " 17  numPktsRTAggr    6167 non-null   int64  \n",
      " 18  numBytesSnt      6167 non-null   int64  \n",
      " 19  numBytesRTAggr   6167 non-null   int64  \n",
      " 20  tcpStatesAFlags  6167 non-null   object \n",
      "dtypes: float64(3), int64(11), object(7)\n",
      "memory usage: 1011.9+ KB\n"
     ]
    }
   ],
   "source": [
    "dfperla.info()"
   ]
  },
  {
   "cell_type": "code",
   "execution_count": 30,
   "id": "8511cead-66a5-4fa9-ba48-89557e454268",
   "metadata": {
    "tags": []
   },
   "outputs": [
    {
     "data": {
      "text/plain": [
       "(6167, 21)"
      ]
     },
     "execution_count": 30,
     "metadata": {},
     "output_type": "execute_result"
    }
   ],
   "source": [
    "dfperla.shape"
   ]
  },
  {
   "cell_type": "markdown",
   "id": "854e382d-64ba-49c1-a82f-d42e704ec2ea",
   "metadata": {
    "tags": []
   },
   "source": [
    "The `describe` method shows basic statistical characteristics of each numerical feature (`int64` and `float64` types): number of non-missing values, mean, standard deviation, range, median, 0.25 and 0.75 quartiles.\n"
   ]
  },
  {
   "cell_type": "code",
   "execution_count": 31,
   "id": "967b79a5-0d65-4871-b747-bfdde75f4b25",
   "metadata": {
    "tags": []
   },
   "outputs": [
    {
     "data": {
      "text/html": [
       "<div>\n",
       "<style scoped>\n",
       "    .dataframe tbody tr th:only-of-type {\n",
       "        vertical-align: middle;\n",
       "    }\n",
       "\n",
       "    .dataframe tbody tr th {\n",
       "        vertical-align: top;\n",
       "    }\n",
       "\n",
       "    .dataframe thead th {\n",
       "        text-align: right;\n",
       "    }\n",
       "</style>\n",
       "<table border=\"1\" class=\"dataframe\">\n",
       "  <thead>\n",
       "    <tr style=\"text-align: right;\">\n",
       "      <th></th>\n",
       "      <th>flowInd</th>\n",
       "      <th>timeFirst</th>\n",
       "      <th>timeLast</th>\n",
       "      <th>duration</th>\n",
       "      <th>srcPort</th>\n",
       "      <th>dstPort</th>\n",
       "      <th>l4Proto</th>\n",
       "      <th>dstPortClassN</th>\n",
       "      <th>nDPIMasterProto</th>\n",
       "      <th>nDPISubProto</th>\n",
       "      <th>numPktsSnt</th>\n",
       "      <th>numPktsRTAggr</th>\n",
       "      <th>numBytesSnt</th>\n",
       "      <th>numBytesRTAggr</th>\n",
       "    </tr>\n",
       "  </thead>\n",
       "  <tbody>\n",
       "    <tr>\n",
       "      <th>count</th>\n",
       "      <td>6167.000000</td>\n",
       "      <td>6.167000e+03</td>\n",
       "      <td>6.167000e+03</td>\n",
       "      <td>6167.000000</td>\n",
       "      <td>6167.000000</td>\n",
       "      <td>6167.000000</td>\n",
       "      <td>6167.000000</td>\n",
       "      <td>6167.000000</td>\n",
       "      <td>6167.000000</td>\n",
       "      <td>6167.0</td>\n",
       "      <td>6167.000000</td>\n",
       "      <td>6167.000000</td>\n",
       "      <td>6167.000000</td>\n",
       "      <td>6167.000000</td>\n",
       "    </tr>\n",
       "    <tr>\n",
       "      <th>mean</th>\n",
       "      <td>92048.229123</td>\n",
       "      <td>1.674023e+09</td>\n",
       "      <td>1.674023e+09</td>\n",
       "      <td>60.317795</td>\n",
       "      <td>25917.477542</td>\n",
       "      <td>25813.231393</td>\n",
       "      <td>13.361764</td>\n",
       "      <td>3803.715583</td>\n",
       "      <td>63.087725</td>\n",
       "      <td>0.0</td>\n",
       "      <td>48.258797</td>\n",
       "      <td>96.498135</td>\n",
       "      <td>575.543376</td>\n",
       "      <td>1150.337603</td>\n",
       "    </tr>\n",
       "    <tr>\n",
       "      <th>std</th>\n",
       "      <td>55325.315178</td>\n",
       "      <td>3.352006e+04</td>\n",
       "      <td>3.352594e+04</td>\n",
       "      <td>112.156012</td>\n",
       "      <td>26308.147592</td>\n",
       "      <td>26297.449388</td>\n",
       "      <td>5.904087</td>\n",
       "      <td>7723.494223</td>\n",
       "      <td>88.206281</td>\n",
       "      <td>0.0</td>\n",
       "      <td>121.679449</td>\n",
       "      <td>237.857033</td>\n",
       "      <td>1266.371257</td>\n",
       "      <td>2108.069922</td>\n",
       "    </tr>\n",
       "    <tr>\n",
       "      <th>min</th>\n",
       "      <td>4348.000000</td>\n",
       "      <td>1.673971e+09</td>\n",
       "      <td>1.673971e+09</td>\n",
       "      <td>0.000000</td>\n",
       "      <td>0.000000</td>\n",
       "      <td>0.000000</td>\n",
       "      <td>1.000000</td>\n",
       "      <td>0.000000</td>\n",
       "      <td>14.000000</td>\n",
       "      <td>0.0</td>\n",
       "      <td>1.000000</td>\n",
       "      <td>1.000000</td>\n",
       "      <td>0.000000</td>\n",
       "      <td>0.000000</td>\n",
       "    </tr>\n",
       "    <tr>\n",
       "      <th>25%</th>\n",
       "      <td>42160.000000</td>\n",
       "      <td>1.673993e+09</td>\n",
       "      <td>1.673993e+09</td>\n",
       "      <td>0.000000</td>\n",
       "      <td>161.000000</td>\n",
       "      <td>161.000000</td>\n",
       "      <td>6.000000</td>\n",
       "      <td>161.000000</td>\n",
       "      <td>14.000000</td>\n",
       "      <td>0.0</td>\n",
       "      <td>1.000000</td>\n",
       "      <td>2.000000</td>\n",
       "      <td>45.000000</td>\n",
       "      <td>87.000000</td>\n",
       "    </tr>\n",
       "    <tr>\n",
       "      <th>50%</th>\n",
       "      <td>91362.000000</td>\n",
       "      <td>1.674023e+09</td>\n",
       "      <td>1.674023e+09</td>\n",
       "      <td>0.063741</td>\n",
       "      <td>20000.000000</td>\n",
       "      <td>20000.000000</td>\n",
       "      <td>17.000000</td>\n",
       "      <td>161.000000</td>\n",
       "      <td>14.000000</td>\n",
       "      <td>0.0</td>\n",
       "      <td>5.000000</td>\n",
       "      <td>10.000000</td>\n",
       "      <td>216.000000</td>\n",
       "      <td>442.000000</td>\n",
       "    </tr>\n",
       "    <tr>\n",
       "      <th>75%</th>\n",
       "      <td>140049.500000</td>\n",
       "      <td>1.674052e+09</td>\n",
       "      <td>1.674052e+09</td>\n",
       "      <td>5.605735</td>\n",
       "      <td>54555.500000</td>\n",
       "      <td>54524.500000</td>\n",
       "      <td>17.000000</td>\n",
       "      <td>161.000000</td>\n",
       "      <td>81.000000</td>\n",
       "      <td>0.0</td>\n",
       "      <td>8.000000</td>\n",
       "      <td>14.000000</td>\n",
       "      <td>270.500000</td>\n",
       "      <td>452.000000</td>\n",
       "    </tr>\n",
       "    <tr>\n",
       "      <th>max</th>\n",
       "      <td>189253.000000</td>\n",
       "      <td>1.674082e+09</td>\n",
       "      <td>1.674082e+09</td>\n",
       "      <td>299.908756</td>\n",
       "      <td>65526.000000</td>\n",
       "      <td>65526.000000</td>\n",
       "      <td>17.000000</td>\n",
       "      <td>50515.000000</td>\n",
       "      <td>244.000000</td>\n",
       "      <td>0.0</td>\n",
       "      <td>468.000000</td>\n",
       "      <td>812.000000</td>\n",
       "      <td>5585.000000</td>\n",
       "      <td>6994.000000</td>\n",
       "    </tr>\n",
       "  </tbody>\n",
       "</table>\n",
       "</div>"
      ],
      "text/plain": [
       "             flowInd     timeFirst      timeLast     duration       srcPort   \n",
       "count    6167.000000  6.167000e+03  6.167000e+03  6167.000000   6167.000000  \\\n",
       "mean    92048.229123  1.674023e+09  1.674023e+09    60.317795  25917.477542   \n",
       "std     55325.315178  3.352006e+04  3.352594e+04   112.156012  26308.147592   \n",
       "min      4348.000000  1.673971e+09  1.673971e+09     0.000000      0.000000   \n",
       "25%     42160.000000  1.673993e+09  1.673993e+09     0.000000    161.000000   \n",
       "50%     91362.000000  1.674023e+09  1.674023e+09     0.063741  20000.000000   \n",
       "75%    140049.500000  1.674052e+09  1.674052e+09     5.605735  54555.500000   \n",
       "max    189253.000000  1.674082e+09  1.674082e+09   299.908756  65526.000000   \n",
       "\n",
       "            dstPort      l4Proto  dstPortClassN  nDPIMasterProto   \n",
       "count   6167.000000  6167.000000    6167.000000      6167.000000  \\\n",
       "mean   25813.231393    13.361764    3803.715583        63.087725   \n",
       "std    26297.449388     5.904087    7723.494223        88.206281   \n",
       "min        0.000000     1.000000       0.000000        14.000000   \n",
       "25%      161.000000     6.000000     161.000000        14.000000   \n",
       "50%    20000.000000    17.000000     161.000000        14.000000   \n",
       "75%    54524.500000    17.000000     161.000000        81.000000   \n",
       "max    65526.000000    17.000000   50515.000000       244.000000   \n",
       "\n",
       "       nDPISubProto   numPktsSnt  numPktsRTAggr  numBytesSnt  numBytesRTAggr  \n",
       "count        6167.0  6167.000000    6167.000000  6167.000000     6167.000000  \n",
       "mean            0.0    48.258797      96.498135   575.543376     1150.337603  \n",
       "std             0.0   121.679449     237.857033  1266.371257     2108.069922  \n",
       "min             0.0     1.000000       1.000000     0.000000        0.000000  \n",
       "25%             0.0     1.000000       2.000000    45.000000       87.000000  \n",
       "50%             0.0     5.000000      10.000000   216.000000      442.000000  \n",
       "75%             0.0     8.000000      14.000000   270.500000      452.000000  \n",
       "max             0.0   468.000000     812.000000  5585.000000     6994.000000  "
      ]
     },
     "execution_count": 31,
     "metadata": {},
     "output_type": "execute_result"
    }
   ],
   "source": [
    "dfperla.describe()"
   ]
  },
  {
   "cell_type": "markdown",
   "id": "b172ac57-9ac8-4780-b221-852f58f70bfb",
   "metadata": {},
   "source": [
    "In order to see statistics on non-numerical features, one has to explicitly indicate data types of interest in the `include` parameter."
   ]
  },
  {
   "cell_type": "code",
   "execution_count": 32,
   "id": "bf7b5719-9c95-415b-9417-638a3460700f",
   "metadata": {
    "tags": []
   },
   "outputs": [
    {
     "data": {
      "text/html": [
       "<div>\n",
       "<style scoped>\n",
       "    .dataframe tbody tr th:only-of-type {\n",
       "        vertical-align: middle;\n",
       "    }\n",
       "\n",
       "    .dataframe tbody tr th {\n",
       "        vertical-align: top;\n",
       "    }\n",
       "\n",
       "    .dataframe thead th {\n",
       "        text-align: right;\n",
       "    }\n",
       "</style>\n",
       "<table border=\"1\" class=\"dataframe\">\n",
       "  <thead>\n",
       "    <tr style=\"text-align: right;\">\n",
       "      <th></th>\n",
       "      <th>%dir</th>\n",
       "      <th>flowStat</th>\n",
       "      <th>srcIP</th>\n",
       "      <th>dstIP</th>\n",
       "      <th>dstPortClass</th>\n",
       "      <th>nDPIclass</th>\n",
       "      <th>tcpStatesAFlags</th>\n",
       "    </tr>\n",
       "  </thead>\n",
       "  <tbody>\n",
       "    <tr>\n",
       "      <th>count</th>\n",
       "      <td>6167</td>\n",
       "      <td>6167</td>\n",
       "      <td>6167</td>\n",
       "      <td>6167</td>\n",
       "      <td>6167</td>\n",
       "      <td>6167</td>\n",
       "      <td>6167</td>\n",
       "    </tr>\n",
       "    <tr>\n",
       "      <th>unique</th>\n",
       "      <td>2</td>\n",
       "      <td>3</td>\n",
       "      <td>3</td>\n",
       "      <td>3</td>\n",
       "      <td>3</td>\n",
       "      <td>3</td>\n",
       "      <td>6</td>\n",
       "    </tr>\n",
       "    <tr>\n",
       "      <th>top</th>\n",
       "      <td>A</td>\n",
       "      <td>0x0400000000004001</td>\n",
       "      <td>9.9.5.30</td>\n",
       "      <td>9.9.5.30</td>\n",
       "      <td>snmp</td>\n",
       "      <td>SNMP</td>\n",
       "      <td>0x00</td>\n",
       "    </tr>\n",
       "    <tr>\n",
       "      <th>freq</th>\n",
       "      <td>3095</td>\n",
       "      <td>3072</td>\n",
       "      <td>3076</td>\n",
       "      <td>3091</td>\n",
       "      <td>4410</td>\n",
       "      <td>4410</td>\n",
       "      <td>5064</td>\n",
       "    </tr>\n",
       "  </tbody>\n",
       "</table>\n",
       "</div>"
      ],
      "text/plain": [
       "        %dir            flowStat     srcIP     dstIP dstPortClass nDPIclass   \n",
       "count   6167                6167      6167      6167         6167      6167  \\\n",
       "unique     2                   3         3         3            3         3   \n",
       "top        A  0x0400000000004001  9.9.5.30  9.9.5.30         snmp      SNMP   \n",
       "freq    3095                3072      3076      3091         4410      4410   \n",
       "\n",
       "       tcpStatesAFlags  \n",
       "count             6167  \n",
       "unique               6  \n",
       "top               0x00  \n",
       "freq              5064  "
      ]
     },
     "execution_count": 32,
     "metadata": {},
     "output_type": "execute_result"
    }
   ],
   "source": [
    "dfperla.describe(include=[\"object\", \"bool\"])"
   ]
  },
  {
   "cell_type": "markdown",
   "id": "8a3c9411-b981-4ed7-983f-38127e04ea3b",
   "metadata": {
    "tags": []
   },
   "source": [
    "## Distribution of data columns"
   ]
  },
  {
   "cell_type": "code",
   "execution_count": 33,
   "id": "6acbef9f-80d5-4e9d-8845-9ff1dea8c663",
   "metadata": {
    "tags": []
   },
   "outputs": [
    {
     "data": {
      "text/plain": [
       "nDPIMasterProto\n",
       "14     4410\n",
       "244    1135\n",
       "81      622\n",
       "Name: count, dtype: int64"
      ]
     },
     "execution_count": 33,
     "metadata": {},
     "output_type": "execute_result"
    }
   ],
   "source": [
    "#nDPI\n",
    "# 14 SNMP\n",
    "# 81 ICMP\n",
    "# 244 DNP3\n",
    "dfperla['nDPIMasterProto'].value_counts()"
   ]
  },
  {
   "cell_type": "code",
   "execution_count": 34,
   "id": "90ae918b-e626-4fee-bc45-e96b055c98a0",
   "metadata": {
    "tags": []
   },
   "outputs": [
    {
     "data": {
      "text/plain": [
       "dstPortClassN\n",
       "161      4410\n",
       "20000    1131\n",
       "0         622\n",
       "50515       1\n",
       "25671       1\n",
       "25249       1\n",
       "26069       1\n",
       "Name: count, dtype: int64"
      ]
     },
     "execution_count": 34,
     "metadata": {},
     "output_type": "execute_result"
    }
   ],
   "source": [
    "dfperla['dstPortClassN'].value_counts()"
   ]
  },
  {
   "cell_type": "code",
   "execution_count": 37,
   "id": "c143e49e-0ba4-4a60-8dd8-f43cb72108b6",
   "metadata": {
    "tags": []
   },
   "outputs": [
    {
     "data": {
      "text/plain": [
       "%dir\n",
       "A    3095\n",
       "B    3072\n",
       "Name: count, dtype: int64"
      ]
     },
     "execution_count": 37,
     "metadata": {},
     "output_type": "execute_result"
    }
   ],
   "source": [
    "dfperla['%dir'].value_counts()"
   ]
  },
  {
   "cell_type": "markdown",
   "id": "cfdcbb61-27b0-4c65-921b-8a81cc35fd7b",
   "metadata": {
    "tags": []
   },
   "source": [
    "# Plot data"
   ]
  },
  {
   "cell_type": "markdown",
   "id": "ffc42fd3-e7b1-4303-b6b6-cb8ce89edef4",
   "metadata": {},
   "source": [
    "Como se vio anteriormente los flujos de datos con direccion \"A\" pueden tomarse como los datos en una sola dirección\n",
    "El protoclo DNP3 tiene el numero 244 asi que se filtra "
   ]
  },
  {
   "cell_type": "code",
   "execution_count": 41,
   "id": "4e221169-5db9-4f42-8779-b52645d2c7d1",
   "metadata": {
    "tags": []
   },
   "outputs": [
    {
     "data": {
      "text/html": [
       "<div>\n",
       "<style scoped>\n",
       "    .dataframe tbody tr th:only-of-type {\n",
       "        vertical-align: middle;\n",
       "    }\n",
       "\n",
       "    .dataframe tbody tr th {\n",
       "        vertical-align: top;\n",
       "    }\n",
       "\n",
       "    .dataframe thead th {\n",
       "        text-align: right;\n",
       "    }\n",
       "</style>\n",
       "<table border=\"1\" class=\"dataframe\">\n",
       "  <thead>\n",
       "    <tr style=\"text-align: right;\">\n",
       "      <th></th>\n",
       "      <th>%dir</th>\n",
       "      <th>flowInd</th>\n",
       "      <th>flowStat</th>\n",
       "      <th>timeFirst</th>\n",
       "      <th>timeLast</th>\n",
       "      <th>duration</th>\n",
       "      <th>srcIP</th>\n",
       "      <th>srcPort</th>\n",
       "      <th>dstIP</th>\n",
       "      <th>dstPort</th>\n",
       "      <th>...</th>\n",
       "      <th>dstPortClassN</th>\n",
       "      <th>dstPortClass</th>\n",
       "      <th>nDPIMasterProto</th>\n",
       "      <th>nDPISubProto</th>\n",
       "      <th>nDPIclass</th>\n",
       "      <th>numPktsSnt</th>\n",
       "      <th>numPktsRTAggr</th>\n",
       "      <th>numBytesSnt</th>\n",
       "      <th>numBytesRTAggr</th>\n",
       "      <th>tcpStatesAFlags</th>\n",
       "    </tr>\n",
       "  </thead>\n",
       "  <tbody>\n",
       "    <tr>\n",
       "      <th>0</th>\n",
       "      <td>B</td>\n",
       "      <td>4348</td>\n",
       "      <td>0x0400000000004001</td>\n",
       "      <td>1.673971e+09</td>\n",
       "      <td>1.673971e+09</td>\n",
       "      <td>0.456567</td>\n",
       "      <td>9.9.5.30</td>\n",
       "      <td>20000</td>\n",
       "      <td>9.9.5.10</td>\n",
       "      <td>50515</td>\n",
       "      <td>...</td>\n",
       "      <td>20000</td>\n",
       "      <td>dnp</td>\n",
       "      <td>244</td>\n",
       "      <td>0</td>\n",
       "      <td>DNP3</td>\n",
       "      <td>19</td>\n",
       "      <td>47</td>\n",
       "      <td>1110</td>\n",
       "      <td>5300</td>\n",
       "      <td>0x03</td>\n",
       "    </tr>\n",
       "    <tr>\n",
       "      <th>1</th>\n",
       "      <td>A</td>\n",
       "      <td>4348</td>\n",
       "      <td>0x0400000000004000</td>\n",
       "      <td>1.673971e+09</td>\n",
       "      <td>1.673971e+09</td>\n",
       "      <td>19.672863</td>\n",
       "      <td>9.9.5.10</td>\n",
       "      <td>50515</td>\n",
       "      <td>9.9.5.30</td>\n",
       "      <td>20000</td>\n",
       "      <td>...</td>\n",
       "      <td>20000</td>\n",
       "      <td>dnp</td>\n",
       "      <td>244</td>\n",
       "      <td>0</td>\n",
       "      <td>DNP3</td>\n",
       "      <td>28</td>\n",
       "      <td>47</td>\n",
       "      <td>4190</td>\n",
       "      <td>5300</td>\n",
       "      <td>0x43</td>\n",
       "    </tr>\n",
       "    <tr>\n",
       "      <th>2</th>\n",
       "      <td>A</td>\n",
       "      <td>4367</td>\n",
       "      <td>0x0400000000004000</td>\n",
       "      <td>1.673971e+09</td>\n",
       "      <td>1.673971e+09</td>\n",
       "      <td>0.000000</td>\n",
       "      <td>9.9.5.10</td>\n",
       "      <td>24556</td>\n",
       "      <td>9.9.5.30</td>\n",
       "      <td>20000</td>\n",
       "      <td>...</td>\n",
       "      <td>20000</td>\n",
       "      <td>dnp</td>\n",
       "      <td>244</td>\n",
       "      <td>0</td>\n",
       "      <td>DNP3</td>\n",
       "      <td>1</td>\n",
       "      <td>2</td>\n",
       "      <td>0</td>\n",
       "      <td>0</td>\n",
       "      <td>0x03</td>\n",
       "    </tr>\n",
       "    <tr>\n",
       "      <th>3</th>\n",
       "      <td>B</td>\n",
       "      <td>4367</td>\n",
       "      <td>0x0400000000004001</td>\n",
       "      <td>1.673971e+09</td>\n",
       "      <td>1.673971e+09</td>\n",
       "      <td>0.000000</td>\n",
       "      <td>9.9.5.30</td>\n",
       "      <td>20000</td>\n",
       "      <td>9.9.5.10</td>\n",
       "      <td>24556</td>\n",
       "      <td>...</td>\n",
       "      <td>20000</td>\n",
       "      <td>dnp</td>\n",
       "      <td>244</td>\n",
       "      <td>0</td>\n",
       "      <td>DNP3</td>\n",
       "      <td>1</td>\n",
       "      <td>2</td>\n",
       "      <td>0</td>\n",
       "      <td>0</td>\n",
       "      <td>0x43</td>\n",
       "    </tr>\n",
       "    <tr>\n",
       "      <th>4</th>\n",
       "      <td>A</td>\n",
       "      <td>4369</td>\n",
       "      <td>0x0400000000004000</td>\n",
       "      <td>1.673971e+09</td>\n",
       "      <td>1.673971e+09</td>\n",
       "      <td>0.000000</td>\n",
       "      <td>9.9.5.10</td>\n",
       "      <td>24558</td>\n",
       "      <td>9.9.5.30</td>\n",
       "      <td>20000</td>\n",
       "      <td>...</td>\n",
       "      <td>20000</td>\n",
       "      <td>dnp</td>\n",
       "      <td>244</td>\n",
       "      <td>0</td>\n",
       "      <td>DNP3</td>\n",
       "      <td>1</td>\n",
       "      <td>2</td>\n",
       "      <td>0</td>\n",
       "      <td>0</td>\n",
       "      <td>0x03</td>\n",
       "    </tr>\n",
       "  </tbody>\n",
       "</table>\n",
       "<p>5 rows × 21 columns</p>\n",
       "</div>"
      ],
      "text/plain": [
       "  %dir  flowInd            flowStat     timeFirst      timeLast   duration   \n",
       "0    B     4348  0x0400000000004001  1.673971e+09  1.673971e+09   0.456567  \\\n",
       "1    A     4348  0x0400000000004000  1.673971e+09  1.673971e+09  19.672863   \n",
       "2    A     4367  0x0400000000004000  1.673971e+09  1.673971e+09   0.000000   \n",
       "3    B     4367  0x0400000000004001  1.673971e+09  1.673971e+09   0.000000   \n",
       "4    A     4369  0x0400000000004000  1.673971e+09  1.673971e+09   0.000000   \n",
       "\n",
       "      srcIP  srcPort     dstIP  dstPort  ...  dstPortClassN  dstPortClass   \n",
       "0  9.9.5.30    20000  9.9.5.10    50515  ...          20000           dnp  \\\n",
       "1  9.9.5.10    50515  9.9.5.30    20000  ...          20000           dnp   \n",
       "2  9.9.5.10    24556  9.9.5.30    20000  ...          20000           dnp   \n",
       "3  9.9.5.30    20000  9.9.5.10    24556  ...          20000           dnp   \n",
       "4  9.9.5.10    24558  9.9.5.30    20000  ...          20000           dnp   \n",
       "\n",
       "  nDPIMasterProto  nDPISubProto  nDPIclass numPktsSnt  numPktsRTAggr   \n",
       "0             244             0       DNP3         19             47  \\\n",
       "1             244             0       DNP3         28             47   \n",
       "2             244             0       DNP3          1              2   \n",
       "3             244             0       DNP3          1              2   \n",
       "4             244             0       DNP3          1              2   \n",
       "\n",
       "   numBytesSnt  numBytesRTAggr  tcpStatesAFlags  \n",
       "0         1110            5300             0x03  \n",
       "1         4190            5300             0x43  \n",
       "2            0               0             0x03  \n",
       "3            0               0             0x43  \n",
       "4            0               0             0x03  \n",
       "\n",
       "[5 rows x 21 columns]"
      ]
     },
     "execution_count": 41,
     "metadata": {},
     "output_type": "execute_result"
    }
   ],
   "source": [
    "tmp = dfperla[dfperla['%dir'] == 'A']\n",
    "tmp = dfperla[dfperla['nDPIMasterProto'] == 244]\n",
    "tmp.head()"
   ]
  },
  {
   "cell_type": "code",
   "execution_count": 42,
   "id": "2c68c290-cc43-41bb-a333-f402ee269015",
   "metadata": {
    "tags": []
   },
   "outputs": [
    {
     "data": {
      "text/plain": [
       "<Axes: xlabel='timeLast'>"
      ]
     },
     "execution_count": 42,
     "metadata": {},
     "output_type": "execute_result"
    },
    {
     "data": {
      "image/png": "[encoded data removed]",
      "text/plain": [
       "<Figure size 640x480 with 1 Axes>"
      ]
     },
     "metadata": {},
     "output_type": "display_data"
    }
   ],
   "source": [
    "#\n",
    "tmp.plot(x=\"timeLast\", y=[\"numBytesRTAggr\"])"
   ]
  },
  {
   "cell_type": "code",
   "execution_count": 43,
   "id": "ffd1a464-2178-44d9-be7f-f823d732d0f4",
   "metadata": {
    "tags": []
   },
   "outputs": [
    {
     "data": {
      "text/plain": [
       "<Axes: xlabel='timeLast'>"
      ]
     },
     "execution_count": 43,
     "metadata": {},
     "output_type": "execute_result"
    },
    {
     "data": {
      "image/png": "[encoded data removed]",
      "text/plain": [
       "<Figure size 640x480 with 1 Axes>"
      ]
     },
     "metadata": {},
     "output_type": "display_data"
    }
   ],
   "source": [
    "tmp = dfperla[dfperla['%dir'] == 'B']\n",
    "tmp = dfperla[dfperla['nDPIMasterProto'] == 244]\n",
    "tmp.plot(x=\"timeLast\", y=[\"numBytesRTAggr\"])\n"
   ]
  }
 ],
 "metadata": {
  "kernelspec": {
   "display_name": ".vev_jupyter",
   "language": "python",
   "name": ".vev_jupyter"
  },
  "language_info": {
   "codemirror_mode": {
    "name": "ipython",
    "version": 3
   },
   "file_extension": ".py",
   "mimetype": "text/x-python",
   "name": "python",
   "nbconvert_exporter": "python",
   "pygments_lexer": "ipython3",
   "version": "3.9.2"
  }
 },
 "nbformat": 4,
 "nbformat_minor": 5
}
