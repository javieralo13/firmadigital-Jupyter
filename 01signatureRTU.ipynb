{
 "cells": [
  {
   "cell_type": "code",
   "execution_count": 1,
   "id": "3c0e2200-e18a-4aff-8700-d39a3151aa36",
   "metadata": {
    "tags": []
   },
   "outputs": [
    {
     "data": {
      "text/html": [
       "<img src=\"https://mermaid.ink/img/pako:eNp9UmFvmzAQ_SuWK5RNChEh2QZomkQSoNUYYyMRi-J8cI0TUIlNwayLIP99pmFMVaX6LPl899753ckNJDyh0IKK0oCMZcICDRgdcv5EUlyK0fOV1OVvKt0Rw6IucT4Cl84UBbEBCfyfiCHhOrtlFCHEbtfffHmAvap-aUv6WNNKtIHXYQKvCby74Be4XHNVwVlFW9fpklV9fyxxkYIFJg-UJV1MGgNyBd5nydjEuzqOvDtZXe4TziapOOX7KzDw1InaIhg7CzsMtSmY6p8mmrSpZWjaVBL6jP4yoyPYq0NiE3fP2EWh5vyYkV7Bf2WvMklWUiIyzsBi3cU6ravF7l3IK3GU_b3fA66qHLRFdSa8OLYg3O7C7fr2eyAFub4dfZVn9MO3c5LS03n_r8hz_y-cQYRbciaGcDe7Aaco0XrrO1HPEOecSgA4ZHlu3SyXjuHY40qU_IFaN7PZwnDd_qo-ZYlILb34c-3sSg28nmrqztJ0BqqmmR9n5pvUTdxT7zVifCAD1ZiZ8_n8Teow5L6Ca7rmyhgqOKZjmstXFeAYnmgp_0Qiv3TTDQBBIUdKEbSkm9ADrnOBIGIXCcW14NGZEWiJsqZjWBcJFnSVYTniE7QOOK_o5S-A8Qkm?type=png)](https://mermaid.live/edit#pako:eNp9UmFvmzAQ_SuWK5RNChEh2QZomkQSoNUYYyMRi-J8cI0TUIlNwayLIP99pmFMVaX6LPl899753ckNJDyh0IKK0oCMZcICDRgdcv5EUlyK0fOV1OVvKt0Rw6IucT4Cl84UBbEBCfyfiCHhOrtlFCHEbtfffHmAvap-aUv6WNNKtIHXYQKvCby74Be4XHNVwVlFW9fpklV9fyxxkYIFJg-UJV1MGgNyBd5nydjEuzqOvDtZXe4TziapOOX7KzDw1InaIhg7CzsMtSmY6p8mmrSpZWjaVBL6jP4yoyPYq0NiE3fP2EWh5vyYkV7Bf2WvMklWUiIyzsBi3cU6ravF7l3IK3GU_b3fA66qHLRFdSa8OLYg3O7C7fr2eyAFub4dfZVn9MO3c5LS03n_r8hz_y-cQYRbciaGcDe7Aaco0XrrO1HPEOecSgA4ZHlu3SyXjuHY40qU_IFaN7PZwnDd_qo-ZYlILb34c-3sSg28nmrqztJ0BqqmmR9n5pvUTdxT7zVifCAD1ZiZ8_n8Teow5L6Ca7rmyhgqOKZjmstXFeAYnmgp_0Qiv3TTDQBBIUdKEbSkm9ADrnOBIGIXCcW14NGZEWiJsqZjWBcJFnSVYTniE7QOOK_o5S-A8Qkm\"/>"
      ],
      "text/plain": [
       "<IPython.core.display.Image object>"
      ]
     },
     "metadata": {},
     "output_type": "display_data"
    }
   ],
   "source": [
    "import base64\n",
    "from IPython.display import Image, display\n",
    "import matplotlib.pyplot as plt\n",
    "\n",
    "def mm(graph):\n",
    "  graphbytes = graph.encode(\"ascii\")\n",
    "  base64_bytes = base64.b64encode(graphbytes)\n",
    "  base64_string = base64_bytes.decode(\"ascii\")\n",
    "  #display(Image(url=\"https://mermaid.ink/img/\" + base64_string))\n",
    "  display(Image(url=\"https://mermaid.ink/img/pako:eNp9UmFvmzAQ_SuWK5RNChEh2QZomkQSoNUYYyMRi-J8cI0TUIlNwayLIP99pmFMVaX6LPl899753ckNJDyh0IKK0oCMZcICDRgdcv5EUlyK0fOV1OVvKt0Rw6IucT4Cl84UBbEBCfyfiCHhOrtlFCHEbtfffHmAvap-aUv6WNNKtIHXYQKvCby74Be4XHNVwVlFW9fpklV9fyxxkYIFJg-UJV1MGgNyBd5nydjEuzqOvDtZXe4TziapOOX7KzDw1InaIhg7CzsMtSmY6p8mmrSpZWjaVBL6jP4yoyPYq0NiE3fP2EWh5vyYkV7Bf2WvMklWUiIyzsBi3cU6ravF7l3IK3GU_b3fA66qHLRFdSa8OLYg3O7C7fr2eyAFub4dfZVn9MO3c5LS03n_r8hz_y-cQYRbciaGcDe7Aaco0XrrO1HPEOecSgA4ZHlu3SyXjuHY40qU_IFaN7PZwnDd_qo-ZYlILb34c-3sSg28nmrqztJ0BqqmmR9n5pvUTdxT7zVifCAD1ZiZ8_n8Teow5L6Ca7rmyhgqOKZjmstXFeAYnmgp_0Qiv3TTDQBBIUdKEbSkm9ADrnOBIGIXCcW14NGZEWiJsqZjWBcJFnSVYTniE7QOOK_o5S-A8Qkm?type=png)](https://mermaid.live/edit#pako:eNp9UmFvmzAQ_SuWK5RNChEh2QZomkQSoNUYYyMRi-J8cI0TUIlNwayLIP99pmFMVaX6LPl899753ckNJDyh0IKK0oCMZcICDRgdcv5EUlyK0fOV1OVvKt0Rw6IucT4Cl84UBbEBCfyfiCHhOrtlFCHEbtfffHmAvap-aUv6WNNKtIHXYQKvCby74Be4XHNVwVlFW9fpklV9fyxxkYIFJg-UJV1MGgNyBd5nydjEuzqOvDtZXe4TziapOOX7KzDw1InaIhg7CzsMtSmY6p8mmrSpZWjaVBL6jP4yoyPYq0NiE3fP2EWh5vyYkV7Bf2WvMklWUiIyzsBi3cU6ravF7l3IK3GU_b3fA66qHLRFdSa8OLYg3O7C7fr2eyAFub4dfZVn9MO3c5LS03n_r8hz_y-cQYRbciaGcDe7Aaco0XrrO1HPEOecSgA4ZHlu3SyXjuHY40qU_IFaN7PZwnDd_qo-ZYlILb34c-3sSg28nmrqztJ0BqqmmR9n5pvUTdxT7zVifCAD1ZiZ8_n8Teow5L6Ca7rmyhgqOKZjmstXFeAYnmgp_0Qiv3TTDQBBIUdKEbSkm9ADrnOBIGIXCcW14NGZEWiJsqZjWBcJFnSVYTniE7QOOK_o5S-A8Qkm\"))\n",
    "\n",
    "mm(\"\"\"\n",
    "flowchart LR\n",
    "    FE[CSS\\nHTML\\n ]-->|request|NG\n",
    "    NG{NGINX }-->|response|FE\n",
    "\n",
    "\n",
    "\"\"\")"
   ]
  },
  {
   "cell_type": "code",
   "execution_count": 8,
   "id": "ffda076f-d825-42a7-8ed6-5aabf9c633d0",
   "metadata": {
    "tags": []
   },
   "outputs": [
    {
     "name": "stdout",
     "output_type": "stream",
     "text": [
      "8.12.0\n"
     ]
    }
   ],
   "source": []
  }
 ],
 "metadata": {
  "kernelspec": {
   "display_name": ".vev_jupyter",
   "language": "python",
   "name": ".vev_jupyter"
  },
  "language_info": {
   "codemirror_mode": {
    "name": "ipython",
    "version": 3
   },
   "file_extension": ".py",
   "mimetype": "text/x-python",
   "name": "python",
   "nbconvert_exporter": "python",
   "pygments_lexer": "ipython3",
   "version": "3.9.2"
  }
 },
 "nbformat": 4,
 "nbformat_minor": 5
}
